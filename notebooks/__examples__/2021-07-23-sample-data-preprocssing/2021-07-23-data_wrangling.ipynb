{
 "cells": [
  {
   "cell_type": "markdown",
   "metadata": {
    "id": "OA0xj02k-qM_"
   },
   "source": [
    "# **Data Wrangling in Python with Pandas**\n",
    "\n",
    "Go through this notebook to walk through a sample workflow for data wrangling."
   ]
  },
  {
   "cell_type": "markdown",
   "metadata": {
    "id": "GQMqj7z2QCWR"
   },
   "source": [
    "# **Import Packages**"
   ]
  },
  {
   "cell_type": "code",
   "execution_count": 1,
   "metadata": {
    "id": "m35m_ysj0IDp"
   },
   "outputs": [],
   "source": [
    "import pandas as pd\n",
    "import numpy as np\n",
    "import missingno\n",
    "\n",
    "import sys\n",
    "\n",
    "sys.path.append(\"../../\")  # include parent directory"
   ]
  },
  {
   "cell_type": "markdown",
   "metadata": {
    "id": "sIaQqx0fQHik"
   },
   "source": [
    "# **Load data**"
   ]
  },
  {
   "cell_type": "code",
   "execution_count": 2,
   "metadata": {
    "cellView": "both",
    "id": "ubZB-Q3lAtmE"
   },
   "outputs": [],
   "source": [
    "df = pd.read_csv(\n",
    "    \"https://raw.githubusercontent.com/chiaraledesma/nyc_yellow_trips_2018_sample/master/nyc_yellow_trips.csv\",\n",
    "    # Need to specify which are the date columns so that you can use date functions on them later!\n",
    "    parse_dates=[\"pickup_datetime\", \"dropoff_datetime\"],\n",
    ")"
   ]
  },
  {
   "cell_type": "code",
   "execution_count": 3,
   "metadata": {
    "id": "oaTLkndBZAGF"
   },
   "outputs": [],
   "source": [
    "# Save a raw DF in case you mess up\n",
    "df_raw = df.copy()"
   ]
  },
  {
   "cell_type": "code",
   "execution_count": 4,
   "metadata": {
    "colab": {
     "base_uri": "https://localhost:8080/"
    },
    "id": "hxVauLXIhIKw",
    "outputId": "57ad5eae-f214-4924-d1c3-5dc5769c49d9"
   },
   "outputs": [
    {
     "data": {
      "text/html": [
       "<div>\n",
       "<style scoped>\n",
       "    .dataframe tbody tr th:only-of-type {\n",
       "        vertical-align: middle;\n",
       "    }\n",
       "\n",
       "    .dataframe tbody tr th {\n",
       "        vertical-align: top;\n",
       "    }\n",
       "\n",
       "    .dataframe thead th {\n",
       "        text-align: right;\n",
       "    }\n",
       "</style>\n",
       "<table border=\"1\" class=\"dataframe\">\n",
       "  <thead>\n",
       "    <tr style=\"text-align: right;\">\n",
       "      <th></th>\n",
       "      <th>vendor_id</th>\n",
       "      <th>pickup_datetime</th>\n",
       "      <th>dropoff_datetime</th>\n",
       "      <th>passenger_count</th>\n",
       "      <th>trip_distance</th>\n",
       "      <th>rate_code</th>\n",
       "      <th>store_and_fwd_flag</th>\n",
       "      <th>payment_type</th>\n",
       "      <th>fare_amount</th>\n",
       "      <th>extra</th>\n",
       "      <th>mta_tax</th>\n",
       "      <th>tip_amount</th>\n",
       "      <th>tolls_amount</th>\n",
       "      <th>imp_surcharge</th>\n",
       "      <th>total_amount</th>\n",
       "      <th>pickup_location_id</th>\n",
       "      <th>dropoff_location_id</th>\n",
       "    </tr>\n",
       "  </thead>\n",
       "  <tbody>\n",
       "    <tr>\n",
       "      <th>0</th>\n",
       "      <td>2</td>\n",
       "      <td>2084-04-11 11:41:00</td>\n",
       "      <td>2084-04-11 11:59:00</td>\n",
       "      <td>1</td>\n",
       "      <td>1.65</td>\n",
       "      <td>1</td>\n",
       "      <td>N</td>\n",
       "      <td>2</td>\n",
       "      <td>12.5</td>\n",
       "      <td>NaN</td>\n",
       "      <td>0.5</td>\n",
       "      <td>NaN</td>\n",
       "      <td>NaN</td>\n",
       "      <td>0.3</td>\n",
       "      <td>13.3</td>\n",
       "      <td>68</td>\n",
       "      <td>237</td>\n",
       "    </tr>\n",
       "    <tr>\n",
       "      <th>1</th>\n",
       "      <td>2</td>\n",
       "      <td>2084-04-11 12:32:00</td>\n",
       "      <td>2084-04-11 12:47:00</td>\n",
       "      <td>1</td>\n",
       "      <td>1.34</td>\n",
       "      <td>1</td>\n",
       "      <td>N</td>\n",
       "      <td>2</td>\n",
       "      <td>10.0</td>\n",
       "      <td>NaN</td>\n",
       "      <td>0.5</td>\n",
       "      <td>NaN</td>\n",
       "      <td>NaN</td>\n",
       "      <td>0.3</td>\n",
       "      <td>10.8</td>\n",
       "      <td>238</td>\n",
       "      <td>236</td>\n",
       "    </tr>\n",
       "    <tr>\n",
       "      <th>2</th>\n",
       "      <td>2</td>\n",
       "      <td>2084-04-11 11:02:00</td>\n",
       "      <td>2084-04-11 11:15:00</td>\n",
       "      <td>1</td>\n",
       "      <td>1.85</td>\n",
       "      <td>1</td>\n",
       "      <td>N</td>\n",
       "      <td>2</td>\n",
       "      <td>10.0</td>\n",
       "      <td>NaN</td>\n",
       "      <td>0.5</td>\n",
       "      <td>NaN</td>\n",
       "      <td>NaN</td>\n",
       "      <td>0.3</td>\n",
       "      <td>10.8</td>\n",
       "      <td>113</td>\n",
       "      <td>137</td>\n",
       "    </tr>\n",
       "    <tr>\n",
       "      <th>3</th>\n",
       "      <td>2</td>\n",
       "      <td>2084-04-11 11:27:00</td>\n",
       "      <td>2084-04-11 11:39:00</td>\n",
       "      <td>1</td>\n",
       "      <td>1.07</td>\n",
       "      <td>1</td>\n",
       "      <td>N</td>\n",
       "      <td>2</td>\n",
       "      <td>9.0</td>\n",
       "      <td>NaN</td>\n",
       "      <td>0.5</td>\n",
       "      <td>NaN</td>\n",
       "      <td>NaN</td>\n",
       "      <td>0.3</td>\n",
       "      <td>9.8</td>\n",
       "      <td>170</td>\n",
       "      <td>68</td>\n",
       "    </tr>\n",
       "    <tr>\n",
       "      <th>4</th>\n",
       "      <td>2</td>\n",
       "      <td>2084-04-11 11:02:00</td>\n",
       "      <td>2084-04-11 11:15:00</td>\n",
       "      <td>1</td>\n",
       "      <td>1.85</td>\n",
       "      <td>1</td>\n",
       "      <td>N</td>\n",
       "      <td>2</td>\n",
       "      <td>10.0</td>\n",
       "      <td>NaN</td>\n",
       "      <td>0.5</td>\n",
       "      <td>NaN</td>\n",
       "      <td>NaN</td>\n",
       "      <td>0.3</td>\n",
       "      <td>10.8</td>\n",
       "      <td>113</td>\n",
       "      <td>137</td>\n",
       "    </tr>\n",
       "  </tbody>\n",
       "</table>\n",
       "</div>"
      ],
      "text/plain": [
       "   vendor_id     pickup_datetime    dropoff_datetime  passenger_count  \\\n",
       "0          2 2084-04-11 11:41:00 2084-04-11 11:59:00                1   \n",
       "1          2 2084-04-11 12:32:00 2084-04-11 12:47:00                1   \n",
       "2          2 2084-04-11 11:02:00 2084-04-11 11:15:00                1   \n",
       "3          2 2084-04-11 11:27:00 2084-04-11 11:39:00                1   \n",
       "4          2 2084-04-11 11:02:00 2084-04-11 11:15:00                1   \n",
       "\n",
       "   trip_distance  rate_code store_and_fwd_flag  payment_type  fare_amount  \\\n",
       "0           1.65          1                  N             2         12.5   \n",
       "1           1.34          1                  N             2         10.0   \n",
       "2           1.85          1                  N             2         10.0   \n",
       "3           1.07          1                  N             2          9.0   \n",
       "4           1.85          1                  N             2         10.0   \n",
       "\n",
       "   extra  mta_tax  tip_amount  tolls_amount  imp_surcharge  total_amount  \\\n",
       "0    NaN      0.5         NaN           NaN            0.3          13.3   \n",
       "1    NaN      0.5         NaN           NaN            0.3          10.8   \n",
       "2    NaN      0.5         NaN           NaN            0.3          10.8   \n",
       "3    NaN      0.5         NaN           NaN            0.3           9.8   \n",
       "4    NaN      0.5         NaN           NaN            0.3          10.8   \n",
       "\n",
       "   pickup_location_id  dropoff_location_id  \n",
       "0                  68                  237  \n",
       "1                 238                  236  \n",
       "2                 113                  137  \n",
       "3                 170                   68  \n",
       "4                 113                  137  "
      ]
     },
     "execution_count": 4,
     "metadata": {},
     "output_type": "execute_result"
    }
   ],
   "source": [
    "df.head(5)"
   ]
  },
  {
   "cell_type": "markdown",
   "metadata": {
    "id": "A1hu6Y5leMUA"
   },
   "source": [
    "# **Profile and explore data**\n",
    "\n",
    "![Screen Shot 2020-09-30 at 4.45.38 PM.png](data:image/png;base64,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)"
   ]
  },
  {
   "cell_type": "markdown",
   "metadata": {
    "id": "gpEmeAvBdFmd"
   },
   "source": [
    "🏁 **Tips and Tricks Flag**\n",
    "> *Look for a data dictionary (if available)!!! It provides a lot of domain knowledge that keeps you from guessing.*"
   ]
  },
  {
   "cell_type": "markdown",
   "metadata": {
    "id": "2z0kLtn6PafS"
   },
   "source": [
    "Columns according to the data dictionary:\n",
    "- **vendor_id**: A code indicating the TPEP provider that provided the record.\n",
    "1= Creative Mobile Technologies, LLC; 2= VeriFone Inc\n",
    "- **pickup_datetime**: The date and time when the meter was engaged.\n",
    "- **dropoff_datetime**: The date and time when the meter was disengaged.\n",
    "- **passenger_count**: The number of passengers in the vehicle.\n",
    "This is a driver-entered value.\n",
    "- **trip_distance**: The elapsed trip distance in miles reported by the taximeter.\n",
    "- **pickup_location_id**: TLC Taxi Zone in which the taximeter was engaged\n",
    "- **dropoff_location_id**: TLC Taxi Zone in which the taximeter was disengaged\n",
    "- **rate_code**: The final rate code in effect at the end of the trip.\n",
    "1= Standard rate\n",
    "2=JFK\n",
    "3=Newark\n",
    "4=Nassau or Westchester\n",
    "5=Negotiated fare\n",
    "6=Group ride\n",
    "- **store_and_fwd_flag**: This flag indicates whether the trip record was held in vehicle memory before sending to the vendor, aka “store and forward,”\n",
    "because the vehicle did not have a connection to the server.\n",
    "Y= store and forward trip\n",
    "N= not a store and forward trip\n",
    "- **payment_type**: A numeric code signifying how the passenger paid for the trip.\n",
    "1= Credit card\n",
    "2= Cash\n",
    "3= No charge\n",
    "4= Dispute\n",
    "5= Unknown\n",
    "6= Voided trip\n",
    "- **fare_amount**: The time-and-distance fare calculated by the meter.\n",
    "- **extra**: Miscellaneous extras and surcharges. Currently, this only includes\n",
    "the 0.50 and 1 dollar rush hour and overnight charges.\n",
    "- **mta_tax**: 0.50 MTA tax that is automatically triggered based on the metered\n",
    "rate in use.\n",
    "- **imp_surcharge**: $0.30 improvement surcharge assessed trips at the flag drop. The improvement surcharge began being levied in 2015.\n",
    "- **tip_amount**: Tip amount – This field is automatically populated for credit card tips. Cash tips are not included.\n",
    "- **tolls_amount**: Total amount of all tolls paid in trip.\n",
    "- **total_amount**: The total amount charged to passengers. Does not include cash tips."
   ]
  },
  {
   "cell_type": "code",
   "execution_count": 5,
   "metadata": {
    "colab": {
     "base_uri": "https://localhost:8080/"
    },
    "id": "LnxCN4qFeDc5",
    "outputId": "349ffc9c-46b0-4ef1-b5ef-a4d45ba82517"
   },
   "outputs": [
    {
     "data": {
      "text/plain": [
       "(10500, 17)"
      ]
     },
     "execution_count": 5,
     "metadata": {},
     "output_type": "execute_result"
    }
   ],
   "source": [
    "# Get number of rows, columns of DataFrame\n",
    "\n",
    "df.shape"
   ]
  },
  {
   "cell_type": "code",
   "execution_count": 6,
   "metadata": {
    "colab": {
     "base_uri": "https://localhost:8080/"
    },
    "id": "mmKy4FuxVYPS",
    "outputId": "9f0992ca-ab03-471f-ace4-22a61950b631"
   },
   "outputs": [
    {
     "data": {
      "text/plain": [
       "Index(['vendor_id', 'pickup_datetime', 'dropoff_datetime', 'passenger_count',\n",
       "       'trip_distance', 'rate_code', 'store_and_fwd_flag', 'payment_type',\n",
       "       'fare_amount', 'extra', 'mta_tax', 'tip_amount', 'tolls_amount',\n",
       "       'imp_surcharge', 'total_amount', 'pickup_location_id',\n",
       "       'dropoff_location_id'],\n",
       "      dtype='object')"
      ]
     },
     "execution_count": 6,
     "metadata": {},
     "output_type": "execute_result"
    }
   ],
   "source": [
    "# Get column names\n",
    "\n",
    "df.columns"
   ]
  },
  {
   "cell_type": "code",
   "execution_count": 7,
   "metadata": {
    "colab": {
     "base_uri": "https://localhost:8080/"
    },
    "id": "5wvZUZP7YJJp",
    "outputId": "1e97d499-14ec-4989-8c1c-30dc19dc2b33"
   },
   "outputs": [
    {
     "name": "stdout",
     "output_type": "stream",
     "text": [
      "<class 'pandas.core.frame.DataFrame'>\n",
      "RangeIndex: 10500 entries, 0 to 10499\n",
      "Data columns (total 17 columns):\n",
      " #   Column               Non-Null Count  Dtype         \n",
      "---  ------               --------------  -----         \n",
      " 0   vendor_id            10500 non-null  int64         \n",
      " 1   pickup_datetime      10500 non-null  datetime64[ns]\n",
      " 2   dropoff_datetime     10500 non-null  datetime64[ns]\n",
      " 3   passenger_count      10500 non-null  int64         \n",
      " 4   trip_distance        10500 non-null  float64       \n",
      " 5   rate_code            10500 non-null  int64         \n",
      " 6   store_and_fwd_flag   10500 non-null  object        \n",
      " 7   payment_type         10500 non-null  int64         \n",
      " 8   fare_amount          10487 non-null  float64       \n",
      " 9   extra                4641 non-null   float64       \n",
      " 10  mta_tax              10500 non-null  float64       \n",
      " 11  tip_amount           10104 non-null  float64       \n",
      " 12  tolls_amount         3966 non-null   float64       \n",
      " 13  imp_surcharge        10500 non-null  float64       \n",
      " 14  total_amount         10500 non-null  float64       \n",
      " 15  pickup_location_id   10500 non-null  int64         \n",
      " 16  dropoff_location_id  10500 non-null  int64         \n",
      "dtypes: datetime64[ns](2), float64(8), int64(6), object(1)\n",
      "memory usage: 1.4+ MB\n"
     ]
    }
   ],
   "source": [
    "df.info()"
   ]
  },
  {
   "cell_type": "code",
   "execution_count": 8,
   "metadata": {
    "colab": {
     "base_uri": "https://localhost:8080/"
    },
    "id": "8GzQgOezd6w9",
    "outputId": "9c7d30a8-1816-4cc6-c816-f960061ca921"
   },
   "outputs": [
    {
     "data": {
      "text/html": [
       "<div>\n",
       "<style scoped>\n",
       "    .dataframe tbody tr th:only-of-type {\n",
       "        vertical-align: middle;\n",
       "    }\n",
       "\n",
       "    .dataframe tbody tr th {\n",
       "        vertical-align: top;\n",
       "    }\n",
       "\n",
       "    .dataframe thead th {\n",
       "        text-align: right;\n",
       "    }\n",
       "</style>\n",
       "<table border=\"1\" class=\"dataframe\">\n",
       "  <thead>\n",
       "    <tr style=\"text-align: right;\">\n",
       "      <th></th>\n",
       "      <th>vendor_id</th>\n",
       "      <th>passenger_count</th>\n",
       "      <th>trip_distance</th>\n",
       "      <th>rate_code</th>\n",
       "      <th>payment_type</th>\n",
       "      <th>fare_amount</th>\n",
       "      <th>extra</th>\n",
       "      <th>mta_tax</th>\n",
       "      <th>tip_amount</th>\n",
       "      <th>tolls_amount</th>\n",
       "      <th>imp_surcharge</th>\n",
       "      <th>total_amount</th>\n",
       "      <th>pickup_location_id</th>\n",
       "      <th>dropoff_location_id</th>\n",
       "    </tr>\n",
       "  </thead>\n",
       "  <tbody>\n",
       "    <tr>\n",
       "      <th>count</th>\n",
       "      <td>10500.000000</td>\n",
       "      <td>10500.000000</td>\n",
       "      <td>10500.000000</td>\n",
       "      <td>10500.000000</td>\n",
       "      <td>10500.000000</td>\n",
       "      <td>10487.000000</td>\n",
       "      <td>4641.000000</td>\n",
       "      <td>10500.000000</td>\n",
       "      <td>10104.000000</td>\n",
       "      <td>3966.000000</td>\n",
       "      <td>10500.000000</td>\n",
       "      <td>10500.000000</td>\n",
       "      <td>10500.000000</td>\n",
       "      <td>10500.000000</td>\n",
       "    </tr>\n",
       "    <tr>\n",
       "      <th>mean</th>\n",
       "      <td>1.613238</td>\n",
       "      <td>1.560857</td>\n",
       "      <td>38.333547</td>\n",
       "      <td>1.276667</td>\n",
       "      <td>1.031333</td>\n",
       "      <td>56.538804</td>\n",
       "      <td>0.704501</td>\n",
       "      <td>0.482321</td>\n",
       "      <td>7.633597</td>\n",
       "      <td>7.213822</td>\n",
       "      <td>0.299629</td>\n",
       "      <td>67.642465</td>\n",
       "      <td>153.869333</td>\n",
       "      <td>153.039238</td>\n",
       "    </tr>\n",
       "    <tr>\n",
       "      <th>std</th>\n",
       "      <td>0.520497</td>\n",
       "      <td>1.202836</td>\n",
       "      <td>1855.031161</td>\n",
       "      <td>0.959574</td>\n",
       "      <td>0.188409</td>\n",
       "      <td>304.346638</td>\n",
       "      <td>0.366325</td>\n",
       "      <td>0.613470</td>\n",
       "      <td>7.581235</td>\n",
       "      <td>6.134389</td>\n",
       "      <td>0.011333</td>\n",
       "      <td>304.669846</td>\n",
       "      <td>60.516251</td>\n",
       "      <td>78.059690</td>\n",
       "    </tr>\n",
       "    <tr>\n",
       "      <th>min</th>\n",
       "      <td>1.000000</td>\n",
       "      <td>0.000000</td>\n",
       "      <td>0.000000</td>\n",
       "      <td>1.000000</td>\n",
       "      <td>1.000000</td>\n",
       "      <td>-0.010000</td>\n",
       "      <td>-1.510000</td>\n",
       "      <td>-0.500000</td>\n",
       "      <td>-0.500000</td>\n",
       "      <td>1.750000</td>\n",
       "      <td>-0.300000</td>\n",
       "      <td>-1.310000</td>\n",
       "      <td>1.000000</td>\n",
       "      <td>1.000000</td>\n",
       "    </tr>\n",
       "    <tr>\n",
       "      <th>25%</th>\n",
       "      <td>1.000000</td>\n",
       "      <td>1.000000</td>\n",
       "      <td>6.460000</td>\n",
       "      <td>1.000000</td>\n",
       "      <td>1.000000</td>\n",
       "      <td>24.500000</td>\n",
       "      <td>0.500000</td>\n",
       "      <td>0.500000</td>\n",
       "      <td>5.060000</td>\n",
       "      <td>5.760000</td>\n",
       "      <td>0.300000</td>\n",
       "      <td>31.000000</td>\n",
       "      <td>132.000000</td>\n",
       "      <td>90.000000</td>\n",
       "    </tr>\n",
       "    <tr>\n",
       "      <th>50%</th>\n",
       "      <td>2.000000</td>\n",
       "      <td>1.000000</td>\n",
       "      <td>8.830000</td>\n",
       "      <td>1.000000</td>\n",
       "      <td>1.000000</td>\n",
       "      <td>29.500000</td>\n",
       "      <td>0.500000</td>\n",
       "      <td>0.500000</td>\n",
       "      <td>6.650000</td>\n",
       "      <td>5.760000</td>\n",
       "      <td>0.300000</td>\n",
       "      <td>40.260000</td>\n",
       "      <td>138.000000</td>\n",
       "      <td>145.000000</td>\n",
       "    </tr>\n",
       "    <tr>\n",
       "      <th>75%</th>\n",
       "      <td>2.000000</td>\n",
       "      <td>2.000000</td>\n",
       "      <td>11.260000</td>\n",
       "      <td>1.000000</td>\n",
       "      <td>1.000000</td>\n",
       "      <td>37.500000</td>\n",
       "      <td>1.000000</td>\n",
       "      <td>0.500000</td>\n",
       "      <td>8.560000</td>\n",
       "      <td>5.760000</td>\n",
       "      <td>0.300000</td>\n",
       "      <td>51.060000</td>\n",
       "      <td>186.000000</td>\n",
       "      <td>231.000000</td>\n",
       "    </tr>\n",
       "    <tr>\n",
       "      <th>max</th>\n",
       "      <td>4.000000</td>\n",
       "      <td>7.000000</td>\n",
       "      <td>189483.840000</td>\n",
       "      <td>5.000000</td>\n",
       "      <td>4.000000</td>\n",
       "      <td>9999.500000</td>\n",
       "      <td>17.500000</td>\n",
       "      <td>55.740000</td>\n",
       "      <td>414.120000</td>\n",
       "      <td>155.760000</td>\n",
       "      <td>0.300000</td>\n",
       "      <td>10005.720000</td>\n",
       "      <td>265.000000</td>\n",
       "      <td>265.000000</td>\n",
       "    </tr>\n",
       "  </tbody>\n",
       "</table>\n",
       "</div>"
      ],
      "text/plain": [
       "          vendor_id  passenger_count  trip_distance     rate_code  \\\n",
       "count  10500.000000     10500.000000   10500.000000  10500.000000   \n",
       "mean       1.613238         1.560857      38.333547      1.276667   \n",
       "std        0.520497         1.202836    1855.031161      0.959574   \n",
       "min        1.000000         0.000000       0.000000      1.000000   \n",
       "25%        1.000000         1.000000       6.460000      1.000000   \n",
       "50%        2.000000         1.000000       8.830000      1.000000   \n",
       "75%        2.000000         2.000000      11.260000      1.000000   \n",
       "max        4.000000         7.000000  189483.840000      5.000000   \n",
       "\n",
       "       payment_type   fare_amount        extra       mta_tax    tip_amount  \\\n",
       "count  10500.000000  10487.000000  4641.000000  10500.000000  10104.000000   \n",
       "mean       1.031333     56.538804     0.704501      0.482321      7.633597   \n",
       "std        0.188409    304.346638     0.366325      0.613470      7.581235   \n",
       "min        1.000000     -0.010000    -1.510000     -0.500000     -0.500000   \n",
       "25%        1.000000     24.500000     0.500000      0.500000      5.060000   \n",
       "50%        1.000000     29.500000     0.500000      0.500000      6.650000   \n",
       "75%        1.000000     37.500000     1.000000      0.500000      8.560000   \n",
       "max        4.000000   9999.500000    17.500000     55.740000    414.120000   \n",
       "\n",
       "       tolls_amount  imp_surcharge  total_amount  pickup_location_id  \\\n",
       "count   3966.000000   10500.000000  10500.000000        10500.000000   \n",
       "mean       7.213822       0.299629     67.642465          153.869333   \n",
       "std        6.134389       0.011333    304.669846           60.516251   \n",
       "min        1.750000      -0.300000     -1.310000            1.000000   \n",
       "25%        5.760000       0.300000     31.000000          132.000000   \n",
       "50%        5.760000       0.300000     40.260000          138.000000   \n",
       "75%        5.760000       0.300000     51.060000          186.000000   \n",
       "max      155.760000       0.300000  10005.720000          265.000000   \n",
       "\n",
       "       dropoff_location_id  \n",
       "count         10500.000000  \n",
       "mean            153.039238  \n",
       "std              78.059690  \n",
       "min               1.000000  \n",
       "25%              90.000000  \n",
       "50%             145.000000  \n",
       "75%             231.000000  \n",
       "max             265.000000  "
      ]
     },
     "execution_count": 8,
     "metadata": {},
     "output_type": "execute_result"
    }
   ],
   "source": [
    "df.describe()"
   ]
  },
  {
   "cell_type": "markdown",
   "metadata": {
    "id": "_Y8a67KT37eS"
   },
   "source": [
    "## Let's browse through our data"
   ]
  },
  {
   "cell_type": "markdown",
   "metadata": {
    "id": "izACtPFO4VX_"
   },
   "source": [
    "`value_counts()` shows the count of rows per unique value, sorted from most frequent to least frequent. "
   ]
  },
  {
   "cell_type": "code",
   "execution_count": 9,
   "metadata": {
    "colab": {
     "base_uri": "https://localhost:8080/"
    },
    "id": "cH6vxmUck9Bm",
    "outputId": "15f231ec-88eb-4bd5-fd29-3f41c7ebb78e"
   },
   "outputs": [
    {
     "data": {
      "text/plain": [
       "1    10197\n",
       "2      278\n",
       "3       24\n",
       "4        1\n",
       "Name: payment_type, dtype: int64"
      ]
     },
     "execution_count": 9,
     "metadata": {},
     "output_type": "execute_result"
    }
   ],
   "source": [
    "df.payment_type.value_counts()"
   ]
  },
  {
   "cell_type": "code",
   "execution_count": 10,
   "metadata": {
    "colab": {
     "base_uri": "https://localhost:8080/"
    },
    "id": "N5TX9DGGk0ng",
    "outputId": "5d2ad4b7-6694-42e7-9937-6d54418215bd"
   },
   "outputs": [
    {
     "data": {
      "text/html": [
       "<div>\n",
       "<style scoped>\n",
       "    .dataframe tbody tr th:only-of-type {\n",
       "        vertical-align: middle;\n",
       "    }\n",
       "\n",
       "    .dataframe tbody tr th {\n",
       "        vertical-align: top;\n",
       "    }\n",
       "\n",
       "    .dataframe thead th {\n",
       "        text-align: right;\n",
       "    }\n",
       "</style>\n",
       "<table border=\"1\" class=\"dataframe\">\n",
       "  <thead>\n",
       "    <tr style=\"text-align: right;\">\n",
       "      <th></th>\n",
       "      <th>vendor_id</th>\n",
       "      <th>pickup_datetime</th>\n",
       "      <th>dropoff_datetime</th>\n",
       "      <th>passenger_count</th>\n",
       "      <th>trip_distance</th>\n",
       "      <th>rate_code</th>\n",
       "      <th>store_and_fwd_flag</th>\n",
       "      <th>payment_type</th>\n",
       "      <th>fare_amount</th>\n",
       "      <th>extra</th>\n",
       "      <th>mta_tax</th>\n",
       "      <th>tip_amount</th>\n",
       "      <th>tolls_amount</th>\n",
       "      <th>imp_surcharge</th>\n",
       "      <th>total_amount</th>\n",
       "      <th>pickup_location_id</th>\n",
       "      <th>dropoff_location_id</th>\n",
       "    </tr>\n",
       "  </thead>\n",
       "  <tbody>\n",
       "    <tr>\n",
       "      <th>10485</th>\n",
       "      <td>2</td>\n",
       "      <td>2018-01-29 08:53:00</td>\n",
       "      <td>2018-01-29 11:43:00</td>\n",
       "      <td>1</td>\n",
       "      <td>119.92</td>\n",
       "      <td>5</td>\n",
       "      <td>N</td>\n",
       "      <td>2</td>\n",
       "      <td>NaN</td>\n",
       "      <td>NaN</td>\n",
       "      <td>0.0</td>\n",
       "      <td>NaN</td>\n",
       "      <td>NaN</td>\n",
       "      <td>0.0</td>\n",
       "      <td>0.0</td>\n",
       "      <td>193</td>\n",
       "      <td>265</td>\n",
       "    </tr>\n",
       "  </tbody>\n",
       "</table>\n",
       "</div>"
      ],
      "text/plain": [
       "       vendor_id     pickup_datetime    dropoff_datetime  passenger_count  \\\n",
       "10485          2 2018-01-29 08:53:00 2018-01-29 11:43:00                1   \n",
       "\n",
       "       trip_distance  rate_code store_and_fwd_flag  payment_type  fare_amount  \\\n",
       "10485         119.92          5                  N             2          NaN   \n",
       "\n",
       "       extra  mta_tax  tip_amount  tolls_amount  imp_surcharge  total_amount  \\\n",
       "10485    NaN      0.0         NaN           NaN            0.0           0.0   \n",
       "\n",
       "       pickup_location_id  dropoff_location_id  \n",
       "10485                 193                  265  "
      ]
     },
     "execution_count": 10,
     "metadata": {},
     "output_type": "execute_result"
    }
   ],
   "source": [
    "df[df[\"total_amount\"] == 0]"
   ]
  },
  {
   "cell_type": "markdown",
   "metadata": {
    "id": "SW2MPsP2f-CR"
   },
   "source": [
    "# **Data Cleaning**\n",
    "\n",
    "![Screen Shot 2020-10-01 at 6.56.09 PM.png](data:image/png;base64,iVBORw0KGgoAAAANSUhEUgAAB4wAAACKCAYAAABRoregAAAMYWlDQ1BJQ0MgUHJvZmlsZQAASImVVwdYU8kWnltSSWiBCEgJvYkiNYCUEFoEAamCqIQkkFBiTAgqdnRRwbWLKFZ0VUTR1RWQtSBid1HsfbGgoqyLBRsqb0ICuvrK9873zZ0/Z878p2Tm3hkAdNr4MlkuqgtAnjRfHhcezBqTksoiPQJEYA60gAGg8AUKGSc2NgpA6e//KW+vAUTVX3ZRcf04/l9FXyhSCABA0iDOECoEeRA3AoAXCWTyfACIIVBvPTlfpsJiiA3kMECIp6twlhovVeEMNd7aZ5MQx4W4HgAyjc+XZwGg3Qz1rAJBFuTRfgSxq1QokQKgYwBxgEDMF0KcAPGQvLyJKjwbYgdoL4N4B8TsjG84s/7BnzHAz+dnDWB1Xn1CDpEoZLn8qf9naf635OUq+33YwUYTyyPiVPnDGt7ImRipwjSIO6UZ0TGqWkP8XiJU1x0AlCpWRiSq7VFTgYIL6weYELsK+SGREJtCHCbNjY7S6DMyJWE8iOFqQadI8nkJmrkLRIrQeA3nOvnEuJh+nCnncjRza/jyPr8q+2ZlTiJHw39DLOL1878pFCckQ0wFAKMWSJKiIdaG2ECREx+ptsGsCsXc6H4buTJOFb8NxGyRNDxYzY+lZcrD4jT2sjxFf75YsVjCi9bg8nxxQoS6PthOAb8vfiOIa0VSTmI/j0gxJqo/F6EoJFSdO9YikiZq8sXuyfKD4zRzu2S5sRp7nCzKDVfprSA2URTEa+biI/Lh4lTz41Gy/NgEdZx4ejZ/ZKw6HrwARAEuCAEsoIQtA0wE2UDS0lnXCX+pR8IAH8hBFhABF42mf0Zy34gUPuNBIfgLIhFQDMwL7hsVgQKo/zygVT9dQGbfaEHfjBzwGOI8EAly4W9l3yzpgLck8AhqJD94F8BYc2FTjf2o40BNlEaj7Odl6fRbEkOJIcQIYhjRETfBA3A/PAo+g2Bzw9m4T3+0X+0JjwmthAeEq4Q2ws0JkiL5d7GMAm2QP0yTcca3GeN2kNMTD8b9ITtkxpm4CXDBPaAfDh4IPXtCLVcTtyp31r/JcyCDb2qusaO4UlDKIEoQxeH7mdpO2p4DLKqKflsfdawZA1XlDox875/7TZ2FsI/83hJbgO3HTmHHsDPYIawOsLCjWD12HjuswgNr6FHfGur3FtcXTw7kkfzgj6/xqaqkwrXatcP1k2YM5Ium5Ks2GHeibKpckiXOZ3HgV0DE4kkFQ4ew3FzdXAFQfVPUr6nXzL5vBcI8+1U31xIA/6m9vb2HvuoiLwKw/zDc5re+6uzb4evgLACnVwuU8gK1Dlc9CPBtoAN3lDH8ZlkDB5iRG/ACfiAIhIKRIAYkgBQwHtZZDNezHEwG08EcUAxKwVKwCqwFG8EWsAPsBvtAHTgEjoGT4By4CK6C23D9tIPnoAu8BT0IgpAQOsJAjBELxBZxRtwQNhKAhCJRSBySgqQjWYgUUSLTkblIKbIcWYtsRqqQX5GDyDHkDNKK3ETuIx3IK+QjiqE01AA1Q+3QYSgb5aCRaAI6Ds1CJ6GF6Dx0MVqOVqK70Fr0GHoOvYq2oc/RbgxgWhgTs8RcMDbGxWKwVCwTk2MzsRKsDKvEarAG+E9fxtqwTuwDTsQZOAt3gWs4Ak/EBfgkfCa+CF+L78Br8Wb8Mn4f78K/EOgEU4IzwZfAI4whZBEmE4oJZYRthAOEE3A3tRPeEolEJtGe6A13YwoxmziNuIi4nriH2EhsJT4kdpNIJGOSM8mfFEPik/JJxaQ1pF2ko6RLpHbSe7IW2YLsRg4jp5Kl5CJyGXkn+Qj5EvkJuYeiS7Gl+FJiKELKVMoSylZKA+UCpZ3SQ9Wj2lP9qQnUbOocajm1hnqCeof6WktLy0rLR2u0lkRrtla51l6t01r3tT7Q9GlONC4tjaakLaZtpzXSbtJe0+l0O3oQPZWeT19Mr6Ifp9+jv9dmaA/V5mkLtWdpV2jXal/SfqFD0bHV4eiM1ynUKdPZr3NBp1OXomuny9Xl687UrdA9qHtdt1uPoTdcL0YvT2+R3k69M3pP9Un6dvqh+kL9efpb9I/rP2RgDGsGlyFgzGVsZZxgtBsQDewNeAbZBqUGuw1aDLoM9Q09DJMMpxhWGB42bGNiTDsmj5nLXMLcx7zG/DjIbBBnkGjQwkE1gy4Nemc02CjISGRUYrTH6KrRR2OWcahxjvEy4zrjuya4iZPJaJPJJhtMTph0DjYY7DdYMLhk8L7Bt0xRUyfTONNppltMz5t2m5mbhZvJzNaYHTfrNGeaB5lnm680P2LeYcGwCLCQWKy0OGrxjGXI4rByWeWsZlaXpallhKXScrNli2WPlb1VolWR1R6ru9ZUa7Z1pvVK6ybrLhsLm1E2022qbW7ZUmzZtmLb1banbN/Z2dsl2823q7N7am9kz7MvtK+2v+NAdwh0mORQ6XDFkejIdsxxXO940Ql18nQSO1U4XXBGnb2cJc7rnVuHEIb4DJEOqRxy3YXmwnEpcKl2uT+UOTRqaNHQuqEvhtkMSx22bNipYV9cPV1zXbe63h6uP3zk8KLhDcNfuTm5Cdwq3K64093D3Ge517u/9HD2EHls8LjhyfAc5Tnfs8nzs5e3l9yrxqvD28Y73Xud93W2ATuWvYh92ofgE+wzy+eQzwdfL998332+f/u5+OX47fR7OsJ+hGjE1hEP/a38+f6b/dsCWAHpAZsC2gItA/mBlYEPgqyDhEHbgp5wHDnZnF2cF8GuwfLgA8HvuL7cGdzGECwkPKQkpCVUPzQxdG3ovTCrsKyw6rCucM/waeGNEYSIyIhlEdd5ZjwBr4rXNdJ75IyRzZG0yPjItZEPopyi5FENo9BRI0etGHUn2jZaGl0XA2J4MSti7sbax06K/X00cXTs6IrRj+OGx02POxXPiJ8QvzP+bUJwwpKE24kOicrEpiSdpLSkqqR3ySHJy5PbxgwbM2PMuRSTFElKfSopNSl1W2r32NCxq8a2p3mmFaddG2c/bsq4M+NNxueOPzxBZwJ/wv50Qnpy+s70T/wYfiW/O4OXsS6jS8AVrBY8FwYJVwo7RP6i5aInmf6ZyzOfZvlnrcjqEAeKy8SdEq5kreRldkT2xux3OTE523N6c5Nz9+SR89LzDkr1pTnS5onmE6dMbJU5y4plbZN8J62a1CWPlG9TIIpxivp8A3h4P690UP6kvF8QUFBR8H5y0uT9U/SmSKecn+o0deHUJ4Vhhb9Mw6cJpjVNt5w+Z/r9GZwZm2ciMzNmNs2ynjVvVvvs8Nk75lDn5Mz5o8i1aHnRm7nJcxvmmc2bPe/hT+E/VRdrF8uLr8/3m79xAb5AsqBlofvCNQu/lAhLzpa6lpaVflokWHT25+E/l//cuzhzccsSryUblhKXSpdeWxa4bMdyveWFyx+uGLWidiVrZcnKN6smrDpT5lG2cTV1tXJ1W3lUef0amzVL13xaK157tSK4Ys8603UL171bL1x/aUPQhpqNZhtLN37cJNl0Y3P45tpKu8qyLcQtBVseb03aeuoX9i9V20y2lW77vF26vW1H3I7mKu+qqp2mO5dUo9XK6o5dabsu7g7ZXV/jUrN5D3NP6V6wV7n32a/pv17bF7mvaT97f81vtr+tO8A4UFKL1E6t7aoT17XVp9S3Hhx5sKnBr+HA70N/337I8lDFYcPDS45Qj8w70nu08Gh3o6yx81jWsYdNE5puHx9z/Erz6OaWE5EnTp8MO3n8FOfU0dP+pw+d8T1z8Cz7bN05r3O15z3PH/jD848DLV4ttRe8L9Rf9LnY0Dqi9cilwEvHLodcPnmFd+Xc1eirrdcSr924nna97YbwxtObuTdf3iq41XN79h3CnZK7unfL7pneq/zT8c89bV5th++H3D//IP7B7YeCh88fKR59ap/3mP647InFk6qnbk8PdYR1XHw29ln7c9nzns7iv/T+WvfC4cVvfwf9fb5rTFf7S/nL3leLXhu/3v7G401Td2z3vbd5b3velbw3fr/jA/vDqY/JH5/0TP5E+lT+2fFzw5fIL3d683p7ZXw5v+8ogMGGZmYC8Go7APQUABjwDEEdq77z9Qmivqf2IfCfsPpe2CdeANTATnVc5zYCsBc2u9mQG/aqo3pCEEDd3QeaRhSZ7m5qLhq88RDe9/a+NgOA1ADAZ3lvb8/63t7P8I6K3QSgcZL6rqkSIrwbbPJXoatGwtngO1HfQ7/J8fseqCLwAN/3/wLTRoo58ZevhgAAAIplWElmTU0AKgAAAAgABAEaAAUAAAABAAAAPgEbAAUAAAABAAAARgEoAAMAAAABAAIAAIdpAAQAAAABAAAATgAAAAAAAACQAAAAAQAAAJAAAAABAAOShgAHAAAAEgAAAHigAgAEAAAAAQAAB4ygAwAEAAAAAQAAAIoAAAAAQVNDSUkAAABTY3JlZW5zaG90N/uDSAAAAAlwSFlzAAAWJQAAFiUBSVIk8AAAAddpVFh0WE1MOmNvbS5hZG9iZS54bXAAAAAAADx4OnhtcG1ldGEgeG1sbnM6eD0iYWRvYmU6bnM6bWV0YS8iIHg6eG1wdGs9IlhNUCBDb3JlIDUuNC4wIj4KICAgPHJkZjpSREYgeG1sbnM6cmRmPSJodHRwOi8vd3d3LnczLm9yZy8xOTk5LzAyLzIyLXJkZi1zeW50YXgtbnMjIj4KICAgICAgPHJkZjpEZXNjcmlwdGlvbiByZGY6YWJvdXQ9IiIKICAgICAgICAgICAgeG1sbnM6ZXhpZj0iaHR0cDovL25zLmFkb2JlLmNvbS9leGlmLzEuMC8iPgogICAgICAgICA8ZXhpZjpQaXhlbFhEaW1lbnNpb24+MTkzMjwvZXhpZjpQaXhlbFhEaW1lbnNpb24+CiAgICAgICAgIDxleGlmOlVzZXJDb21tZW50PlNjcmVlbnNob3Q8L2V4aWY6VXNlckNvbW1lbnQ+CiAgICAgICAgIDxleGlmOlBpeGVsWURpbWVuc2lvbj4xMzg8L2V4aWY6UGl4ZWxZRGltZW5zaW9uPgogICAgICA8L3JkZjpEZXNjcmlwdGlvbj4KICAgPC9yZGY6UkRGPgo8L3g6eG1wbWV0YT4K4C/svwAAABxpRE9UAAAAAgAAAAAAAABFAAAAKAAAAEUAAABFAABWTAV4WHUAAEAASURBVHgB7J0HeBVF98ZPgCSEEnpL6HZFRFHEBigWRCwUxQ5S7QIW7B0RRUH/oiJIEbB8NkRFEUUsiIXPihXpvUMoIQkk/30339xMNtvuza3Je56H3C2zM7O/e9mdmXfOmaQCw4RGAiRAAiRAAiRAAiRAAiRAAiRAAiRAAiRAAiRAAiRAAiRAAiRAAiRAAiRQ7ggkUTAud985b5gESIAESIAESIAESIAESIAESIAESIAESIAESIAESIAESIAESIAESIAETAIUjPlDIAESIAESIAESIAESIAESIAESIAESIAESIAESIAESIAESIAESIAESIIFySoCCcTn94nnbJEACJEACJEACJEACJEACJEACJEACJEACJEACJEACJEACJEACJEACJEDBmL8BEiABEiABEiABEiABEiABEiABEiABEiABEiABEiABEiABEiABEiABEiinBCgYl9MvnrdNAiRAAiRAAiRAAiRAAiRAAiRAAiRAAiRAAiRAAiRAAiRAAiRAAiRAAhSM+RsgARIgARIgARIgARIgARIgARIgARIgARIgARIgARIgARIgARIgARIggXJKgIJxOf3iedskQAIkQAIkQAIkQAIkQAIkQAIkQAIkQAIkQAIkQAIkQAIkQAIkQAIkQMGYvwESIAESIAESIAESIAESIAESIAESIAESIAESIAESIAESIAESIAESIAESKKcEKBiX0y+et00CJEACJEACJEACJEACJEACJEACJEACJEACJEACJEACJEACJEACJEACFIz5GyABEiABEiABEiABEiABEiABEiABEiABEiABEiABEiABEiABEiABEiCBckqAgnE5/eJ52yRAAiRAAiRAAiRAAiRAAiRAAiRAAiRAAiRAAiRAAiRAAiRAAiRAAiRAwZi/ARIgARIgARIgARIgARIgARIgARIgARIgARIgARIgARIgARIgARIgARIopwQoGJfTL563TQIkQAIkQAIkQAIkQAIkQAIkQAIkQAIkQAIkQAIkQAIkQAIkQAIkQAIUjPkbIAESIAESIAESIAESIAESIAESIAESIAESIAESIAESIAESIAESIAESIIFySoCCcTn94nnbJEACJEACJEACJEACJEACJEACJEACJEACJEACJEACJEACJEACJEACJEDBmL8BEiABEiABEiABEiABEiABEiABEiABEiABEiABEiABEiABEiABEiABEiinBCgYl9MvnrdNAiRAAiRAAiRAAiRAAiRAAiRAAiRAAiRAAiRAAiRAAiRAAiRAAiRAAhSM+RsgARIgARIgARIgARIgARIgARIgARIgARIgARIgARIgARIgARIgARIggXJKgIJxOf3iedskQAIkQAIkQAIkQAIkQAIkQAIkQAIkQAIkQAIkQAIkQAIkQAIkQAIkQMGYvwESIAESIAESIAESIAESIAESIAESIAESIAESIAESIAESIAESIAESIAESKKcEKBiX0y+et00CJEACJEACJEACJEACJEACJEACJEACJEACJEACJEACJEACJEACJEACFIz5GyABEiABEiABEiABEiABEiABEiABEiABEiABEiABEiABEiABEiABEiCBckqAgnE5/eJ52yRAAiRAAiRAAiRAAiRAAiRAAiRAAiRAAiRAAiRAAiRAAiRAAiRAAiRAwZi/ARIgARIgARIgARIgARIgARIgARIgARIgARIgARIgARIgARIgARIgARIopwQoGJfTL563TQIkQAIkQAIkQAIkQAIkQAIkQAIkQAIkQAIkQAIkQAIkQAIkQAIkQAIUjPkbIAESIAESIAESIAESIAESIAESIAESIAESIAESIAESIAESIAESIAESIIFySoCCcTn94nnbJEACJEACJEACJEACJEACJEACJEACJEACJEACJEACJEACJEACJEACJEDBmL8BEiABEiABEiABEiABEiABEiABEiABEiABEiABEiABEiABEiABEiABEiinBCgYl9MvnrdNAiRAAiRAAiRAAiRAAiRAAiRAAiRAAiRAAiRAAiRAAiRAAiRAAiRAAhSM+RsgARIgARIgARIgARIgARIgARIgARIgARIgARIgARIgARIgARIgARIggXJKgIJxOf3iedskQAIkQAIkQAIkQAIkQAIkQAIkQAIkQAIkQAIkQAIkQAIkQAIkQAIkQMGYvwESIAESIAESIAESIAESIAESIAESIAESIAESIAESIAESIAESIAESIAESKKcEKBiX0y+et00CJEACJEACJEACJEACJEACJEACJEACJEACJEACJEACJEACJEACJEACFIz5GyABEiABEiABEiABEiABEiABEiABEiABEiABEiABEiABEiABEiABEiCBckqAgnE5/eJ52yRAAiRAAiRAAiRAAiRAAiRAAiRAAiRAAiRAAiRAAiRAAiRAAiRAAiRAwZi/ARIgARIgARIgARIgARIgARIgARIgARIgARIgARIgARIgARIgARIgARIopwQoGJfTL563TQIkQAIkQAIkQAIkQAIkQAIkQAIkQAIkQAIkQAIkQAIkQAIkQAIkQAIUjPkbIAESIAESIAESIAESIAESIAESIAESIAESIAESIAESIAESIAESIAESIIFySqBcCMbbV6+WXZs3yP7cXKlSs6bUadZSktPSyulXztsmARIggbJHYNfmjbJz3VrJyc6WisnJkl6/gdRu0qzs3SjviARIgATKMYEty/+VXVu3Sv7+/VK5WjWpmdFYqtauU46J8NZJgARIoGwRKMjJkQM7tsiB7L2SVKGiVKhaTSrVrieSlFS2bpR3QwIkQALlmMD2Naska9MGyd2XIynG+HyNho2kZqPMckyEt04CJEAC8UOgTArGP856W3794QdZumGjbMw5ILlSsnNRu0KBNKtVXY46qpWc3PNSqVKrVvx8K1GsSUFBgeTn50vFihWjWCqLIgESIIHSEVj/x2L5/uMP5M9/l8maPftkd0HJ53yyFEijlIpyUKOG0ubkk+WYc88vXaG8uswQ4LuvzHyVvJEyTuCnD2fKzwu/kSXrN8nGvAI5YHO/6UkF0qRamhx+yMHSrms3aXDoETapeCiWBPYbAn+lSpViWYVyXTb6ehUqVCjXDHjz8Usgf89u2f3tF5L96w+Su+QP2W9M9C9hSRUktWkLSTn0KElr006qtutQIklZPgAmOUv+lJzl/0jOiiUi+/OkUsPGktwgQ1IPPkLSWh3nefvZv/23GNsqJ5wqFavX8LxOJchduVRylv6ldn1/prU+XirVbeCZfv+WjcZvYFGxdLgO1/uxnOVLJNfgo6xC5SpS9eTT1a7j557vv5T83bsC56t1OFuSKiUH9tXG7i8/kQKDu2nG2Fn1jl3UqWKfu+Z9WGy/8pFtJLmhuwiG7xffj7KUJi0k9ZAj1a7r54FdWeZ956741/xt5G1cJ5Vq1jaZpxr/X6q27yhJFUv//s3++XvZv22zbV3AOrlxM0lu1ESSjInbpTVwBm/dkow2RLUO5+iHAtt7fvha8nftDOyHspF2dFupVK9hiUuDrUuJDHggQGDJgi9k0efzZMnqNbJuX57ssxm/STPGbzLSUuSQpply/OlnysEnnxa4nhskAAJo02IshxqG9+8BnGBJnHDnDYspShAoM4Lx/twceW/Mk/L1n//I9vySwkGJO9cOoPt8YqM6ct7lV0rjY7wb29qlCbm5dOlSWb9+vWzZskW2bdsmBw4ckJrwvK5TR+rVqydHHHGE46DON998Izt27DDPn3XWWb4fPKtWrZLFixebvI477jhp2LCoMbZo0SLZtGlTUCzPOeecEi+I3bt3y5dffumYT0pKiqSnp5v/MjMzpXr16rZp//77bwEj2CmnnCI1avjrSO3Zs0e++OIL87pmzZoZkxGOMrfxZ+XKlfL777+b+6eddppt2Tt37pQFCxYErvGz0aJFC/P7Qlq9jMMOO0wOOuggP1kElQYv508++cR8SVepUkU6deoU1PVMTAKlJfDbnA9lzvvvy+Ks7KCzqmfMi+nYprV0u+XWoK9NhAt+/PFH2bBhgyQbHXU8n+3s33//lX/+KRxMqWZ453Xo4D3gtm/fPpk3b56Z3SGHHCL4B4MAgOdBaezss88OvG/0Z5hdnnjmqGc4nrG4z2CsNO++YMphWhIggdIT+PDZp2X+T7/IZjuF2CP7o2tUkbPPO0+O7tLNI2Vinv7oo4/MgRK72letWtVst6Jdj+ek2wCBemfY5YPr8I7AM7eWMam2SRNjEDiIwQa0ydGe3mp4g+Pfrl27JDU11exr1K1bV5o3b16sL2BXBxzzatvbXYf2N+5dt08//VRyjUhT6H+gH2JniofbO9TuOhzT319O7Xz0ub799lszC7A8/fTTpXLlyk5ZBo7Pnz9f9u7da7I78cQTA8fdNtAWWLNmTYA/OKIfhO8U7A899FDzu3XLw+vcsmXL5K+/SopHuDf0sWrXrm32L/Hp5z6dytP7V0gDBuizWg19SfQpQzX81k899VTby/V+LIR3tF0owNuiCupg3vo1suP912XPpx8Yz7T8oK6tkF5T0s+6QGqc39vwQLbv0weVYZwmLjDGabb/Z7LsfHe6iAuj1CNaS+0rrpXKh7VyvJONT94je7//KnA+Y9QESW15WGDfa2PHzBmyfcZ4r2QlzjcYPlKqHH9KiePWA1unPS9Zs14vdrhijVrS9KV3xfgPV+y43Q447XhzcrFTfspee2sfyV21PHBds6kfSYUqVQP7amNl366CyQ2wCpXTpNm0OepUsc/lFxfvW6UcfLhkPvaiMWLvfA97jAkTm566L5BP+nkXS52+NwX2bTcMIWDnR2/L9ukvSkFerm0SHKxYq67U7NVH0s++0DGNnxMbRtwu2T9/557U+J6SG2RKSstDpdYl10hyRlP39A5n9/64UDaOHF7ibOZTUySlacsSx9cNHyA5ywr7tyVO+jxQf9hDUvWk00ukDrYuJTLgAVkw4xX59Iv5snxf8I365qkV5fRTT5aOfQaUSZLhGguPZBtTtY/tvoBQ+gt+2szWstDmXLt2bUDDwLg0+jxou7Vs2VIOP/xw13aZ3p848sgjzbawtQzrPtrRv/76q3n4ZMP5BH0rO/PTx9D7bscee6w0atTILqtix3777TdZbUTLhXXt2rXYOaedvLw8WbJkidn+V3oPRGOMo6H/hfZ/06ZNXVk55a2Ou+kWKAf9RvxD+x/9jtLYZ599JjlG1BnYwQcfbNbfLr+vv/5asrKy7E75Ota2bVtp0KDkxDa/fRBfhSRgojIhGH828QV576uFkmUzQynY76Rzy8Zy1YMjgr0sIdLjPxoEzRUrVrjWFw/CM844w3ygWBP+/PPP8v3335uHzz//fF8POiSeM2eOOZiCWUBXXXWVOWih8v74448FHfFg7JprjAaoRSzYvn27vPnmm76yQT0woIRBIwyg6IYBh5kzZ5qH8ODAPz+Gl4kaCMIDvXHjxoHLIBYrMbhXr17mwzNw8n8bmzdvlnffNTpEQVjr1q2lffv25hV4cL/xxhvmNsr2+1IJojjzhYWXHaxVK8M733hx0kggGgT2GAPOU0c+LN9v2lHq4iAc9+hytpzU+4pS5xVPGaCxisY0BuX79OljWzU0+PUBVUz6QMPRzdBQmjFjhpnk+OOPDwy2o0E6eXLxgRm3fOzO9e3bN/AM1p+Tdmn1Y2lG2Co8mzHByUvECMe7Ty+b2yRAApEjsGjmm/LWrA9kw/7Sl3FcnXS5YthtUqeMLU8wYcIER8FYp4aOOiY+Og1KqHeGfo3TNgQ6tDcx4dLLli9fbk7gVB18u/R4bh9zzDGCd4qb8BZM216VA9EPg0G6vfLKK4LJT80NsRRin50pHm7vULvrcEx/fzm18yHizpo1K5AFJnd27NgxsO+08frrr5uDIBkZGdKtm/skCEzkQj9NTdJ1yhPMIbweffTRTkk8j+v9Hq/EGMjD78fa5/K6Duet5eh9H/16DECivxmq4Tfes2dP28tVP1ad7NKlizngpvb5GTwBO3Ev+FwM4a5KNal12QBJ79IjlMvj+hp43G4a+5Dk/F046d5PZevdcr9UO/VM26RxLRgbA9qrr79EcM9Wa/jAM4YH9bHWwyX27X5T8BhtPOYVSUp1npwTacEYFa3Tf4jrbzRYwfjA9i2yadxI2ffLDyU4OB2ocdEVxqSCwU6nPY/7Eoy1XOBpXKP7lVLT+Gfnsa0lLbG56f9GyJ4vSz7Pa/bqK7V69yuRPpKCcbB1KVG5cnxgxY/fy2sTJ8rfuwsFn9KgOCitklx8xRVyeIczSpNN3F0brrHwSLYxVfvYDzw//QU/bWZVFiZ7wikMY1xupib96WPwenq9P4ExbIxlexkmviqHsIsuukjq169ve4mfPobed4Pegr6CW/8HBeG+1cTMQYMG2ZatH8Rv4PPPPzcn6erHrdtwEjzzzDNtndisae32g9EtMFEXDipOYrtd/uoYBO933nlH7Zr6VI8e9m09pEP6UA19Q/QRrea3D2K9rqzsJ7xgPO7Wm+WHzaULP2L9MhsnV5B+gwdKy3ZlRwzDfx50djHwD8MDFYM+eOhBeMV5PGDwD4aHFwaZMBivGzwEXnvtNfMQBmOcZmLr1+Ahj4coZgFh9g8eTrqplyTq4XfgAkKv9QGrvwTworA+0DFwBVEV94gBFRjSXHDBBSXyUoMzmBlz8cUX69V13IbIDLEZs2quMBozuojh56WoP3gx6wczgLwMD2D9pQjBHBwgiEMw8gr/pzzuMGiFF4eX4YWJFyfM7aXplQ/Pk0AwBH79+H2Z/Lrx2w4yeoRXGZ2aNZK+jzzulSxhzqvGvNtgt1UwhtdP7969TZHZ6UadBGM805GfneFZqyI14Lnv1EjEDEsVTkh/TuLdA1FYGWZGZhvrUyPChXpP4ZzTwLG6LlzvPpUfP0mABCJH4LVHH5A5/6wIawHVjHDVV3brIu0vvjys+cYyMzXogEEZ3ZMWz0nMoIdHLzwNlEFkhNhoNfXOwDMY4q1ueL4jLzxD8dxVhgg/epnquPrEDO8//vjD3EU7XbXHUVf0IdDWxWx5iLcwtMORp/68N0/8749X215Pq7bRhrb2AfwM5igebu9QVYb1U39/+RWMkQf6IHrUJWu+2Fd9Ei/BGN87ZuKr7wv3gckCmDEPL4yNGzeaEab03wYmz6K/F4rpgyiY9Y/yYPgdog2A+qjvGcfRP0JZiI4UjGEyLX43yuCtcPnlJf8/474RRcXO4CWiolnht67aHXpa1M860QDn0X+cNm2a2Y9V6RFpBR7itOAJIPTu5ucNoWvxT8Ff7HJFlRM7SL3r7jTXO3ZJljCn4Fm8dlgfyVtXclK9Gfa3WnXZv3q55O/LLnZPEOkgsNp5GoddMDae8Vhj2svq3/aIVGnrPq62zxDF1997vW1W1c/pLnUHDLU9px+0E4xxPv2CS6XOVfZ543w0BOMKaVWl8TPTTG9flGm1YATj/N1ZsmbIVXJg53ZrNmZI5YrV043Q5UvwMC5xvvY1N0uNrr1KHPdzIFjBWOWZnNlUGtz1hBk+XR1z+4S39Kr+F0i+sYa51VIaN5dMYwKA1dbefa3k4Z6tZjAoOKDNQExKcgzPjckWCN+tWyh10a8vz9ufTXxRZnz5jeTbLA9ZGi49jj1SLhg6vDRZxNW14RoLx/iIPikRNxmuNqZqH4erv+CnzYz6o70KDQP9Bxjaf4h4hHYz6oI+wp9//mlG4cF5jH2fZ0SYsvMU1fsTsRaMUVfdCQP7duZXMEa7+wdjSdZffvklMKEYWgI4oT+EKEXr1q0zx9CgzcDQZsd4vt9oqnr9dN0CfRNoJsowbqgiS6lj+K6g36D9bdVwVBq7z++++868J/3cpZdeahshCX1P3KfVEE0XXGBgoWsnelr0Y+zGK/32QfS8ytJ2wgrGuzZvlDH33i3LsrUGQBi/mRRj7YRBPS6Q4y8KrUEVxqqUOis8QDDjAv9xYfjPgFkedmIi/qMh7DQGivCf+ZJLLinxHxIvIryQMLhz5ZXGjEGj4eVm+swcu5kb6iWJjjryC9X8vgQwAAbhEyEtYG3atJF27doVKxYP3J9+KuzIOg386Bcg/AEGdGB2nrd+Xor6gxfh7KxivV6e07Zeb69BPeShBqHgYdipUyenbM3j+E1gwAQDJ3ixQGSikUCkCXw1bZK8PPeLiBVzVHplGTZ2nFQsA2srqsa822C3VTAGWHj+uIWmdhKM3b4URI3Asx3m51mEdH6ek0iH9w9CZONZDjv33HPNzoO5o/0J97tPy5qbJEACYSbw/G1DjAgSJQc/w1VMz7at5fwyshyBEozdPFSx9AAGGtB2Q3hgtGWtkXn8vDPAX88Lk4yQF9rsVoNn8dy5c83DeA9haQQ7oRodeixnoAQ8t/vw27a31sW6H6+CMQZZ4NXqNoCi2upugjEifvznP/8JTAzGIBEm6Np9T/BWgLCP3wYMUaXQNwzWdMEYfQK7QSe8p9GvXKFFt0J7A+0OP6b3r3AvajAo2EmriACF+sL6apFN/NRB78eqOsBTGhGz7IRnP3mW1zQ5y/6WTaPvK7aObjhZIFRt/VsfDjkMbjjrUtq8sua8K1snjimWTZX2naTuwGFS0QjHDSswlmTb9sbLJcI4Jzc/WBo/OanYtdgJt2Bcp/9Qw2u2e4lyQjmwdfKzkjX7LdtLK9aqI03Hv+0a0hkXOgnGScZgdcaoiZLS7CDb/KMhGKPgKka44wZG2GM7C0Yw3vLSaNk1tyhaBfKretpZZkjySnUKHQAgJu/57gvZNunZYoIpwrc3ee41qVAt3a4arsesgnH920cYTFua1+Qb7/XcVUsld8VS2fPVJyXEbIRMz3joWc/vEJlhTelNT97rWJfGY6dJcmYzx/P6idxVRhjbW/sGDqUd114aGuK1XwtnXfyWWRbSvfPECJm1+J+I3UqHxvWl32NPRiz/aGYcrrFwO8E4XG3McPcX/I756GIdhD60a62RauAIhjatWnIN/Q84fFnbv6H0J/T2n1u7008fQ/Xd1G8L7UfUE458TuZXMEbo6oULF5rZIF849aFvZTU4X0CAV/0vRKLCfdnpQtZr9X0/ugWEabS7oalgTA6Gvgb6HH7t1VdfNcf7VNsb10G3gX7j1/D7mDSpsD0E58STTjrJ76VmdCel8eh1cPst+M48QRImpGCcsytLRgy9RVblFnZ0I8n6lt7d5djzLopkERHPGw/P+fPnm+X48QrWB/rtPIIhKuOhDMMMHq/wdLNnzzbX0cLDG51r66BIuF6SwbwEMOMd3rh4aGLw6+qrrzbvR/3R84IH3AknnKBO2X7qobq7d+9ewlvXz0vRz4PXtnDtIDxBVNgGCM4Qnp1MT4sXLxhYvxv9Wv13gRlCmBVFI4FIEvh6+mSZ+Mn8SBZh5n1Y1RS564UJES8n0gX4aczrgjEGlNG5gF144YW2szFxLt4EY9RJ7xTBW8luzeZwv/tQLo0ESCD8BJ4zogUtCnO0ILta9jreWMP+5lvtTiXUMTXo4Ca04ob0SYR2oqCfd4YCgw4/8oPBSxSeqbpBfES7Gp6lGHiAqOw2CIIZ3x9++KH5LMfEU4imGLiwmt4e9+sRYM0D+34Gc4LhYS3DTztff2/p71+vwQ8/grEuiGISKERZtzY9PG4xuARPDXjLwgM8WPMjGKs8IVJjaR587+hzYEKydTBPpdU/9d8dJp9hoAsW7KCPzidYwVj1YzFRGv1BDODB/E6GMxPzj+SuXCobHhlWQkgKNxqsn9rwgbGGp2WDcGcdtfzgWbnmpsuKsap2xnlS79rbbQW3DcZar9nGmq+6ZY6eXEIgjVvB2FibedXgnnJge6FzQ1LFSlKpYYbkrV0VuKVGDz8nlQ3R0c2cBGNck3LoUZL56DhbftESjFGPBnc/IVWOLVxODPvK/ArGOUv/knV3XVtsPeuaPa+WWpcOUFkV+9zz7XzZNOZBMWYImcfhnV7rquuk6gmnFkvnZ8cqGDutgX0ga4dsfmGUZC9aUCzb2saazDWMtZm9DPXd8828QDJMBIHwq6xm7/5Sy1iT2Y+VVjAOZ1381LcspHlr1Aj54PfIicWK0akZ9WTA46PVbsJ+hmssPJJtzGDax3q7za6/gC/KT5sZEWPgIABD5CA4njm1ayFIon2olrm0cwgLpT8RCcEYUT3hOY32MERwt2Uk/QjGmEiJZSkxcRTta+gzbpFDIaDON7QhpD/ooIPMCLCREIzNL874g+hGiH6kHD38LumC69577z0zG/T/0OdAHvCcdgpLrcrUP0sjGOu/5dL0QfT6JNp2QgrGT9wwWP7YVRjKLNLAqxhBNO4dfodkHBX6Gk+RrqNb/ngQ4QGC/1x4EFx22WWOYd/0fD744AMzbAGOWYUEiK3Tp083Z6Z7eab5SRuul2SwL4GvvvrKDGGBe0RoM+uC7G+//bbple3Hm9YrrZ+XYjgEY9yLmomD8HMIje1kWOMMQrcyr4c3Xixq5hYGeuxCNqi8+EkCpSXw+2dz5Mmpr5Y2G9/Xn1i/llw3eqzv9PGY0E9jXheM8WxH4xrPaQzUo/Fl1xCPR8EY/OFNhRCU8J7Du023SLz79Py5TQIkEB4C0x68Wz5bVhjxJTw5uudy3QVd5MRexZ8X7lfE31m/grHunWk3+dHPO0PdPQYk0PaH2UWl0SeTei0VoPJcv369vP/+++au06BJsG17lbf1M94EY0zoxLINCBGH/hm8DPAuszMvwRgDT5gsCtEeIiy8fa3e5Hb5lvZYMIIxytIn12KdMKe1pPV6vfXWW+bAmloiSHmbOIWl1q/Vt0MVjDGxGL97DEZi0jUEYxWeOlhPCb0+5W07f89uWXfPdYYAuDIqt55yWCtDHHw+KmVFopAd70yT7a8VTWRNSk6RJi++FfAstpaZt3GtrB16tRQYA8AweCDXMtaqrW6IzLrFq2C874+fZf0DNweqWrlNO0k76ljZPmN84Fi6EUa5jhFO2c2sgnFyo8aSt35N4JI6A2+V9LMvDOyrjUgKxvDoTTKi9h3YtdMsrlL9RtL46akl1lT2KxivvWuQ5P77l6q6pBx0uGQ+/lJg325jrzGZACHOEaZceafbpfM65lcwVvlYxdaklFTJfGqKJDfMVElKfBbk7JOVRjhqfMIQyrvBnSOL/T6SDU/xxsaECD9WGsE43HXxU99ETzNv0nh5Zf43UbuNbkcdIr2GO3ujR60ipSgoXGPhumAczjYmbi2c/QXk5zU2ro/jID3ayHrYYxyzGvo80D3QXoNDGMbB9SgwofQnIiEYo+0IfeG///2veQudO3c2hVvr/WDfj2Csvhukb9++vblcG7YjacHqFrr4i/Y7vk+vfgqiEy1evNiMZovvEn0O/IM5haW2u+fSCMbh6oPY1StRjiWcYByJ9c28vqyDq6TIvS8WNdq90sfTeYRdxgx+WDDrVHldp15sTl7DioE+gOS0hprKC4Mc0QhJreqmD3TYeQUj1j3i5sMgpDitKQzBAsIFrG3btuY/c0f74/VSRNJgH7xa9sU21cMVB93CaWMtarUeBNLaDQDiOAyDUBhsQ2iJYGf1FObAvyTgn0C+MfPtzoH9ZdMB/9eEI2Xv9sfJudffEo6sYpKHajDiuYw1zO1MF4wxqIzOBUL0w0488cQS61jieLwKxurdgcH2fv36oaoB83qHBRJaNkK9zpINd0mABHwQ+GraZGPJgfk+UoYvSfWkfHnk8celZiPnAcvwlRaZnPwKxhg0efnll802nF0kBj/vDP0OJk+ebM5Ix0x/TDLUTS1Xg0lHmITpx3sU16vrsI1INxjk0S2UAR79erUdj4Ix1hfGYATa2HZMVd29BGN4YKi1e0Nd0kaVFcyn3o9yCkmt56d7oeO419p6+nev+ld638w6oVkvy7odqmCs92PPP/98c01o1fbAYBd+s/qApLVc7hcS2DjmAdn7zedRxZHepYfU6T8kqmWGq7CNRjjevUZYXmXVz7pA6g66Te3afu796VtjYLWC6VWMEM52Fq+C8ZYJT8uuT2YGqlz32juk8pFtZM3NlweOIdRykxeMkNUuS6FZBeM6xrrHWR++ZYjGq818KlStJo3HTpeKNYtHsyghGE+ZbbsW9sq+XQWTH2AVKqdJs2mFEQ/MA9qf5Rd3COyh3jUN798t40YGjtW46AojfPTgwD42SgjGNgI5wkyvGlBc8HbyWC6WeZh2ghWM92/dLGtuuSIg/qIaYFHL8Ih2sj3Gc2KT8bxQhlDb9W+6V1Zf20v2b9usDkvjZ18VTAjwstIIxuGui1ddE/382t9+kQeffErywrxmsReXIZf2lDZdL/BKFrfnVZuitGPhVsE4XG1MgAtnfwH5eY2N6+MxdhFPkYedYfkT9CMQNccqSOptSr8RiyIlGHfs2NFs/yMqE753OGNZQ23j/rwEY1wPkRyGSafIJxpt0lB0C935zGv9ZvRfZ8yYYS5Do5bj0cvE5E1MhPZjoQrG+u+ltH0QP/WM1zQJJRj/9eU8eXzi1Jiw7HHskXLB0OExKbs0hWIReHjSwpwEW6f8p0yZYgqECFeGNSJ100NEOK0fifTKUxnerhhAslvvOFwvSf0/tZ+XgC6sQlyByKIbvLLhrQvDAu0QU+wMs4PUDCGnAROvlyLy1R+CpRnwgbcCuMOcwtzpZeGlgllceEk5rcelh6OO1swl8wb4p1wSmHLvcJm/akPU7z3ZiCgxasSjUrtJs6iXHY4C/TTmrYIxZjiqAXsIr2hoWqMtxKtgrGb9wTsak2N0i9S7Ty+D2yRAAqET2Ld7l9xxww2SVZAUeiYhXnlC/Zpyw+hnQrw69pf5FYwRPQJCKcxu0qifd4a625ycHJk6tbAP1qpVK0E7Wzd4YcILGQNUENb8mr7ult2aUMG27Z3KjUfBGEvHLFq0SPBehmFpBQj7VvMSjNW7EP0YCJh2fS1rnuHYD1YwRpl6/9Grr6azUZGNMNEVE15hdr9D84TNn1AFY9U+woAePBzAVl/uAl7S8JamORPYNf+jYmKZc8rwn2lwz2ipYnirJpqtue0ayTNCeCtrcOfjUqVt8WeuOhfMZ1wKxsaEmVUDLxKEMYZhveEmE96TitXTjbVn+xihiJcHbrHRiBekshFa2smsgnHd64YLPHo3PFQ0caDqKZ2l/pAiQRJ5WctpFmbBuMmLb8u6B26SnD9+MauOkNsZT7wsKU2Lnvd+BON9xvXrjXyUVarbwBDR31S7Ef8MVjBGhba+Mk6y3i8UNLBf9eQzpP7QB7FpaxtHG5MlviuaLFH/jsfM8NlbXh4ruz5+J3BNrcsHSc3uVwb2nTZKIxiHuy5OdSwrx0ffeK0szsqO+u1kJifJiJenRL3ccBUYrrFwq2AcrjYm7jOc/QXk5zU2rk/Ws1tSB3kEa6H0JyIlGOOedFHcro+G+/MSjJcvXy5z5841UWBtXizXEg3TtQS/uoUeqQrtZrcoQ7qegfWYEeEHphzeMCEASxn5sVAF43D2QfzUM17TJJRgPMoIRf1nlEJRW7+wNENIGDtunKQajddEMj3scDCu+7hHNQBhF5IZ//Ew+IJPJ89UPBQwMwQzRNwE13C9JIN5CUAgxf1hVo5bWDOEykPIPLuQp+p3oMKiYq0AeCrbmddLEdeE8uC1Kwu8ES4NA4VYIw0z+K2mD5xACFee1E7rcX3++eeyZMkSc6AEAyZ+PUes5XKfBLwIrPzxB3lg7HNeySJ2/tRMYz2ckYm5Ho6fxrydYIxnJ8Lqw/unWbNm5rp8OuB4FIwR2QHPcNTZ7h0UqXefzoXbJEACoROY/tB98unSVaFnUMorh/e9Uo4446xS5hKby/0KxsuWLTMHeVBLvcOtau3nnaHSYg1aDFzAOnXqZD531Tm9M471cE8//XR1yvMT3gCffPKJmc5uUCiYtr1bYfEqGKM/grWfEUoPk2shjFq9ItwEY7T5J02aZE78bNCggbmMkBuHcJ4LRTDWvSG8ljWC1wTSWyeFzZw5UzZt2mTyQp/Ej+n9Hr9rGOttH12cRrQl/J7Q/mBYam/6a268VPI2rvNOGIEUqYe3loxHYtenCPWWVlx5djGvzMwnJ0lK84NDzS5wXbgF46qnnilpR7cN5G+3UaleQ9c02b8uMte2VtdWbn28NLrvaXPXKgCnd+stdfrcoJKW+LSmh2CMsNyb/u9R2fNl4XsGFzW89ylJO+aEwPXREIwRjn3tbf2kYH+eWW7q4UdLhrEuszG4Yu77EYyzPp0lW8cX9VErtzpOGhnrdUfLQhGMd381VzY/+0igiilNWkimEZLbzrB29yqEo87LNU9XSKsiTV+eJQjJnv37T7LhwaIoYKktD5WMURPtsil2LFTBOBJ1KVaxMrbzw7tvyrh3P4jZXV3S7hjpeuOwmJVfmoLDNRZuJxiXto2p7itc/QWVn9fYuN5mCyaajMrf7jOU/kQkBWPUUUUIwmRETJq1rj3sJRjra+xiLWQs7xMNC1W3UJOL7fQlvd5q6VBwgUObij4FzQKRhmBOjnp6PtjW+6gQ1CGs+7Fw9kH8lBevaRJGMP5z3lwZNaVw7axYwTz/6EOl5+33xKr4kMpVD3dcPGDAANv1KZ0yVi8vhJfr379/iRnr6gHn5JmKmPPw4oVhBghmgtiZKgcDJJhd42XweIYHg9X8vgTw4vz6668FLwCYdeBLz1f3UrPzfMC6YRAtYG6zerxeirhef/DiYe8UAhtpYfheEM7BzhBiFveHhyy8Daze02qdY5SB+8LABwZA7Ab6wAsCNM6rkBB2ZfIYCYSDwPjhw2Th+q3hyCrkPJ4e8XBCehmr530wIanRYIPpAqvVY0YfNPUKIaOg61EJnCaiqLTq089zEmkxGQnvjS1btpjPQayDou5D5aVYYD/c7z5VBj9JgARCI5BjeBffeN31kmeEz4yVtaldTYaMHRer4ktVrh/BGFFy3nvvPXNJAUSSwXMyPb34pFf1nHR7Z6CiaJ9ieRu0A/GsRV76evd6+9turWS3m8VzHOvvwuxCjOl5QxCFeOhmWOMM4p7V4lUwRj3XrFkjs2fPNqtsN5jhJhjr61TbTZ6ycgjnfiiCMURWCNz4dJrUijq6/S70cr3CWqv71Qcf/QrGuve7tRy978qw1IpyyU+rwFUyReSPNLjrCalyXPvIFxSmEg7s2GZ63OrZNZvyoREiubp+KKTtcAvGfipRpV0HaXD7o45JN7/4hOz+rEhoqjP4Nkk/s3Cye67hZb3W8LZWBvG5yfOFy4CpY/qnk2CMUM5rbrnSCCe9y0ye3CBTMscY6wgbQiQsGoIxytn22kTZ+c4r2DSt7uDbpfqZ55vbfgTjrVOfk6wPiu6/WuduUs8I313CjIlErvY/kdo1jc3JUATjnGV/y7rhAwO5wbu62YxPDE/ySoFjasMqLmNCQv1b7i88bbwzdE90HGwy7g3Tg1xdb/cZqmAcibrY1a+sHBt5/SD5e3dOzG6nXkWRJyfbT0SIWaV8Fqy3J0ozFm4nGKMKpWljqlsIV39B5ec15oOJpJhQCsOSleFwVgq2P4Gy4aAA5zGYnRZgnjD++OljqL6bPtEwOzvbDCmN/hXG5eF8hvF7ZV6CsXLqQvrLLrvMdHJT10byU9ct/HoYoz4q+izuEcvJ2YXPRv8AwjKc3zIzM+W8884L3Iperl2fMZBQ2whFMA53H0SrTsJtJoxgHA8iQr2KBcaLqKiRlwjftpqFjVkZ6NAGY2pmB66xe1B7CQIYqMIC5xi8weCSk6mXpNN563GnkMj6SwBhC+AppxseyBhYQSgxDKTB8MCGJ4T+YNavQQg+iKV4cNkN4iiRBde7ed56vRRRpv4A1OvgtG23bqdKu3LlSpkzZ465a/XY0BedVyzVmgJ24r/u/dGhQweBRwCNBCJBIG9ftlw/aHDU176x3suFrQ+T7rfdbT0c9/t+GvN2Hsa4MTSm4OWEcI+IugAvJzxjYLEQjOENh8gOyuBFhec2Gu6YDJOXZ6yQZDx3EdLSrnMVyXefqhM/SYAEQiMw54Vn5LWFP4Z2cRivevpRY3JQ0+JtxTBmH7Gs1KADJlC2adMmUA6ek3heb926VRDODc91mNP69OqdgQmbZ555ZiAfbGCyIN4H8ORcurQwNCr6EphQBKFPt9WrV8tHH31kHrLzZNbTWrf1EGV2Hqd62956rd0+Jlxilr3V/AzmKB5eAro1b+z7aec7Debh+s8++8zkjPcaBoz0SaNugrE+EOg0oQu/A/QxnAwDcdZJV05p9eO6cOt3pj+uV7P209LSTM8BPU+1rXsRWCNk6UsG6Z6/6lq7z1AEY9WOsItExbDUdpRLHlt33w2S89dvJU9E8YhXCNwoVsVXUXlrV8maIcVD7TZ/fZ6twOYrQy1RvAnGBQf2G2vyXiT5u7MKa2lMhm86YaZUTK8ZqPWamy6TvA1rA/sZI1+S1IPtxyKcBGNcbJ28UKPH1VL7sgFmvtESjAtyc2TtsD4Bj3tMAmj8jLGmco1avtYwtq4Frt9DAJAxZrW8d6fArt1GjR5XGfdeJOLapbE7FopgvH/LRll9XfFxwKYTjZDjxj1bbcPjd0r2fwudTXCu/m2PStUTi9aDtk4uqHXVdVLzgsus2RTbD1UwjkRdilWsDO2s/+M3uevxIs/3WN3aDRd1lRN69I5V8SGXG66x8Ei0MdVNqfZxafsLKj+vNrNqfyH9wIEDHcfqVX5+PoPtT1jzjIRgjDJ0BzXrUi1egrHSW5wc/JA/xs6ggzgZJuPqk4Cd0unHdd0iGMFYvx+11IyeL7b1PqWd9qD6RNboQ9Z81H4ognG4+yCqLon4mTCC8U19rpZdMVjnzPql3ju4vxx8SlHDxXo+3vbVCwizN+AlHIypwQtcg2utM0D02R/6TBmk1zvzXrM/9Do2bdoUl7saZtBbxWBcEMxLAJ1/hMm2ExqshUN4hQCLUHHW0GfqgeU0QKXy8nopIp3+4MVAkS6WqHz0T3wfEIPtDAN9WGsOD0jrd6PWbsagFNaVxn3pD2ard6HyJEd5CAkBUZlGApEgsGDGKzJhzmeRyDqoPJulVpSHJkwK6pp4SKwa826D3U6CMeqvTwJq3bq1YEIJLBaCsVmwyx88I1E/RD2wM/29Eu53n115PEYCJOCfwOOGJ8JfMfREUDW97KTj5JzrikIcquPx/qkEY696YgAAkx3btWtnO9ii3hl+8kE7F2Iw2s9W09uvXm1+67UYyMDSLjCI36irbnrbHqHavIRNRDNC+95q8S4YQzgHB3gZ1K9f3wwtjXY6TPU17KL86LPg9fe2fv86Y/242sYkW3y3wVqogvHkyZPNSV9ua5DpkZB69OhRompqMFFfW7hEIu1AsIKx7rltxxXfE35T6AsfdNBB0rlzZ600boJA3qYNsuaGS2IOI6lSsjSfboQjNvqxiWAQFRGS2ljTK1BdrIFbqU69wH6oG+EWjLHesDHS7FqdKiec5rhm7d4fv5WNI4s8ZCu3OtYIsfxMsfy2zRgvO2fOCByrceHlUvvKawP7+oabYAye5gSGvxebl+B3kTl6kiRnNouahzEKzv75e9kw4rZAtat2OFvq33SvL8F42/QXZed7rwaurXZ6V6l3/Z2BfXMjzgTj7MU/FltDukLVaoI1oq2Wv2e3MXngwkDI7qTUytJs0vuSlJIaSLr35+9k44jbA/spBx8hmSPHB/btNkIRjCNVF7v6lYVjs8aMknd++iPmt9K+YR259omnY16PYCugj1mUZizcTTAOtY2p7iVc/QWVn9fYeKQ9jP30J1BXtAUxcRYWKcEYeas2LcbZIaQqj2pdYB00aBCSFjOlU+DgNddcU2JJGxzXNR3sWw1OhSrks/Wc077e7wtGMFa/deTbt29fW11BObKhDwvtAeOauimHPRxzEp319KEIxuHug+j1SbTthBCMl367QB55/qW4YNu9zRFy4TBLwywuamZfCSUO4qydl7D9VYVH1YwVPLBwrZ0htDO8GDDbCP+hlUcaYsurdXG9wiOoB4dbOXZlW4/pg0oIX6CvAYCZ4HhR4sGDsAZ2Ia2t+al9eFbgQQvTQ5LpD8pOnYqv56auVZ9eL0Wk0/ML5sGryrB+qhc7XgD4btTAk1o7QB94chL/ITxjQATefM2buy9Oby2f+yQQLIGJd90uX68tbJQFe224048b+7RUrW0fRj/cZYUrP/V/PlTBGPVQeeBZiUFazN6LhWB82GGHCbyPYHgOYYkDeM8hpGq3bt1sRQsz8f/+RPrdp5fFbRIggeAIDDI6p7lSFHIruKvDl7pNLSMs9TPjwpdhlHJyEozRzsMkQDwna9asKRC6rGGo9Sqq5z0mBEJYVoYBEqx/DGvRooV07NjRtlOv0iMaDyYpwo444ghBG9av6R6ydjPJ9ba9dea93zKQLt4FY9RR7yvontpugjHa5xBgYfiuzjrrLHNb/4PvB3lj0ET/h/4N3qvRFIz19oR1Qquqsx4JCRMIdC96lUYXq/W+mTpv/QxWMP7555/NpTqQj9MgoRqos/aBrWWX1/1dXxhLhzz3WFzcfkNjTdw0Y23cRLFVg3rIge1bAtXNeOxFST3kyMB+qBvhFozr9B8q6V26h1od2Wz8PnYbvxNldQYOk/SzL1K75mfOv3/KursGB44hnHTj514L7OsbroKxkRDi4bo7+kuB0a+ApR55jGQ8+KwR9rqvcW65eQx/IGhC2LTayr5djbDWhVHqKlROk2bTCqO5WdMtv7jIuQRCPwR/3TaNeVD2fDMvcKjh/WPMfDc9dV/gWHrXXlLnmpsD+9jYNe9D2fLCqMAxO4Edwvj2/0wyhNf9xn0aUUaMe92/dZPs/e7LwHXR9DDOmvOubJ04JlC2uXbzIyXbXbs+ny1bnn88kK7KyadLg6EPBfaxgfWfscZx/t49hceNNg9ClFeq26BYOn0nFME4UnXR61WWtp+8YbD8vmtfzG+pToUCeWrKKzGvR7AVCNdYuJtgjDqF0sZU9xKu/oLKT69Lr169Siw3o7fZEHVHH9dXeQT7GUp/ItJrGKt7QGSod99915yE2LJly0DUJy/BWOdkxxH5I1ooJpfq7X+Uh3+waArGqj/jpPtgzE8thYkoWueee65ZR/2PPlHWKbKSnj5YwTgSfRC9Pom2nRCC8acTX5DpX34bF2zb1K5urHn2XFzUxU8l9PWXnDq8TvnMmDHDFArc1pjSX0wIZ4cHHAzrkeE/M0IcYKF6NwvXS9LtJYCBL7zoYBAiMPjl1/CQwYMLgzLwSD7llFPMS9UD2o/nrddLERmGWzD+999/Bd7BMDWYon9f1oE59ULCwIdaj0sPR61/v2am/EMCYSbw4MB+siKnsBMf5qyDzm7IpT2lTdfCNbSCvjhGF6jGfGkEY0ysQbhIPO/U81sf4PXTMMPt697K4VjDeMGCBWZHB3l7TdBBmki/+1AGjQRIIHgCK/77vTwYJyJtXWNwaXQCDi4pwTjY9qz123J6Z2ASIQYuMJiAiaCYPAQB2s2mTJliesc6dfCdrv3rr78E7U8YJnRiwqdubm17PZ3XdiIIxhBv4WWA/oDuZaAGWPSJnvr9oo+CcHOIvGHnjaunVdvwkMV3BoumYKxPEHDyRtcnfJ100km2EZcQyQrpYHrfzDxg80f12XDKyatBv+ytt96Sbdu2mROisXSRnSE6E0IJwiDUQ7CnFRGwrrdadCb6W7UMj9Sahmdqoti6+2+UnD9/DVS33k33SLUO5wT27TYKjHY7BDVlScazW63Rq47Fk2CM+priX/b/xD+jktU6dZEKWjhqs97GczHrwzfFGElXtyEZT7wsqS0OCeyrDS/BGOm2TXtBds4qEpzrGh66WR+8EVXB+MD2rWbYcSV8JjdqIjUv7iubn31E3YrYCcb7jPDu640w78oQ1rnJ+HeMcOXu3vPW9ZGjKRivf/RW2ffLD6rKUv3sC6XuwFsD+2pjveF1vc/wvlZWudVxktLyULUb+Ny7cL7s37whsF+7z41So9slgX3rRiiCcaTqYq1bWdm/xYgEujMOIoGC59hRj0nNRsXbkfHOOVxj4fo4r53zUahtTPALZ38B+XmNjcMhDY5pMGv0S/NgCH9C6U9ESzDG7ejtVAil6E+p8Xmct/Mw1jn5HW9DXgsXLjTHyrAdLcEYmgomuOJ3aF2bGPWA6doDlily8riHFzL6MX7CUgcrGEeiD1J4d4n5NyEE41cfuV8+WbIyLghnplSQERMLZ3LHRYU8KqGvZQuh008IZmSJjvhrr71m/odGCGgM0DuZctlXs2F27txpCg5Ir8+Qd7o+XC9Jr5eAmgmOegTzQEV6taA8ZsMgLDW8OJSgru4b6ZzM66WI68ItGOvh0o499ljBwIwSXexCPKxdu1Y+/PBD8xbUwIcKYWG3trHTvfI4CYRKIF6WHkD9EzFUqVNjXv8+3EJSq3Tw5lUDsehwoLGG5x0sVoIxBGyE64R4jecRZlHahUZV9xCNd58qi58kQAL+CXz31mvywqwijyL/V0Ym5ZSpU8Ro1EUm8wjlGmnBGNVGmxTiJTr2mNmPyZ9oOzqZmiiKdjKWO3FLq+ehD4bYRSTyatvrebltJ4JgjPpjsi3EenBXHrhegvGsWbMEA4VgDobwMvcyTAZ4++1Cr7doCsZY6xpCK8xuEBD3jfYGJq/5Nb1v5nSNPhDnJRh7hfC2K8NPX9DuurJ8bOMTd8veHwoHfGN9n9U6d5N6194R62r4Ln/zuJGye/5HgfQQzxo9MDawb7exeZzhrTu/6N2aft7FUqfvTcWSxpNgvMf4bWwyfiOhmJPg6UcwLsjZJ2uGXh0QHStWTzfDHu/fujlQlUh7GKOgrI+NSVkvF3neJjc/WPJW/Buog51gfGDXTlnV7/xAGmzUvfFuqd6xS7Fj1p3tb02VHW+8HDjsxC+QwGEj2DWM9y5aIBtH3VUst7qDb5fqZxa/B9zX6oEXBTy/i13gsZN6WCvJePR5x1TBCsaRrItjJRP4xN4d2+X6m4fEzR0M73ulHHHGWXFTHz8VCddYuJdgjLqE0sbEdW5jTMH2F5Cf19i4PrkwmDbqDz/8YPZfUAacnTBmpCyU/kQ0BWOMdb355pumDoPoUBjrwngcJtbC7ARjffw+GE56yO9oCcZ6BNpWrVoJokZZTf3OrMfd9r3CUgcjGEeqD+JW/3g/lxCC8YTht8qC9UVheWIJtUZSvjwzdVosqxBU2ZhxDuEX/1EwuH7ppZf6GsRRoaZRmNUT1VoBFUceXggIfQzPrkWLFpnlIJS1V0z8cL0kvV4CEBogOOBhjFCnF198sWfd1L3qa/wiHCoGZTBAA7Mb8FDXqU+vlyLShVswRp6zZ88WvHCxThi8DhCOGr8JrAEN0Vw3PCDVeazHBS9sDLDht+M1aUDPh9skECqBvlf3CfXSsF/X9fCD5JK77w97vpHMUDWySuNhjPrhWYABa3QqkBe8viAGwGIlGKNsfdahk6cV0sGi8e4rLIl/SYAEgiHw6YRxMv2rIi+SYK6NRNqnRzwstZs0i0TWEcszGoIxKq/PQG/btq3gn5PpgpxXv0HlgXY5+ijwaEYfBWKnWj5FpfFq26t0Xp+JIhjjPnTueP9+9dVX5jpqTu89fZKX0yCMlY8+CBbMIJOejx4Wunfv3p7rS+sTuWrVqiU9e/Ys0Sddt26dfPDBB2Yx6LuopSn0ctU2RGV4AcPOP/981+WG9N+nl2CMPiwm18HA3G3yA36f+B2jD4xBN7U0k3lxOf+z7t7rJed/68XGGkXa8adIw+EjY10N3+Vb133FhY3HTjfW221qn4fxDF0z5CrJW184GQOJ4Dlb3VjjVrd4Eow3PfOw7Pm6MPqbXkc/28kZTaVcvF8nAAAWDElEQVTxM9NLJPUjGOMiOyFTzywagrEU5Mvau6+V3H8LxQC9fGzbCcY4vnHMA7L3m8+xaRrWYM58aoqjl3F+9l5ZO/QqIyx1kSAeDcE4b90q2fDobQFhHpVNadpCMkZNFKwfrVvWp7Nk6/jR+iH/28aEv6bj35aKteraXhOsYBzJuthWMMEPrl38q9zzxFNxcxeDzjtbTu59RdzUx09FwjUW7kcwRn2CbWPiGq8xJj1Pr/4C8vMaG0doYkyWVO0raAq6+Is87Ew5skF/QJtMt1D6E3pb2S1aq58+huq7qcmget3Utj7WBYcvjGe5CcYYp0dkQHBC1FP0ozCJ0s0wzge2u3btMpNFQzDWIxiinQwx3LpkEu5FaQ/oE7pFtsLvY/369Wb9vX5vyHfSpElmWiy/hMhFThapPohTeYlwPCEE4+dvHyLfb9weFzzTJF9eeCVxBGNAw0ybn376yeQHERAh7NwMDxw8RPAfEf9RIaxaB3D069FZR+gu2BlnnCFY9wnH4JXWpYv7jEdcE66XpJ+XgD6o0ry5/zV59TV+sT4bBg/wooOYApHcbTAB9+j1UkSaSAjGCJWGgSYYQqrBUxrmFF5aTRTAgxyehSp9165dpXHjxua1/EMCkSCQb7zM+/XrH4msQ8qzc8vGctWDI0K6NlYXeTXmUS8/HsZIp88WxYApGlCwWArGKH/u3LmyfPlybJozEzE47mSRfvc5lcvjJEACzgQ+GjdG3vjuZ+cEUT7z2PDbJOOoo6NcaumKU4MOkQpJrWqnz3ZHOxdexk7riO3bt8/sOyC6DQYBMOPbq22sot6gPPQfMIhiNT9te+s1dvt+BnP8vEPt8sYxP+18v4N5ekSNGjVqmBM30TdzEozRR4FXAiI8of0O9m4RONC/wwRaNVgUDcEYdcMkVpSJPiWWysGyF1ZDn0WFeYanutt9IC9MOIB5haUORjAGG3gZ43eMidZupg8mOvWt3K4vy+fWDh8oucv+jotb9OOhGxcV1SphDeULsbjRA88YwlgdLVXh5va3phgepIUDoupkxqgJktqy+JhPvAjG8PJdaaxFi0/TjPdLnQHDHEVPpNn+6ktyYGfReCBE0pSmhUuhFWZipPnPZNnx5mS1K3WvGy7VzzgvsK9vbHzyXtn7feFyCPpxbEdFMDbKyVm+RNbdObBYuG1VFyfBGOGY19xyhSCkt7K0Y9tL/WEPCdZV1q0gL1c2G2se7/lqrn5YIioYG2JE1qfvy7apzxV9v0bpCJvdCGtxW36TqNj6h4bIvsWFk3Swn37BpZJiCOFOhvXRc/74JXC6dr9bpMa5PQP7+kawgnEk66LXq6xsL/12gTzy/Etxczt9O58mnfoMiJv6+KlIuMbCI9XGxD14tY+D6S8gPz9tZj3ccrt27aRNmza41NH0tWcxbo3xa91C6U/obbxoCMaor4qKij5U/fr1zQhCOG7nYYzj//zzjyBEM8xPe15fCgjXRFowRr8QUUtVdCGn73Lp0qVmOtQJusUhhxyCTUdTkwMwARV6lZMFIxhHqg/iVLdEOJ4QgvH44cNk4fqtccEzEQVj/CeFAIzBHMw8gRAIj1E7g9CLEAVZWVnmab+hm9VaT/gPi4cxzGnwxzyp/QnXS9LPSwAzat577z3ZtGmTWYNORqhtJxZaFc1NNbCFGUsY7MCMH8TWhyeFl/l5KUZCMMZsHngNw1Bv/AawRjFEbrtZ8Jip8/7775vpMasf9+gn1Jt5Af+QQCkJxJOH8TkHN5XL7n+klHcU3cu9GvOojV/BGGkRBgeTbHSLtWCMZxoGc/FewzPMbW3NaLz7dDbcJgES8CYwd/xzMmPBD94Jo5Ri1H13S4NDig+qR6nokIuJlmCMCurr0WMSKZ65du1HpMWEUUQdgjVq1MicnGjnIYq2OCb0ID0MInT37t3NbesfP2176zV2+4kkGKP+mBiFCVK6OQnGSKN77yIkNfpvWNPYahCXVYg7eGugX+BngMmaD/b9ehhjwA19KAzawJzEXX1yLsRkTFDwMkRDQf8JvzN4oDhNcPYrGOuhutVyPm51QDsDvy3UnWGpi5Nae891kvvP78UPxmivcpt20uieED0YY1TnnGX/FIqJxvNSWXKDTKnepbtUPrKNKcDlbVgrWZ/MlH2/LlJJzM8UQ5TLMMQ569q2VsG4Ro+rJbl+w2LXWneqG+G8le2YOUO2zxivdqXqqWdKmhEu28vSjjlBKtUtmiCy59v5sump+wOXVW51rCmGBw7YbGyZ8JTs+uS9wJmavfpKrd79AvvYCEYwhsft2iFXSv6+7GJ5YCdagjHK2jrl/wrXaMaOZk6CMZJsM76DncZ3oRvE86odzpbKRohmSaoguSuXmvnC0xdCsn6f4RKMq3U6NzCBId9Yixpl5q1YKti2Ws2eV0utS0sKeQd2bJNVg3oY4a3yzUuSUitLs0nvm2HCrXmo/d3fzJPNYx5Uu5J65DGS8dD/Bfb1jWAE40jXRa9XWdle9cuPcv9Tz8TN7Qw2PIxPooexOd4PJycnC7aN6WeMKZj+gp+xcbSr4D2rJhpiqUune8L4EMb41URIO8ExlP5ELARjLA2KsS7VZlbfoZNgjPNqWSBsw5kCXrR27WFED8TSMDCM88MiKRhDc4FYrL4XRA5Cf89uQrEKkw29CnWCZuFm3333nSDMNQyCMXQoO/MrGEeyD2JXr0Q5lhCC8bQH75XPlq2OC6b1Koo8OXlqXNQlmEpg5skXX3xhhhrFdZixAQ9gDNLgPyMeHpiVg86/ejjZhS12KlMfJEIaDCbhP7rToJKejxKM4a3buXNn/ZTjNhZKtz4E/b4EIIrjoYqHgp+1MFUl9FlL6phXCDSVzs9LUReM8aB3WuRd5YnP6tWre4aAw8sTdVeG7x4vUTvDIJ517TC/4e3s8uMxEgiGwPVXXyV7pUIwl0QsbY9jj5QLhg6PWP6RyNhPYz4YwRgDoWiwohGuLNaCMeqhzzj1Wlsz0u8+xYWfJEAC/ggsfH26jJ9dXAjzd2VkUr347FipXNO+kxmZEkufazQFY9QWnX3M/Ia5tQnRf8C6x2hnwyBcIvwXntMYJMCAAfobS5YYXlX/i1qBfgK8ABo2tBct/LbtzQJd/gQjGKNfdNZZZ7nkVngKdVb9HD/tfL/eH6pg1T9S+26CMdLAwwDvPBjqBfaoI/jjfQ72GFxBfwPe6ZgcjImi4RCMEcFKrZ2MvgQ8iiG+oiz1e0C9UFb79u0D3HBMmb78D9Y2w2/Ny3TRGksGgZGd+RWM1TJLyAMhs/G79TL1PYG5376vV55l4fyGx+6Q7J++jYtbqWIImw1uKRIo46JSPirhJCa6XQpxMOPJSZLcMLNEMqtgXCKBzYEWbxZ54VoFY5vktocaGOHAqxhhwZVtfOo+2fvtF2rX8C4eKunndA/s221kG6L4hkeGBU6lNG4umWNeCexjIxjBGOl3fvAf0xMW27pFUzA2Q0Yb4cT3bysKGY26uAnGuGb9w0ONcNZ/6tV23K512UDZ8c60gMdvuARjxwK1E0nJKVKz19VS48IrSkxgQLKsj98x1nIeG7iiykmnSwPDW9rNIH6v6tetyMvaEMibTnhXKtYo2ZYLRjCOdF3c7ilRz+3eslluHHZb3FT/DmMN4yMTdA3j0o6FR7KN6WeMCT8Cv/0FP21m5Id2ISZPKn0CgnGTJk3MCDVoc6GtieUXEU0VXs4wp6UUQ+lPxEIwxj3obVvsw9wEY7S1IQRjEigMbWFEbYKHMtrmuHdwUhN1Ib5/+WXhu720grFVt0BEJLT/8Q8aBDQXVSf0FaBfWA19lGnTppkRbv1GgdW1E7ew1H4F40j2Qaz3m0j7CSEYz3nhGXltYVGYklgCPqxaqtwVR2E3gmGBQYF58+aZMe7drsOMD4gCxxxzTAlR1uk6DAKpsGBI4xab35qH6mhbj7vtX3PNNSVmnQTzEtAHBLwGYPR64B7VDBmESUO4ND/m56WoP/T85Ik0rVu3Ngde3NLrC8wj3bnnnmu+aJ2usXoVuoXfcMqDx0kgFAL3DOgra3OLZtKHkke4rhl47plyymVXhSu7qOTjpzEfjGCMSi9btswMQ6RuIB4EY9QFa8ijYwQ77rjjzHeWuWPzJ5LvPpvieIgESMCFwJJvvpIRL050SRG9U1WTCmTc1OIDztErPfSSoi0YYxY6Jg/l5OSYlXYT5tAxx1pmKqyw213CAxbRiNzWqQqmbe9WVjCCsVs++jmEflZ199POD3YwD/0NhJpWA2V++iuYUAX+CDvtZAi1jJDQaO/jHR8OwdipLHUcobURkQme506mC95XXHFFQIB2So/j8MRAWDqY2334FYxVPw/fK75fP6aHA2RY6iJiWyaOkV1z3i06EMOtGt2vlNqXD4phDUIvetf8j2SrwTIQvtklq4rpNaXO4NularvTbFPFg2Bsin0IR51b+D6BN2zTl96RijVr29ZZHSwwnmmrBlwo+buz1CFjXedpxrrORaGLgxWMjZFs04sboaF1i6ZgjHL3fPelbBp9r14FV8EYCQv25xneyc95/h9Lbn6IZDzynKzHesmrl5tlREswrnx0W6k76DbbyQvqZtfdd6Pk/PWr2pX6Qx+SqifbOzYEEhkbG0bdJdmLFgQO1Rk4TNLPviiwrzaCEYwjXRdVp7L2GU8T/sc89ojUatw0oRCHayw8km1MP2NMgO63v+Cnzay+RAiP8D5VY/DquN0nxEb0K9RkTj1NKP2JWAnGEFnh4KZPuHQTjHGfEGoh2KvxMf3e9W1M2oRjGvp1sNIKxnredttw0EOZiMzqZHo72m+UWuSFKLqY/OrWZvcrGEeyD+J034lwPCEE4z/nzZVRUwrD6sYaaucWxrqWD42IdTVCLh+DPXDfx8x+FXZaZYaQxRi8OeGEE8zZ6Oq43099AN9LlNTzDNdLMpiXAAZSMAijGCBsA2bie5m+JiYE9RNPPNHrEvO8n5dipARj3CMepjB8xwjZZhcGwkxg/NE9qf2s36Wu4ycJlJbAC7cPke/iZL36EXfcKpmtWpf2lqJ6vZ/GfLCCMW4AMxbVuiPxIhjjef/222+bsxbxPHNbWxP3EMl3H/KnkQAJ+COQb8wi7j9ggBRIkr8LIpjqoLRkuW98fIjXwdxmtAVj1E1f8woTJnv16mVG6XGqN8LdYYY8BjvUrH+kRXQgdOwxqIMZ4W7tUaQPpm2P9E6WiIIx7kWP4ORHMMY1GFxDfwX9ChVyDsdh4A7vXXyHaoKom9BaeJX9XzsPCKTEdwwPgtq1a5sh4hAmrkWLFuaySPY5iSlww7sAXgbwioag7dfg1Y6wd25hqf0IxsgDecG8JqLpddM9I3CffrzT9evL6nbW3Fmy9aXRcXF79YY8INVO8RfFLC4qbKlE7qrlsnXyM6ZHqR5aWCVDGN8a3S4xvDgvlwppVdThEp/xIBjv/vpT2fzMw4G6pR7RWjIefi6w77axedxjsnv+x4EkNXv3l1q9+gT2gxaMjStzDC/ddXdfFwiJjMyiLRijzA2P3ynZ//0Gm6a5eRirNPgEzx3vvSr7DTEYorpuaYZXd73r75SK1WvIhpHDJfvHhebpSAjG8Gyv1LiZwPM72fiX2uJQSWt9vF6dEtsIC776ul4G+8LJ4kkpqYXhqI3fs5dhIsWWcSMDyZzWKfcrGEejLoHKlrGNEdcNkCV7Cr07Y3lrNYxJoM8k4CTQcI2FBysY47vy28b0M8akvns//QU/Y+MqP3zCcxbtODgBWIVj9COwjAnWxsWnk4XSn4iVYIx70Mfkse8lGCMNhGZ8pytWrDD7X8q7F+ewzCTG8SDcYlxs6tSpOBx2wRjloN2Pf+gHQJzGMTebPXu26QENoR9LZ3qFo1Z56U6A6JeiPKv5EYyhDUWyD2KtUyLtJ4RgDKCDjPDGuXEwuHT9hedKu56XJtJ37FhXdHAxkINPhNxSocQcL+AJEiABEogggc8mvijTvizszEawGM+sa1UokDFTEs/rzPPGmMAkwHcffwgkEFsCDw/uL8uyC9czjWVNuh7eUi65+4FYVqFclI2QcRioQT8DnXmsT0WLDgEVGg7MIdSzrxcd7ixFTG/GtcOKxLxYMmny4ttSqU69WFYhPGUbwlrehjWC9Y3z9+6R5AYZpvemuT6wMWhOK78E4LENT+nclf9KharVDcH2EEnOSCxPy/L77SX2nb/x2MPy0V9LY34Tbeumy01P269lHfPKsQJhIwDxGBMiMTkR0WswAdK6VGXYCkvgjCCCQutBPwCMIOCy/5XAX2iMqp4wgvHYITfKz9t2xQhTYbGphj/E+FcoIsT0S2DhJEACZZbAjnVrZcidd8f8/k5r3ED6P/ZEzOvBCpAACZBAWSQw86mRMvOXv2J+a/cawvXBp3SIeT1YARIgARIoiwTW3tpX4OEXS0s97GjJeHRcLKvAskmABEigzBKIl6Vmrjmro3S8ql+Z5cwbIwESIIFoE0gYwfj7d96Q52fOjjafYuWdklFPBj4eH6GVilWMOyRAAiRQRgiMueUG+WX77pjezfB+V8kRnc6MaR1YOAmQAAmUVQJbVi6X2+57MKa31zS1ojw8YVJM68DCSYAESKAsE0Co3O3TX4zpLdYZeKuxtumFMa0DCycBEiCBskzg/oH9ZFVO8ZDo0bzfKpIvz78yLZpFsiwSIAESKPMEEkYwxjdx/4BrZFVufsy+lAcNIaN523YxK58FkwAJkEBZJ7D4k9kyevobMbvNw6ulyp3PvxSz8lkwCZAACZQHAuOHD5OF67fG7Fb7nHGKnN53UMzKZ8EkQAIkUNYJ5GfvldWDe0p+9p6Y3CrCUCMcNY0ESIAESCByBOa9PF5e+aJoDe7IlWSfc5dDm8ul9z5kf5JHSYAESIAEQiKQUILx928bXsbvxcbLmCFKQ/p98SISIAESCJrAs0NvlB+3xmYJgjv6XC5Hdj4n6DrzAhIgARIgAf8ENi75W+5+5DGJhT9Ci7RK8sD4l/1XlilJgARIgARCIrBj1muyfdoLIV1b2ovoXVxagryeBEiABPwReNDwMl4RAy/j6kkFMnrcOEmtVt1fRZmKBEiABEjAF4GEEoxxRy/eMUy+3RBdj4TaFQrksf97TipXT/cFlYlIgARIgARCJ7B15TK5zwhXuleSQs8khCtPb54hfR4eGcKVvIQESIAESCBYArPGPiHv/Ph7sJeVOv2dA/rI4R3OKHU+zIAESIAESMCbwLoHbpKcP37xThjGFGnHnSQN7xoVxhyZFQmQAAmQgBOBxXM/ktHTXnc6HbHjV3c6Sc7od23E8mfGJEACJFBeCSScYJy/f7/cN3igrM2LXmjqmy++SI47v3t5/Y3wvkmABEgg6gQWvPqKTPj4s6iVe5DhcXYfPc6ixpsFkQAJkAAIPDv0JiOiRFbUYPRq20q63XJ71MpjQSRAAiRQ3gnkrlkh6+++LmqhqSvWqisZI1+USnXql3f0vH8SIAESiBqBt58cIe//9k/UyjulUV0ZOOqpqJXHgkiABEigPBH4fwAAAP//r5WwXAAAQABJREFU7Z0HvGRFlYdryGkkR0GGHBxggBEFEQcWl+CSREHAFVhZkCiCAgoooKCCEpSMu+IqCxKUJIuigGSHMKIDEhSGIEgOAhIU9n13OM15NXW7b3fX63ff6//5/d7r7tv31q373dunqs45dWrMWwMSRpg8+ocp4dhvnxBefGvMkNd8h/Umhk0+u++Qn0cnEAEREAERGEzgkuO/FX72u7sHbxyCT4vMHMKXjjoqzL/U0kNQuooUAREQARFoRuDrn90t/OmVN5rtkuW7SUsvEXb52jeylKVCREAEREAEqhN45Y5bwhPfOKj6AZ3uOfPMYfGvnhjmWGWNTkvQcSIgAiIgAh0SOOuQA8ONjz3d4dHVD1v1XXOEg04+o/oB2lMEREAERKAtAmNGosOYK3zgtzeGk049I7wwhE7j7d8/IWy29+fbAqqdRUAEREAE8hG46Lijw2V/uC9fgVFJi80Swv4HHRQWW/m90Tf6KAIiIAIi0AsCr/3txXDcFw8YUqfxpKUXH3AWf7MXl6NziIAIiIAIJAi8PPm68ORxhyW+ybRpwFm82JeODXOu8b5MBaoYERABERCBdgmcefAB4abHn2n3sMr7y1lcGZV2FAEREIGOCYxYhzFX/MT994bTv31sePDv/+gYQOrA2cJb4dObbBTW32mX1NfaJgIiIAIi0EMCV515SjjnhsnZz7jSPLOHvb5yRJh3sSWyl60CRUAEREAE2iNw8gH7hduefqG9gyrsvcVqK4Ztv3hohT21iwiIgAiIwFAS+PvdvwtPn3xM+MdTf816mtmWHBcW2vvLYfblV85argoTAREQARFon8B5xxwRrrznwfYPbHHEuosvGPb41vEt9tLXIiACIiAC3RIY0Q5ju/hzv3Z4+MX9D9vHrl5XHnAgfOqze4YlV1+zq3J0sAiIgAiIQD4C9990fTj3h2eHBzIFCG260rLhk4d+NV8FVZIIiIAIiEDXBK44+fhw8eTfhddD98vOkEFiu222DmttsU3X9VIBIiACIiACeQi8+dKL4Zmzvxde+s0vshQ4z8ZbhIV23S+MmW32LOWpEBEQAREQge4J/PbCc8MFP78yPP3P7suaM7wZPvbB94eP7LFP94WpBBEQAREQgZYERoXDmKt8eMpt4bJzfhRuffL5lhed2uHds84UPrLBB8OknXdLfa1tIiACIiACNSDwyzO+F351y23hyQ4HHhMXnjds8alPh6XXnFiDq1EVREAEREAEYgLPPvJQ+OlpJ4ebHn1ywDzUvsw75q2w4eqrhq0PPKT9g3WECIiACIhATwiwrvELl50XXp16R0fnm3PND4R5t/xkmHP8Wh0dr4NEQAREQASGnsBFx349XDP13vBSmKntk80ykP1zg3HvDlvvvV9416KLt328DhABERABEeiMwKhxGNvlP/fII+HGn54fpt57b5j20qvh1SYzFBaaOYSVFl04vO9DHwoTPrqVFaFXERABERCBmhO49Wfnh9tuujnc/9Qz4dk3y2eizTQwyFhmzlnDe5dfLnxw623DoiusVPMrU/VEQAREQAQg8LenngjX/+SccOddfwwPvPxaeKNJn/5dA07i5Rd4V1hr4kQtKaPHRwREQARGEIHX/vTH8PLN14ZX7rw1vPHQn5rWfLZlVwpzTVgnzPWBSWH2ZVZouq++FAEREAERqA+Ba8/+fpgyZUr483MvNnUezz4QLrrs2LnCGu9dNWyw46fDXPPNX5+LUE1EQAREoE8IjDqHcXzfHr/nrvDkgw+E30z5Q3jrrTfDcosuFFZYfvmwxKrjw9hFFot312cREAEREIERRuC5Rx8Of73v3nD3g9PCM6+RyHRMWHOJRcLC71k6LL3W+0bY1ai6IiACIiACKQJ/mXpneGKgT3/7o48P9OnfCnPNPHOYsMx7BgKBVgwLL7N86hBtEwEREAERGEEE3vz7K+GNxx8Jrz79ZPjtg48UNV9/hWXCLPMvFGZZYqkw0+xzjKCrUVVFQAREQARSBJ788/3h8fvvDXdOG9D3b74ZZhozJqy91BJhsWWXC4uvulrqEG0TAREQARHoIYFR7zA2lmeddVZhXNp4443Dsssua5v1KgIiIAIiMEoI/O53vwuTJ08Os846a9h1111HyVXpMkRABERABDyB//3f/w0vvfRSWH4gAHSjjTbyX+m9CIiACIjAKCDw+uuvh7PPPru4kt13330UXJEuQQREQAREICbwi1/8Ijz00ENhvvnmC9ttt138tT6LgAiIgAgMEwE5jIcJvE4rAiIgAiKQl4Acxnl5qjQREAERqCMBOYzreFdUJxEQARHIR0AO43wsVZIIiIAI1JWAHMZ1vTOqlwiIQL8TkMO4358AXb8IiIAIjBICchiPkhupyxABERCBJgTkMG4CR1+JgAiIwCggIIfxKLiJugQREAERaEFADuMWgPS1CIiACAwTATmMhwn8aDrtM888Ex577LHiklZYYYUwxxxaW2gk3d/nn38+PPLI9DWilltuuTDXXHONpOqrriLQINDvDuOHH344vPDCC2HmgXU9V1111QaXOrx59dVXA/fnzYE1ilZfffUwzzzzJKuVsz154403wj333FOcZ7HFFgsLL7xw6TmnTp0axo4dG9ZYY42CX3LHEbox53OR8/70AifP3f3331+caokllggLLrhgL06rcwwxATmMhxhwpuKr6J7h1CnDee5MiGtfjBjX/hbVtoJyGNf21iQrNmXKlHDNNdc0vttggw3CxIkTG5/tTdX9bP/cr8N9/tzXMxLKu/TSS8Of/vSnRlV32mmnsOiiizY+601/E5DDeGTc/yr9ueEcdw/nuUfGHey+lmLcPcORVoIcxiPtjtWwvnfddVe48cYbi5p9/OMfDwsssEANa6kqlRGgA3/11VcXX2+99dZhkUUWKdtV20Wg1gT63WH8q1/9KjzwwANh9tlnDzvvvHOt7tXtt98e+ENWXnnlgCEpJTnbk5dffjmcc845xWne//73F87g1Dkvu+yy8PjjjxdfbbjhhoHAp9EkOZ+LnPenF4yfe+65cMEFFxSnWm+99cL48eN7cVqdY4gJyGE8xIAzFV9F9wynThnOc2dCXPtixLj2t6i2FZTDuLa3Jlmxn/70p+HUU09tfLfHHnuET3ziE43P9qbqfrZ/7tfhPn/u6xkJ5X31q19t2AqpL8/JiiuuOBKqrjr2gIAcxj2AnOEUVfpzwznuHs5zZ8A7IooQ4xFxm7JWUg7jrDj7s7AqjUd/khkZVy2H8ci4T6plawJyGNfXYezbiQkTJoR11lkneUP9ft0GIFV1GF911VXhwQcfLOqz+eabhyWXXDJZt5G6sYrTpuq15bw/Vc/ZzX4a2HRDr77HymFc33vja1ZF9+TUKUS+42QaM2ZMkTHC1yX1Pue5U+VrWwhirKegUwJyGHdKbniOq+qIrbpflav4+9//XgTK2r7vete7wlJLLWUfk685z588gTbOQEAO4xmQaIMjIIexg1Hjt1X6cznH3f/4xz/CK6+8UhCZe+65W2aAy3nuGt+GYa2aGA8r/mE5uRzGw4J9dJ20SuMxuq54dF2NHMaj637289XIYVxfhzGpqKdNm1akpB43blyYZZZZko9qzvakqsMYJwMzszE0jTZnMZCrOG2SNyOxMef9SRSffZMGNtmR1qJAOYxrcRtaVqKK7smpU2644YZw9913h5lmminstttuLeuX89wtT9anO4hxn974DJcth3EGiD0soqojtup+Vap+3333hb322qux6wc/+MFw5JFHNj6n3uQ8f6r8ft3GOO83v/lNuPfee8NWW20VFl988QYKOYwbKPQmQUAO4wSUGm6q0p/LOe7+85//HH79618XJNAprdLY5zx3DfHXokpiXIvb0NNKyGHcU9yj82RVGo/ReeWj46rkMB4d91FXEYo1cidPnhxmnXXWsOuuu/YdkirG+bpDydmeVHUY152J1Y+B00MPPRRYj7mdNapzPhc5749d11C+amAzlHSHr2w5jIePfTtnrqJ7cuoUOYzbuTv59v3nP/8Zpk6dGp544oli6Qdv1Mt5f/PVWCWNBAJyGI+Eu/ROHas6Yqvu907J5e/kMC5n08tvWNYHpzDBt8h///d/h/e85z2NKshh3EChNwkCchgnoNRwU5X+XM5xtxzGw/cQlNmcct7f4bs6nbkdAnIYt0NL+yYJVGk8kgdqYy0IyGFci9ugSmQgoBnG9Z1hXPX25mxPRpPD2BwvcGy2HnOKsx2bY23rnPcnVdfc2zSwyU20HuXJYVyP+9CqFlV0T06dIodxqzuS//vXXnstXHzxxeGFF14oCt9mm23Cwgsv3DhRzvvbKFRv+oKAHMYj6zZXdQRX3a/K1cthXIXS0O5Dlqa99967CGi1M5133nlhoYUWso+FM/nGG29sfNYaxg0UejNAQA7jkfEYVOnP5Rx3y2E8PM+Fjd04e2xzynl/h+fqdNZ2Cchh3C4x7T8DgWaNB2sPMOCba665ZjiujhtYC2fOOefsqmpvvfVWoBxSrs4222xdlWUHY5Ch3DnmmMM2dfT6xhtvFGu7+XSwnTqMc10nKYxYnwJnBjNDJSLQKQE5jMsdxjl0W6f3pZ3jmrUnzcpBj6Df0CMmvXQYo8PQ9163Wj3aecXwQjpV33bcc8894brrriuKofx/+Zd/CUsvvXTlYq3jn3IYt/tcdHp/rL2gfWV90U6FPgV/VdvCoRzYqO3q9C52f5wcxt0zbKcE+/22269tpnvs/J3qFDvev+Z0GOcev8Cwqu5DL9MGzDzzzP7yhv09bSrtiG/nrr766sA4AkG/b7vttoPGfM3ub27Gww5IFchKoB8dxugJ/kzQGVX1hh0Tv9JXMWlWHrwffvjh8MwzzxR/HLPAAgsU/U2fXtjKil+rOoKr7kf5vu52PvrIxon0x/vuu699FdZbb71wxBFHND7zhv29NDs/2RL++Mc/hkcffbSYIcsSOlVsWPTd7b7B2Pqo1P/BBx8ML774YsERnmWCPuS80waW78Huw7np61tZZcexnTbDhOv1YyHbbq/t7GvHML7i2SDLEccvuOCCxRI+LONDG3DMMcfYrsXrpZdeOohbsxnGjJ/uvPPOwha0zDLLFNx9GzOoYH0YlQTkMO79bUVnoZ+q6DerXbP+nO2Tc9yd02HMtaK76KfGbYLVvZ1X9H3Vtpm2FfG2nXbONVT7dmJzanZ/czMequtWue0RkMO4PV4jam8MJ/yo6TT+67/+a1d1RwFceeWVgY40nbnx48c3yks1HnS2SU/G+REUJJ3ktddeO7z73e9uHOvf0OknUhSZMGFCWGqppfzXg97ToZ4yZUqxbd111x0UxThox8SH2267LZA6Z4UVVggrr7xy+Otf/xq4hscee6xoSOiYExXJ9/xVEa6TddPoSGNQsUEDZdGp5rpJI9pMSKVLOjfjy2ABBxhcUOgIjTqp3rjmeeaZp1lxje9eeumlwDU/+eSTxQwAGrdFFlmk6JCvscYagcaYzj6y9dZbF981Do7e5LhOimQmwh/+8IdiUMRAwYRnlevj/rfiZcfoVQSMgBzGgx3Gzz//fKFD0G3oAQIymPmDjnnve99r2JKvDN7oWKMrMMA0k5tvvrnQXei7TTfdNLnr008/HWiTkIkTJ5auFZxqT5IFDmzEuHLHHXeEv/zlL+HZZ58t2qf5558/LLHEEoXOpb0655xzisPjCElfJg5Z/hDqX2ac+b//+7/inNQf4xl8OT/GIM6FbmUdZNKwve997xtkVPfni9+jV03/m66nzeQ6Vl999UJ/005tsskmxbZ2nQix06ab56Kd+4OBCT60t9wf7hdGIPoC8KNdrGIU4rjbb7+9MKRRDu2r9SnWWmut0mcJzrC94IILCuQ8x77v4u8Dbffvf//7YhN8P/CBDxT19PvwXm1XTGR4Pvejw5h+tTnmNtxww8p9wLI7dMstt4Snnnqq0Fkf/vCHZ9gtR38v1j0znGRgQ1WdYrqeMuaee+7AWpX0GelD2hpn/D6tTxk7ONAZ6FAvqXN3Mn6xMmGKrra2EH1l29Bb1GnzzTe33Qe9MoYgnSfHmBFn3nnnLdpsdOXYsWMH7e8/YMiHD7LBBhskdZftz31lnUlkzTXXbBl8ZGWbDuc4xiL0I1ga4Wc/+1nxLG600UbJsVhuxpxf0h8E+tFhjA7YfffdGzeYMbH1Yxsb336DzcDsDejElI5ALxx00EGNQ//t3/4t7L///o3PvGGMgBMVfc1YISWrrLJK+MxnPlOMz1Pfs62ZI9YfU2U/9DhORrP1cDx97D322CN8/OMfDxdeeGE4/fTTfbGl76+44opBhvrU+Snzu9/9btGWWBti54QZ6yQ3C2rHfmLscEhcdtllxbji2GOPLRytlMU45Oijj56hnhx35plnFrMsGUt44Zrpj+63336DMjf4fbDReTsf9pMf//jHfpfGe2xLH/3oRxufsbX94Ac/aHyO31Cfn//85+F//ud/ijFP/D12Mp5B+iac91Of+lTgWYmDWlMOY57tr3/964U9iH6+Ce06M5bL2krbT6+jh0A/Ooyxy/72t78tbiJj/fg30+7dvf/++wudg85AH9Dn9UK/0vqZ9JVN1zAOn2+++Yrx8YorrugPmeF9qj8X75Rj3E1bhA2KP2wWCLb5WAdPmjRpULuXOjftm9ki0FU4i7FDcK1lNgG7JvQa/gxk4403LmwW2GumvR3UQ5u75ZZbJp3u2KY4lgAsaxuw3eMXWG211Qp7jp0nfrV+N9tz9+lh1I3NKTfj+Nr1uX4E5DCu3z3JViOUI45ChI5wWVQjqcRotDBylxn7UbaXX355URb7+HVJfONBZDlGVxqtlNCIYfjAyBsLDcL5559fbKYDu9lmm8W7ND5fc801xTloOD796U+3FYVvBiwaCowdXJfvqDZOMvCGjvD6668/QwPl98Hheu211zYaXr6jkcZg9Le//a0xmKMzQKe/THDI00Ast9xyhUOYDjpKOSV0ppllRmRnM8EITt0YIKQEhzkGLHgizRzGua6TOl111VWDoobprMT3gGcEx4xEBKoSkMP4HYcxaSGJ8PaGD8+RgQkdbXRJSswhg45pNWjHkfrII48URvyddtopVVxhkLI2BN2FnkuJb0+atVu0F+hyjNgpYWCBU8Wchc0cxrSTZmzH2FEWbcuaXOgp2gTaU3S2RY3GdeB72spWgT08s5wfgw+DGBwEOCy5Pq8Taa+4X52ItXnc626fi6r3B6cJbQ+zKsoE5zrX1Cw4iPtL/W3AmCpr+eWXL+41/YtYUgObeB9mNjB4YiDJvf/IRz5SBC7F+6ntiokM32fTT9x7HFX9IPym0OlIs+AHnmX0Cr/3f//3f09G0qNbMADzSuAg+tFLrv6e1z0777yzP0XjfSudQh3RJbY2IkFMGMNMT9PPPvfccxvllb2hT854wYs/dzfjFyvT+vHUjXaT++XbCAKaPvGJT9juxSuGJBy4GJfKhLEOgaL02VNCYKk5gZv14zmW8R7jPgRDVFmZtEncv2kDhjGEOmBUJBAIvc73JujxMkNjbsZ2Tr2OfgL96DDmru6yyy5FgJzd4Xg9WLbT5951111tl8KugnMyFpyqOFdN2MfbYAjo+9znPlfal7bjeKWPesABB5TailKO2FjfUU6r/TCwf+lLX2rofI5Bpx566KGNtiqnwxgHvdeLnC8W9NuJJ544gxPG9osdxqeddlox85n2yYR2+6ijjrKPxSsO8W984xst+XP9OI1xWsQyVA5j2l6CDSyYMj5v/Pnwww8PqeAz9osdxscff3zhJLdg3bgsPsN0n332SX2lbaOMQD86jH0/nAA8xp4pQddjZ0HiJT/8/gSpoM+ZGMB+XhhL0z81xyXfoc8Zh6OjzHlMEAcBMmWB6b4/V2ajyTHutjGev4bUe9oX+tUm8bm5DiYrWGCV7Wev2MKwSZUFr6P7CPpEPvaxjxX9bNonL4wr/EQD7ivjMHM0+339e5zV66yzTvLcQ9Gn59w5bE65GXsmel9PAnIY1/O+ZKmVd8Ay24lI8lh8yk6UKkovjt7hGGaQMSMURyj70MiY+MYDByzRSxjLiTCk0SKiCYczitMMDGUGDRwK7Ivhd8cddywcEHYee0Xp/+hHPyrKXXbZZZOdZ9s39WoGLAzz1A3jB/Vm5jNRocy44BpQiAizvGg8U0Lk009+8pOGQQhnOI0P0UNcA4Pdm266qTFzGgNSmZPXDE04cOGMcZqycKxQVww0RDqxHWHw8MlPfjLZ0PA9xiecziZcI+fmGmnsuB88IzS0dq1l9yXXdeK8wrBHx4RniJnEBB/wnODUZsDGTDLuARIHJ9i16FUEUgTkMJ7uMKbjy++cgQF6mN89+iLWbThVGVSkHG3WWa+jwxi9jd61QBjqiOMIXUbULHqS4Buv23I6jIkMxXmBPmOmNm0HgwX0KO2k6dNx48YNivqPn1nqiN5HaMtwRNugAx2JIxlnJtJNAI21eTmeC9/elw0WuQc46q29hxFBYDgb+I42nkEYbTn9DgZ8DFpjgS9BZOZwoT1kUE17CDsC02zwm3J6UR73woIGYicb9SPVt2U2oR3CEcVMnVjUdsVEhvez6ad+chjze2GmGc8iOsfPEvJ3A93I7wxhn1RWH/qRGOiQuN+Xq79H2aZ7cF534jDmWtGRZKhAMNp/6EMfGmTMQlfa9+hLHJz0L7fYYoviGPvHNn7jXrw+63b8QrnWj6e9pf2hH84YAic3Yw3aWvSQCToI/WT3i7aMa6Rtpp2jzcahwHuEIKhU5qOhMC4x8wWe1JmxDf11G/txX3BQY8hEGCNxnSnJzTh1Dm0bnQT61WGMg5g2zmTPPfcsUr3bZ15jhyn9O2b70/f38h//8R+NGa70nehTeWfAZz/72UbmCo7j905/FJsRtgxsBX7tWfqo1A+dFksrR7Dt32w/+naHHHJIYQ+w/QkqZCbquIE+tQl6kf4bdozrr7/eNhcBiNi8vDBb1TsE4vPTPzVd5o+L3+O8pL1MCdutP8o9QF9iO/NCH/8Ily6b/bk/qcBXbHG0GV7Y9v3vf3+GNp12ZChmGJ9wwgmD7EhwwmlCO0o/nmfJ2l7qCefYUWX1jx3GVZjzLJ5xxhnF82jl6HV0EuhHhzF3kuw4BGjy28a+7nWz3Wn0nAVWoJdj/cZ+2EMIAmWckLJ32OQw9sWujG0IHY5e5Bj0PI5R3qO7cGSmxPfnymwAOcbd6BX69vShbfIbff948httlNft/twEQzK+hy12GwtOp2zshdav5lq55pR4hzF9b+wO1IH+LveK86F7rW9MGfSN6ZMjtLlMGENnos84N6zN6UwdCdyMZSj69LlsTrkZx9euz/UjIIdx/e5J1hoxoKAjSqOQ6uR6xc+JiVxkoBDLeeedVzgsUZYYLLzEZaBEUZ5xKgxmRxD9RGOEUzQ25lAmRngMTEiZAicF0yWXXFLsw8wSDIbtiBmwOAZlTz3igQ+ddBpxlCtSNiOOhoiZDwiNL41ZLHTk6VTj8CVya6uttop3KT6boYk60UiWdQr8bLgyRjC+6KKLintPI0b9MbR74RzMLLZZG3wXGw5t/1zXiSPH0l+X1Z3BH3WnfiuttFJptKrVTa8iYATkMJ7uMIYHv3uMuNZBNkaxbiManN9ZLOaQqaPDmGhRgnqQMkchjltvrEkNoOyavU6tMsPYBnREA/tsG5SH3kKX22yxMp3Kvjh/CNpi8IERxg84+B7xg8kddtih4VCe/m21/77N6/a58O192WDR2jIGR/Qp4raHWrOsBAYCeOEIjlPFso9lEuE92TkYdHlhsEfbyivngk88o9sPbLzDmGN++ctfFuljKZO+DYM2u7f+PLxX2xUTGd7Ppp/6yWEMcQz3/Ab5HWNcivvZ/nlnf4I1SN0cixmg+L0QnOklV3+PMk33dOIwxrCCLsE5ye+bGbat0sdZ2wCf3XbbzV9W8r3XZ+zQzfiF473u4zNjgrIZvHzvjVHoN9oprtULYwdSqvKKI3r77befIbA3t3GJczHuQ3Ck4+iIhVkUOLuZnVI2xuSY3Izjeujz6CXQrw5jHAikXjYh29Y3v/lN+1i8fvGLXxyUrpmNRx555CB9j73EZ/0haJ0ZwiY4LHHwYTMwOfjgg2eY6Ua6ZPpaJsxs9uXa9tgRyzW0M8MYQzqzVP2sXNowZuVieE8J7RXpok1o7+DQTOJ62r4cS31pB7CNnHXWWYUzx74nkId+e6qf6B3G6HBjit3HgnzGjRsXdhmYPW5y0kknFXYx+0ywIk5p2jp0PcvdsI+Nd9gP29Bxxx1nhxSvQ+Ewxna43XbbNc5DoADPAPUyiWe5U3/ahLhfwv6xw5ht1m/Hlkf5jOFhbgFU7MMYlWdCMroJ9KvDmN84WRcRMmsSSOEFPUJ6eQI5EQIRUzoVR6Zli2QykQ/CRs9bABKB2xwf9zMp28bc9J/RU94Ry/eI78+V2QD8OKSbcTfnoy20JWewn6NPm4k/N/uhk2j34OYFnrQD2GDQV9gPGKfE4vvoMEOXo5NS/DjWZ6ooG0/Qd2ZsZD4G2uA4mDV3n5665bI55WZM3ST1JiCHcb3vT9e182mpU4Zwm9FrJ0o5hP1MZRzBdHi9+MbDOn+x0db2t8aIzww4iPrxQqeXRg0DEYMDDCOx3HrrrcUgqcxgFu8ffzYDFtvLZl7zHQZlZsPiYOF6qEs8SEDZ24xf2MXOGcpBmGXMQIhGyQ8Wpn87/b8ZmviEA4GGOCUY2DHk0MhxPtZOiIVINAyCCAY2P6PB78tgnAEAvJEy50au6/TPSrNUeFwjnSSep5i5r7/ei4AnIIfxOw5jZgTxlxJ0GzqE3z+R8HSU44GBOWTq5jCmPcIggX4gspQ0omWCkR3HJJLTYUx5ZUZ0vvOd6bKZwehcW2PMD6g43gvppQi0QjrNuODbvG6fC6/DU4NFZh1Y6vFWzjxmhbBeKELgFoFkJn7Q1ewZNEcuzy/tOVHEXvy9MM4YwjBOYJSkjeHZiJ3Rvgze++tW2xXT6f1n00+tnrHe12xoz+j1QSqQ0ff5qUnKIcx2svRgMOH3gnHaS67+HmWa7mnXYYyxnmBMDCscS+BJaqa0rzfvu3EYdzt+4fy+H18WCMN+CO0vzzGv3CeMfIxrUmJ6ju9wHvmUsmzLbVzy50vpec6JkBGIPyQ1pmO71505GFOmpD8I8Ns4++yzi4v16/r2w9WTkcECD7EdMHvYDNr0HwkyRD96iR3C9MVIo2yC09kv9UQ2BlInm/D7ZCZvPB6gHj5DxKRJk8Jhhx1mhzVeY0dsOw5j+n/HHHNMI6MMhRKUiYM7thU1TjjwJpfDGKclabBhYELgDNftHdg//OEPk22RdxhzPOUwe5jxVUqYRMGSEeZYZv9TTz214Vy2Y7jH6FbafpM4rfhQOIxpS49ws6Hpb8AnFu4xTh2TU045JRmEnHIYs5Z2nMGPmeMEQ5gwziNrimR0E+hXhzG/b1seJmVX8EvR2BMQO4TZbn3tlF0EPWbZygjuS00SoAzvvKZ9IUAmFt+fK+sb5hp3c+5uHcZlWXko29vKy+wr3mFMUAu+lLJ+OmVaWnD0OY55HPQpwYmPHQ7djWM51oO5+/Q5bU7+/nJt3TJO8dG2ehGQw7he9yN7bbyzNzZykr4CoxHKCqMbBgIGI/GaZ94Jk0qX4RsP0lzQqSwTrwDLGho/2wtnaOyEtVnTzVLylZ2f7dao8h4ncFnUKt+bc5r3ZY0n37US3+CkHPcc7w1NzZQv+9o1EOlJebEwi5f7SaPG7BEfERrvawY2tpc5jONjyj63uk5mjDCgRODO4Hbs2LFlxWm7CLRFwOsqBtj9JqYXuG4iw8s6qnzv9WwqutEcMs2cdZSD9HINY9/Bx5iUmr06vVaDBxq5Hcbo1bLAKM7PABDHfJlDCwOcLRlQNlChHL9sBLMfmG3RruR8Lnx7n2rD7TdIHVu1mb5/EmecYHBLSlSkVVQxQV1lBkU/sMFhTNQ10cocgxEWRxTPeCtR29WKUG+/N/1U9vvqbW16dzaMy5aWOnXt9K94Vq1PT83i36EPxkj1sateTav+HuWY7qnqMCYAiCBM2ieE4EkCVf1sieKLkn/Wn6Xv2+4M4xzjF9+Pb6bXqb7PlpTKoOAv0d93ZqAwE8WLH1u16sf7+x+PC61MP/bB6RE7kGw/P6sl1R6wn28zcjC2c+t19BPoZ4fxf/3Xfw1am/3oo48ugtu467Ezz54EZin59dy/8pWvFAHrfM9Ym2DLst+ylZF6xamBPjMZNzBxgNTIsXTqMCYNP7rEnKeUi/7GMdJKcjiMYYIjODV77dvf/nZhn7F6xE532x47jFvNdGYiAffHBLsPazSnhKx63/ve9xpfETzhZ/8OhcM4vpdl94P1l20GIBU8+eSTk1k1Yocx7Ripzb2D3i4QuxaOMoTvGSvRX5eMXgL96jDmjlomMWbDxpkbbElIbN6kMcauEPcX+f1jc6C9TAUUVn1qWAKFwCQkFZDKdt+fK+vz5Rp3c75uHMbwJGCnzMHrM+lYQDnn9OLHOQSWw76Z0G43y5zmj7XxEe0P/Wwvufv0OW1O/v7mYOyvW+/rSUAO43rel6y1MgdrHO1uaef4sdPRxQiFxGue0VHFsFE20PeNB2nLiJAqEz/7KDVbmeOIumHAw8AhTkns02p0azxPKei43sy0wACEVE1/TUNB4+Q7waQTYoCHlDlyvKEpFT1WHPz2P1tbjI8pYw4NPg0/RrZWAy5mPjNwQVoZmoqd3v7X6XXabGuKgRPPFc9MaqDmz6f3ItCKgDmrcB71s8OYWfnoBa+DYnZet6UCVMwhUzeHsdd9DKxov8qEmaS0f0hOhzHnjAd1cR1svaCyVJ1+oELaUpY0SIk37qfSVaWOibfZoCTHc+Hb+9Rg0dbu4dn7zGc+UzpQszpidGSwG6/jY+WwH+V0mmnCD2y4F7SLZpQknbg3glqdyl7VdpWR6f12008pp2nva9PbM1pa6jjAk1lQ5iwgGJI+Jakd4ywH5gwkkBA91qydsCvrtL9nuqeqw5jfKDrPpJnetn38azcO4xzjF9+PLwsOtfraGIzP8bjL9vGvGM0x+qT69bmNSz4wq2zMQt2sz8UzRPakVOCObzNyMPZM9H50E+hnhzEOVNYuNmF8Trpi5Dvf+U4RqMl7ZoERJGRC+miWFsPJSzCopTJl2Q8/c9P2t1f6YeheyqLfRLAOTgoLPCW4zoRzWsp628Zr7GSsOsPYl2HvP//5zxd60T6XveZwGKfSPNv5yARks9zZVlav2GFc5li2cpk1S/plk8997nPJpdr4Pr5G+q1f+MIX7NCiD41NzYSJFpbByLbZK5NFaG9McNz+4Ac/sI+NVxwlPn05WfT8bHR25BljFp3NwMauxqx2XmOJHcaM0cvGUXG6dfhXCeyMz6nPI4dAPzuMm83spU/P7ws7AbqZrFxxdkkyqZFRDWnWX/NPA+Ng/rwz1Y+Xy+wSvj+XsgFwDl9Ot+PubhzGtIO+3fLXz3vaPBy8cCjLxukdxq38AN5HEY+74nPzmWwKjMeQ2J6Vu0+f0+bk728OxgUA/as1ATmMa3178lTOUtTRgWOGsHXkrHG2Nc7MMWyfOTuRTMxCRpmidFEMsfjGgwEJjuky8cbvZoqXtQVJlYTxgRnPVmfveG01w6usDlUMWHasnwFVlsoTNqTPoxFnf9I+YDwhdQWzaBlwMWCzNWjKGnMzNNF44+zxjbjVx159GjjSJWGM80LnmoF2FWePTz3XzGGc6zqpJ88Mz6UNZNmGE4bnCwNwvJYD30tEoBUBM172u8O4mXHeGHrdlurYmkOmig7p5Qxja7dwIOJIbCZ+dm4zx4Ofbd3MyE80PAYSUueRQrmZWFqiZssLmJ5uli3jlltuKda55Fy0haQQb1c6bfNSz4Vv71ODxUsvvbSYGVDFqc51YHRkIBMzbbecMiZ+YGP7MDOcgR3S7Lmw/f2r2i5PY/jem37qR4exT0tNGjPSmSG2brvpHHMM22e7WxZEmkp/Z/vk6u9V0T1ep9j50R/ob/rBXGOcacj2i1+7cRjnGL/4fjztUzNnvG93WgWJcp0WRJMaI+Q2LmGYxPmDlM1Y4RkhMIogHJxKjG1S4u9vDsapc2jb6CTQzw5j7ih9PktFTD+RWbAIAUHMNkNw6uEktj6NzQSNU/v6GcrFgW//YxxOf9WCHP13vCewiHPjwDbphcOYcQyzVZtlEaI+sTO11cxejokd2zhQcQSnJHbs4rTHVhJL7DCmb5tK6WrHxTOXmanLsiopoR/r1y3FTsfaxiY4Pqo6jLHr+fSnZQ5jHMvodNphE2ZEk5XChCXNePZMmIF3/PHH28dBr7HD+Mtf/nIxEWPQTm9/4LvJkyc3vsKx3uo5aOysNyOSgI3tm/UlRuSFVag0dgVLS+1tzdYPox+JbQKdj2PYPps9wIJIy9Y3tiow+YtxAn02ftfoDfQs/W3GEQQj2gSiXA5jO3en4+5uHMbtzAiOg9at3t5h3Cojk5/FW5a9x8rl1Wfo8WM5vsvdp6fMXDYnb1fJwZi6SepNQA7jet+fLLXzjgEbrNM4MfBg1oApKTM2odRxxiIWAR87m33FvDEgTn3n9+N9VYexj5aaNLBWDumKEDPG0AnnXJ1IFQOWletnbKyxxhqNdFD2PRyJpvQzIjDm4CimMWawG0srh3FZmmlfTiuHMdGipNysMoOqisM453XaddBRmTYQFMD5ud+cw4T7S9oPM4Tadr2KQDMCchhPX8O4isPY67YJEyYEUgJ7MYdMFYexBRs1cxL67BJlqY44v29PUg5JawOqBAWggy1zRjPHoDfcV3EYl2Xb8PyqOIytzeU4jPLMcvAOBgKRWF4AXVkW/erPWfa+0zYv9Vy0uj/tZLegvhic6KPEM7HNeOn7I2XX12y7H9iwH05wOPPMMhiHN8bCdtoatV3NiPfmO9NP/egwxlGHXiM40a9BbEEWFuhhxibuiDkkvd63vn98x3L296roHq9T0OtkvMDJjVGfPjR9YlJVm3Esrq//3I3DOMf4xdqnKv14HwwUzy7w12Tv7dr4HGcWase45MdXzYxaFrjL+I/lH3AsmKADMehjTEPKMkbxnb+/ORhTpqQ/CPS7w5gMLH4mLwH86H1m7iL0XwgAYt1Y+ooIbcIJJ5xQOPLoXyH0zS+66KJG8H2xceAfdoKDDz648Tu27a1eh8JhjBOUCQc2U446oHOY1UoAfpnkcBgT3FO21nAnDmPsQLQFvJYJ6xCjY02azUgmW5IPyCHY67vf/a4d2tYMY5wafj3qMocxhdNGHX744Y2sPGzjHtFfZ0xHWSY4m3Dwl/WlY4cx9S/LSCiHsVHtn9d+dhhzl62v7O3bZpuwgGr6XWQOIOjD991sPGR9/9RT4zNk2ffYqmkDaFNiyekw7mbc3Y3DOE7dHV8jny2FdBWHcZn93sptlbnP9rNXf21xBrmh6NPnsjl5u0oOxsZDr/UlIIdxfe9N1pqxbg0/cFOIGKJpnOiEE8HKoMOnUrBBvRkMxg2sV+OjF33lvDEgZeD3+1Z1GHNMPPMII5Y5ucsi3v25yt5bo8x6KKRQayY+WujDH/5wkSLb729lsQ22pNCmsbf0mTgsMIYzu5iUI0hZg9OOoamVwxhDG8bCKpF6VRqlnNdZQIj+0WGhoaXx5JVOEeI7RNEh+igCMxCQw3i6wxj90yoldSvdZgOQKg5j9DLR6L1wGHsje6sZt945ktNhXMVJVcVhzANsDlbe4yQhNT/3D/1ta3ixjRnNzYxPHF8mpr9zPBet2ntbi4lztZoBTn1t1nbM9Nprry0C1uibUE6n1+4HNjiKbQYHs5rNIYUjCocUTp52RW1Xu8Ty7G/6KX5u8pRe/1JsRoGlJ2aWGIYknMm+H279aBvU2xIkvu8fX63pC7Z326+1spoFMXmd4lMz+zR9GKH5Dn3QTMypir5odw1jzy11jirjl3b68WQluv7664tTtVqnnZ0sk0fKGV2lH2/XZM8An5v1sXmmSIdowZzcgwUXXLAwMNI2MbZBWs0w8Pc3B+PipPrXFwT63WEcO0P33XffwlZjKYRtpinZB772ta8VzwR9L5zD+++/fxGUzUYCPnAMx0I5FlTJdxxL9jcceTgS0XkEmPB33XXXNQ7P7TBed911G+v57rXXXg17CSfE9nTQQQc1zh2/iRl1MsO4LHU25+rEYUyfkjFAM6Ft9utAM1N88803Tx6CDWm//fZrfNcqJTVjBn9fGwcOvKHvgPPWpJnDmDHUgQceWGTRs/1Tr8xAP+SQQ0qX1uGY2GF86qmnNiaDxGXKYRwTGf2f+91hbHZ57rRl0DTbvV9f1zLN2IQgv/RWWf/KZ+dENzCLmaAPWxcc+w39uUceeaTI/kgdcjmMux13e6dqlX6yH/N7blxTStpxGJPZAyd7mcDQgrSwNXDtzeTOO+8MLLOGxGUPRZ+e8+SwOeVmTL0k9SYgh3G970+22pmDkU4sM6iuueaaYmanOZDtRDarx6KBcARgLGiWPnqojAFekTI7AkWMMQYpaxTtOpq9mgGLfUjR3Sxy1UfjxA0VTk3SO8CHFMqsFVQmGIUwDiG9cBgTaczMXQZ/XCOzNsrk5ptvLlKU8H0qJXXu6yyrh20n5QoNGudlZgPPq3VqbB+9ikCKgBzG0x3GsLEZZSlObPNpdmLdxvdlMz/5zotfF6UXDmNvZPfOBV8ne//QQw8FBqFI3RzGDPKI+CVKn4Eb+o5tvJqg9wiOwnjXqcOUsnyb1+1z0aq9t4hozmuDXt6nxAep+TRc7Gu/Zd63au+5zwjPH4ZML80GNmS4sBkepLxlxmU3nNV2efJD+77fHcY+LTWpKnHg0c80B7LRtzXfbc0zWwc37vvb/rn7e6Z7qjqM49+6nxWRynhg9bbXkeQw9lk3mFXNGpHNxJz/NtvE7+uNjfFMBb8f7218wPsyhzE6lbEBDgOcAbTz/HnBcIZBDodDM2nVZvhjqzjl/f56P7oJ9LvDmLvLGNiCBwn84TfJbwqx9NPMECPQ34I7dt9990Gpgo866qjit1oc5P6xbq6VxWay0KXWOcaRwJqzJrkdxt5hS6AQTmOC8UxwduP0TslIdRjTtpHi2SR2Att2XunvEFxp8p//+Z+Fg8E+80pQqS3zxdiBtj4VYHXEEUcE2kmTMocxGSRIk83zhi0JBxJtAP1m+tUEuHIsbQhjMfZpJnIYN6Oj7/rdYYzutrTU66+/ftHvIlgF8WNpdDHBg/zeyBSALYdxN/0xnI4psX4/41tswmU2VZ9xMpfDOHbatjvuHkkOY8ZPtiYyE8iYaNZMzPnPfYmXoszdp89pc2pmV0ldbyunfOoYbasXATmM63U/hqw2/sdNp5KGmYFYbFgwJwIdQVKU4qClUWImV1kDM1TGAFJuECFJ2myidPiMsyA2iLULzQxYHMcApGxdFBpvGmtmCaccl95RQsrsSQOps1PCjA+ixCwavxcOY39PmkU50bgRiczzgaQcxjmvkwhluDLIaGYcu+qqqxoRxjyvGMgkItCKgDmZqqQrblXWSPze6zYi9klNlxKv22BFOsxYv9vgjYAaBhhlQvCRrW3WC4exj6bFkI2hokzQN/fcc0/xdd0cxhac5R2l3BcM5rTNZIegrevGgWlccj4Xvm2JnTuczw9ymqXHYl9zZvE+bou9M4W2AodKSnza8dSyEb7vEw9cKc87pJrNlFPblaI/fNv63WHs01LTV8eBjCEp/g2wVhkBeBiO6XvSF6Xfx0wmskfEkrO/R9mmezp1GFNXUm2jF5FmqY/5fiQ5jHHyMMbhXqacwFyPiRkJ+cysQmbRefHpx/mOfVLCOIQUtnBFUg5jZptQL9oj3//GGcF9YExI+8RyAVWkVZvhy5DD2NPQezmMw6DU0uhRmKAzEAyxpAhGmOGJ4wChL07fCCEjAeP8VOA4fX/WtTQpW1cWRwZ/JkPpMOYc6KjTTz/dTlcE9pOaOhWcgkPBUnRzAPai4447rnFs6k28hrF3WMf7D9UMY4IAsK3ZvcTOxCQNZgB6eeGFF8IuA9nwcNyakM6a/rUXZp/bxAS2f+tb3ypmEvp96HMfeuihflPB1Gas+y9Yq9nGT8xWJ6DShLaB+rYjchi3Q6v/9jWbQ5XMiKOVjvWX6ZuT0YWgjXi5Jvpu6GLaAcbN2L3o5zcLqKQ/R3swduzY0tT7MPU2k6FyGHOequNu9h1JDmPqa7PCy2xr7IPg02Aciy7F54I9xUvOPj3l5rQ5tbKr+OvgvRzGMZGR91kO45F3zzqusSkxOvooIhwEOAK8QZoOKSnIEBos0hBZ2ouyEw+lMcCcEQx+EBq8Zkbdsjr67dYgsw2DB0o6dpbwnaX84z0GORpjL3Ty6WSj7OMG3e9nTizb1guHMR0KZghi/OPattxyy6JBsjrY66233hqmTJliH5MO45zXaVFuPIPMyE5Fv1IZS73He2bPzD///LyViEBTAvZbk8M4FMYh0uzidIzFd9bLHKnemVeWYcKnDOUcvXAYcx5rF3hfNjPLr9PIfmXXyXd+VmyVNYyrpMFtlpLaO2XiNETUJ7f4No/fRjfPRav2nvYC4ySOfYINmPWSciww4MCRRftJmlP2i9sDS+/KdgIDUmuj2W8eZqm1sVsNbGKH1MYbbxyWXXbZGW6B2q4ZkAzrhn53GAPfnKMYG3AE8iyngv6MlfXpcTpgqPZ9f7uZOft7lGm6p1OHMWUwLsHAjyOT/iy6ItWuse8dd9zRcJpU6Tu20meUaVLFmWk6K5U22srxr3YP2cYMM8ZbsWAYvPzyy4txG0Z6xhCxTkWP2gw0+suMa2J9SjkYZQkuMEk5jHESYDiseg1WVtlrbsZl59H20UeAZ/bsgUxeCLNm+1FITbn33nvPcOkEmbCmsQl9zpNOOsk+Nl7pv+MITgnr05JJwIRsNieeeOKgtoHxAjOU0TEmQ+0wph0iDbW3T9AvY43c2F6D4Z3AFo5B6ONi7zIdae2G14d1cBhTV+6XT10NV1JAY+eiPSfLHft4pz6OYhzGsRx//PGD1n9mxiFcmMxAfxx7D45442THp2YY0+b6rHlf+MIXivbJjunkVQ7jTqj1zzFyGL8TcE3fHMc5v9uU/fnat5dsImje1hGnX4z+SAnrwmMToVxmJaMjY0HHEJxp+mEoHcZVx93UkcAa6oU0C4Ysdhj412rMb/vZaytnpk2kY/8q9hofNF/mr4AxGaEsICcOmOdcOfv0uW1OuRlzvZJ6E5DDuN73J2vtLC21FVpm9KYjjUPZhM4mM2jLZCiNATRgl1xyyaBT4/wkvV6nYgYsO55BBWmeMEYzEOHaYUVEP0KnG8NTyrjmZ8LGDRkNIo4IUmvTiBMBhvTCYcx5fNoPOgeWOg7DHcoewxr7kE7b6pYyNlJWruv06U54/pgBCRsbyNE5IkKWZwrB8AV7iQhUIWDOI553nz6tyrGjYR/TbUSo00EkOwODDWYgsBwBKXNhZOupY3RHH6V0G8djXKDTCk8yFYwbN64oh98pUZ90pCkDHcqM0F45jAkcIurfDFgE89BGoaupNynq0Lt8xvDBfnVyGNM2MJOAlHsY6NDNqXuQ65nM+VxUae99ulyeOwae1r4yS4116jFCWspBP4vNXzP3EsMfzzF8uIdkBOF54xnAkIpBke8ZXDNgjmc9VBnYkBobJzeGRZ51DGWU50Vtl6cx/O/NCVrWjx3+Gg59DfzvjLOV6V+/7jv7NcuIw/e5+nuUZbqnG4cx5fjlBQgwYRmF+LfOfugWW7pm/Pjxhc5gRiw6l3YrNqhV0WeUiwyFwxidQ6ppXtFxtNfLLbdccS/Rj5wTpzKzzBCWKIhnlhVfDPzzs0PQt5RFMAFON8ZSzFahHNKRm6Eq5TD2466yYDE7Z5XX3IyrnFP7jA4CchhPv4/xTGC20t8hdbMJtosddtihYfC37aQgJsVpSnDSxLNxCSxili72ELIH0c9HGKebMwE9it6Kpaojtsp+2CVIvUz/zIS+Imm0YyE1N/YME4Jd0JPoMgz4Z5111qBgnCrnt7KGaoYx5dOPZaxK2+SFtgDWxtu+455wLTiKYkGnM8s4PibejzSppEI1STmM+Y56mR2MmYn042mb6NPHwjbaGtqdsgB/OYxjavrsCchhPN1JaGmpjU1qGSnfz2W/VjOHfR+MjF38ln3/mfEtk6Sw55g9eCgdxtS5yrib/XwfANsWyybYUpIEyqJ7GF+YVBnz27685nYYUyYBntjEEFJTk/kJexS6mfoRvMM9RNCZPntDsfHtf7n69LltTrkZ+2vW+3oS6BuHsa3/wm3oxtlYz9tYrVb+B84RqYgWtpvThfd0WpmJ4JUx2734hiiVotLvW8Xg4vfnPU4L60zTMDADzByM8b5VPpsBi443EatmOOFYrhfFakIHmBlHsfHYvieylfqRWg6hsWVfDD04Z2joaCz4swipXjmMqc/UqVMDxkJ/TX7Qx6Bj0kBAAOlKkDKHcc7r9Gsmc07uA4NP7jHnMWHAh1GQjpBEBKoQ6Hc9b7oNxxqzD4hcx5mG+N89nxnU0waU6Tb28Wu48zkWnGukNiX4BMNCmcOC43yK4dRMUCu7antCeb/+9a8ba3ZxvL9G6oL+IFsBbV+dHMbUFYc2s7gR2h3ampQhhu/hjJMUw07KUMQ+zSTnc1H1/tD2cH32/FE/+hE4Rkxw5BCsVZY+lf14rphR7tuGuJ2GD/cahrH4fk8qJbXt7x1S/DZwGvsBNfup7TJaw//a77qeO4Dx4cc//nFDB+Ig5RmPxfe7+a5sJqsdl7O/Z7qnW4cxdfOO7zKnN31dUq9Z0Cv9S9o4+uPoIhwvtA0mVfUZ+3uOZY7UdmcYUy5tGToO54FJrCvZjqOXwFT0ZkoYbzAe8Q6WeD/GPMx6gBGSchjzXLG2u60ND0N0K3o2JbRbtE8Eb6T6E7kZp+qgbaOTAM+09Rn6eSx4xhlnFMFz/i7j6MWx64WZyATSmfDbRCc0s+EceeSRxWwnOyb1im0HAzdBJ0gvHMach/XWjznmGN42hFnR8dqQOLWZmVvmLI3XQK6Lw5iLou5co7VZjQuN3mATITU0bU+ZkGWCYLoyIUD16KOPHjR7uMxhTDAmTl6zb5WV6bfTN6dPT4rveKwih7EnpfcxAfXppxOxPjOf6Hehe2OhL0t2CdpHpGwmqz/OZhmzDYcrgZf8Xukb8xvnMwE5OKzpRw+1w5h6VBl3s5/PikedaX8IfqRvEGeZqzrmp1xkKBzG9MGxTxGwZEL/Ga7eJoIDHHsY/eeU5OrTU3ZOm1Nuxqlr17Z6Eegbh3G9sA9fbSwtNYZQ0lHHBlFqxqweixwl0hSHQDMZamPA3XffXUTYUwcMJhg4uhFrjM2ARaQP12ANL2VjIMEghZOhzDhjdaChxTBu63jadga3pJdjLVEaD2PaS4cxdcHIReoLHLI2mOL6GCTAkkaMQQaz8MocxpST6zopi04Cs7hTAyTqhgOB2ccWRcYxEhEQgeYETLfZjE1+Zwz6iRi13z6/d6LEcSyk9H98BozZOMoYVHghKhLdxiDDUsj30mFMXdBJRGCSksk64QwmCArj+hhsmQG/bg5j6n/ttdcWs6F5X1Vok4mwbdUu+fJyPhfttPdE/9L2MGjyQUvcIwZKDEhTDgZfd95znymHlFp2n9lOgADR0sykw5iWknYGNt4hVTZzVW1XirK2DRcBn9LY9H6qLgQF4pCkf0UQaCv9kau/Z7rH+tupulXVKegQgqDMCJNydlI+Yxj0haXqYxu6gmw6kwYCJL3OqXpuyhgqhzFlM/7AKEb2D8u8wHaEmQm0tal01dP3eJv+b0sAAA2MSURBVOc/5RDAxXV5XUlfmoACHEz0B5o5jCmNOrBkADq8HaF8spF4yc3Yl633ItAPBMi8xexRE/raZEWJ+/Doeb8eLfrusMMOs8OSr+gJltwg641lMrAd0dsEzzGDl3TQpjd65TCmHjhTcRybcO2sb0xQrBf602eeeWahp/129t9zzz0HpVSuk8OYutI2ExTAeMX3le06yCxxwAEHFMuf2bayV4J9mBVNX9WEsdDaa69dpHWnr8wSLyZlDmP6ANxzymtXGB+eeuqpgxwhchi3S1H79yMBn9KY3yx/KUEnMjMYIWCaMXUzQc/jNGRSmGVnY390PLqULBToBhsr9MJhzPmrjLupL/vRDpoti2PpGzP+X2Yg85hJO2N+jhkKhzHlUk94M/GCzGpeCOTCxs3MY8YmzSRXn55z5LI55Wbc7Pr1XT0IyGFcj/ugWjQh4Be8bzUzokkxja/KDFgoQAZLdKyZKdyuEOnE8TQMDKYYpNRJMABhKMJYz5rLvHYiOa+TmSwY98yQiZOdSKtO69bJ9egYERjtBPjNYmTn94WxvFUHNcWDTqutk4l+LHPQpY4d6m0YWAiIQffiLC6bCTXU9ahaPoEyODTQx7BksIMzoCxABh3JrJFpb6fcI9UeBqRuJcdzUaUO3B+eHa7DsnB0ouPtPhOAxbPMYDE2mFapT4591HbloKgy6k4gZ3+v19fKcgQYvbkG+rxl+rXX9Wp1PvQk4xHqy3ikk/YMYxXXj66kHHRlqyABqxdGSIxzsIMb7ROzxcqOp29BYK8FgOKMiGeXWdl6FQERqCcB9CQZXQgSxZZB0BwBecPVx+qEEnYO+sos10AfDWcogTIj5RqoPzO56etzP8aNG1f8dTLeQi+jkznWO1SqcD3//PMbjiP2JzCYQKAylgRnEczlA4xwEON0koiACNSHAM5X+pj80S8sSyFfnxq/UxNsPPRpeaXu/I0Eob426QJdWpZNrtm1dNOnr4vNqdn16bt6E5DDuN73R7UbIECqNmbv0uHfeeedS40WVWGVOYyrHq/9REAEREAERKATAgzWiP4nSIbZwptttlklBz7OUtLPYgTDKb7lllt2cnodIwIiIAIiIAJJAhiWmFmMcarZesnxwRzHrD0kV0BTfA59FgEREAERGFoC9913XyC1OW0AQvDP2Wef3XKcgpOZGd4mu+++eyCjnkQEREAERGB4CMjmNDzcR9tZ5TAebXd0lF0PKTRsnQYiJFlzs1uRw7hbgjpeBERABESgEwKs02Tr2W+88caBNSWrCmuTEV3LMRwrEQEREAEREIFcBEhnfdtttxXFkbq86kwIZjOfe+65xXGkNmStTIkIiIAIiMDIIkCq89NOO61RadJ5b7vtto3PZW9IQW1BQ+zzne98p0i5Wra/touACIiACAwtAdmchpZvv5Quh3G/3OkRep1EOpJzH8FZ3G5aneLA6J8cxhEQfRQBERABEegJAdJQM4MLKVsjKFUR1u+94ooriq/K1u5MHadtIiACIiACIlCFwO9///siHTX7br/99pVT/k2ePLlYG6/d46rUSfuIgAiIgAj0hsB1110XjjrqqMbJyIJ04IEHNj6n3kyZMqVYK5s02shss80WLrnkko6WU0iVr20iIAIiIALtE5DNqX1mOmJGAnIYz8hEW4aBAOvlxGsRkPMfwzozqliDZccdd8yytq0cxsNwg3VKERABERCBIs0bWTNILc16vltssUXL9e5Z04x2i9RCrEG91VZbhdlnn100RUAEREAERCAbgWeffTZceOGFRXlLL710EajbbL150pYyK/n2228vjlH2i2y3QgWJgAiIQM8JYHNjRjEZ/kzIaESg6iqrrNJY85TxCIGsF198cbjyyiuL8Yntv88++4Stt97aPupVBERABERgGAjQR5fNaRjAj7JTymE8ym7oSL2cG264ITz55JONzigdVowQzz//fHFJOVOcyWE8Up8S1VsEREAERj6BBx54IFx99dWBdYlJ+bnSSisVaabnnnvuMMccc4Q33nijCJR65plnwl133VW0jVz1PPPMU6xdzKtEBERABERABHITuOmmm8LUqVOLYueff/5iXLbkkksWgbvMHCOYlzHaY489VrRPvEfYZ9NNN80S2FsUqH8iIAIiIAI9J3DVVVeFY489trGOsa/AwgsvXIxRmOhh6xz773EU4zCWiIAIiIAIDD8B2ZyG/x6M9BrIYTzS7+AoqT8O47vvvjt5NUS5b7LJJsnvOtkoh3En1HSMCIiACIhALgLTpk0LtHuvvPLKoCLHjBkzgxGGbSussEKYOHFi4TQedIA+iIAIiIAIiEBGAqxjTHpqZpF5SbVPOJHHjx8fJkyYEGaZZRa/u96LgAiIgAiMQAIEtZ5yyikBx3AVIbhop512KoJam2WlqFKW9hEBERABEchHQDanfCz7sSQ5jPvxrtfwmplRxXrF9957b3juueeKVDjMtlp55ZXDmmuumTVindRpjz/+eLG2Sk5HdA2xqkoiIAIiIAI1JcAMYzrxtH0YZV5++eWGgZ5lGEhZveCCC4bVVluteF/Ty1C1REAEREAERhkB1qOkbXrwwQeLGcUEN9Fm4Qwgy8XYsWPD4osvXjiLcRpLREAEREAERg+B119/vciGdPnllxftgK1RbFfIOIU2YMMNNwzbbLONlsoxMHoVAREQgZoRkM2pZjdkBFVHDuMRdLP6paqkuMGBLANEv9xxXacIiIAIiAAEMNBgkNdMLT0PIiACIiACdSLw6quvFmMzzSCr011RXURABERg6Am8+OKL4amnngo4jnEUM6tYIgIiIAIiMDIJyOY0Mu9br2sth3Gviet8IiACIiACIiACIiACIiACIiACIiACIiACIiACIiACIiACIiACIiACIlATAnIY1+RGqBoiIAIiIAIiIAIiIAIiIAIiIAIiIAIiIAIiIAIiIAIiIAIiIAIiIAIi0GsCchj3mrjOJwIiIAIiIAIiIAIiIAIiIAIiIAIiIAIiIAIiIAIiIAIiIAIiIAIiIAI1ISCHcU1uhKohAiIgAiIgAiIgAiIgAiIgAiIgAiIgAiIgAiIgAiIgAiIgAiIgAiIgAr0mIIdxr4nrfCIgAiIgAiIgAiIgAiIgAiIgAiIgAiIgAiIgAiIgAiIgAiIgAiIgAiJQEwJyGNfkRqgaIiACIiACIiACIiACIiACIiACIiACIiACIiACIiACIiACIiACIiACItBrAnIY95q4zicCIiACIiACIiACIiACIiACIiACIiACIiACIiACIiACIiACIiACIiACNSEgh3FNboSqIQIiIAIiIAIiIAIiIAIiIAIiIAIiIAIiIAIiIAIiIAIiIAIiIAIiIAK9JiCHca+J63wiIAIiIAIiIAIiIAIiIAIiIAIiIAIiIAIiIAIiIAIiIAIiIAIiIAIiUBMCchjX5EaoGiIgAiIgAiIgAiIgAiIgAiIgAiIgAiIgAiIgAiIgAiIgAiIgAiIgAiLQawJyGPeauM4nAiIgAiIgAiIgAiIgAiIgAiIgAiIgAiIgAiIgAiIgAiIgAiIgAiIgAjUhIIdxTW6EqiECIiACIiACIiACIiACIiACIiACIiACIiACIiACIiACIiACIiACIiACvSYgh3Gviet8IiACIiACIiACIiACIiACIiACIiACIiACIiACIiACIiACIiACIiACIlATAnIY1+RGqBoiIAIiIAIiIAIiIAIiIAIiIAIiIAIiIAIiIAIiIAIiIAIiIAIiIAIi0GsCchj3mrjOJwIiIAIiIAIiIAIiIAIiIAIiIAIiIAIiIAIiIAIiIAIiIAIiIAIiIAI1ISCHcU1uhKohAiIgAiIgAiIgAiIgAiIgAiIgAiIgAiIgAiIgAiIgAiIgAiIgAiIgAr0mIIdxr4nrfCIgAiIgAiIgAiIgAiIgAiIgAiIgAiIgAiIgAiIgAiIgAiIgAiIgAiJQEwJyGNfkRqgaIiACIiACIiACIiACIiACIiACIiACIiACIiACIiACIiACIiACIiACItBrAnIY95q4zicCIiACIiACIiACIiACIiACIiACIiACIiACIiACIiACIiACIiACIiACNSEgh3FNboSqIQIiIAIiIAIiIAIiIAIiIAIiIAIiIAIiIAIiIAIiIAIiIAIiIAIiIAK9JiCHca+J63wiIAIiIAIiIAIiIAIiIAIiIAIiIAIiIAIiIAIiIAIiIAIiIAIiIAIiUBMCchjX5EaoGiIgAiIgAiIgAiIgAiIgAiIgAiIgAiIgAiIgAiIgAiIgAiIgAiIgAiLQawJyGPeauM4nAiIgAiIgAiIgAiIgAiIgAiIgAiIgAiIgAiIgAiIgAiIgAiIgAiIgAjUhIIdxTW6EqiECIiACIiACIiACIiACIiACIiACIiACIiACIiACIiACIiACIiACIiACvSYgh3Gviet8IiACIiACIiACIiACIiACIiACIiACIiACIiACIiACIiACIiACIiACIlATAnIY1+RGqBoiIAIiIAIiIAIiIAIiIAIiIAIiIAIiIAIiIAIiIAIiIAIiIAIiIAIi0GsCchj3mrjOJwIiIAIiIAIiIAIiIAIiIAIiIAIiIAIiIAIiIAIiIAIiIAIiIAIiIAI1IfD/mNbwiiThsksAAAAASUVORK5CYII=)"
   ]
  },
  {
   "cell_type": "markdown",
   "metadata": {
    "id": "_X5ARUgMdB5w"
   },
   "source": [
    "Cleaning: To clean our data, we'll need to work with:\n",
    "\n",
    "- **Missing values**: Either omit elements from a dataset that contain missing values or impute them (fill them in).\n",
    "- **Special values**: Numeric variables are endowed with several formalized special values including ±Inf, NA and NaN. Calculations involving special values often result in special values, and need to be handled/cleaned.\n",
    "- **Outliers**: They should be detected, but not necessarily removed. Their inclusion in the analysis is a statistical decision.\n",
    "- **Obvious inconsistencies**: A person's age cannot be negative, a man cannot be pregnant and an under-aged person cannot possess a drivers license. Find the inconsistencies and plan for them.\n",
    "\n",
    "*Content above not mine. Credits to `@dformoso` on GitHub for this (linked in the references).*"
   ]
  },
  {
   "cell_type": "markdown",
   "metadata": {
    "id": "xfwdDWNm7O84"
   },
   "source": [
    "## Drop duplicates"
   ]
  },
  {
   "cell_type": "code",
   "execution_count": 11,
   "metadata": {
    "id": "Mj8ubV9DAtkh"
   },
   "outputs": [],
   "source": [
    "df.drop_duplicates(inplace=True)\n",
    "# Can also do df = df.drop_duplicates()"
   ]
  },
  {
   "cell_type": "code",
   "execution_count": 12,
   "metadata": {
    "colab": {
     "base_uri": "https://localhost:8080/"
    },
    "id": "Oq3RC9wmOcxe",
    "outputId": "7b6dc659-f5db-4fa6-c782-fb9b7fcf19ed"
   },
   "outputs": [
    {
     "data": {
      "text/plain": [
       "(10434, 17)"
      ]
     },
     "execution_count": 12,
     "metadata": {},
     "output_type": "execute_result"
    }
   ],
   "source": [
    "df.shape"
   ]
  },
  {
   "cell_type": "markdown",
   "metadata": {
    "id": "N6nW0upv31hm"
   },
   "source": [
    "## See missing data with missingno library"
   ]
  },
  {
   "cell_type": "code",
   "execution_count": 13,
   "metadata": {
    "colab": {
     "base_uri": "https://localhost:8080/"
    },
    "id": "xJIBv5GwXyep",
    "outputId": "b2dffd7e-08db-40c4-9728-d871f74ddbc9"
   },
   "outputs": [
    {
     "data": {
      "text/plain": [
       "<AxesSubplot:>"
      ]
     },
     "execution_count": 13,
     "metadata": {},
     "output_type": "execute_result"
    },
    {
     "data": {
      "image/png": "[encoded data removed]",
      "text/plain": [
       "<Figure size 1440x288 with 2 Axes>"
      ]
     },
     "metadata": {
      "needs_background": "light"
     },
     "output_type": "display_data"
    }
   ],
   "source": [
    "missingno.matrix(df, figsize=(20, 4))"
   ]
  },
  {
   "cell_type": "code",
   "execution_count": 14,
   "metadata": {
    "colab": {
     "base_uri": "https://localhost:8080/"
    },
    "id": "OFMMAl0baW6h",
    "outputId": "1768752b-35ee-4493-b426-e4dafec9b83c"
   },
   "outputs": [
    {
     "data": {
      "text/plain": [
       "<AxesSubplot:>"
      ]
     },
     "execution_count": 14,
     "metadata": {},
     "output_type": "execute_result"
    },
    {
     "data": {
      "image/png": "[encoded data removed]",
      "text/plain": [
       "<Figure size 1440x288 with 3 Axes>"
      ]
     },
     "metadata": {
      "needs_background": "light"
     },
     "output_type": "display_data"
    }
   ],
   "source": [
    "missingno.bar(df, sort=\"ascending\", figsize=(20, 4))"
   ]
  },
  {
   "cell_type": "markdown",
   "metadata": {
    "id": "sQYk1XMwWrZx"
   },
   "source": [
    "## Handling missing values"
   ]
  },
  {
   "cell_type": "markdown",
   "metadata": {
    "id": "tn8xA1v2a7yg"
   },
   "source": [
    "**Imputation**: We can impute missing values in a number of different ways:\n",
    "- **Hot-Deck**: The technique then finds the first missing value and uses the cell value immediately prior to the data that are missing to impute the missing value.\n",
    "- **Cold-Deck**: Selects donors from another dataset to complete missing data.\n",
    "- **Mean-substitution**: Another imputation technique involves replacing any missing value with the mean of that variable for all other cases, which has the benefit of not changing the sample mean for that variable.\n",
    "- **Regression**: A regression model is estimated to predict observed values of a variable based on other variables, and that model is then used to impute values in cases where that variable is missing."
   ]
  },
  {
   "cell_type": "markdown",
   "metadata": {
    "id": "TGJDDULO8qJj"
   },
   "source": [
    "#### What if we're filling only one missing column?\n",
    "\n",
    "Let's fill the invalid `tolls_amount` with $0 "
   ]
  },
  {
   "cell_type": "code",
   "execution_count": 15,
   "metadata": {
    "id": "gaXP89V8BMLV"
   },
   "outputs": [],
   "source": [
    "df[\"tolls_amount\"] = df[\"tolls_amount\"].fillna(0)"
   ]
  },
  {
   "cell_type": "markdown",
   "metadata": {
    "id": "a88zRN8jDRVW"
   },
   "source": [
    "Since the missing columns are all money-related, we might be able to safely impute the missing values as zero. Quick catch - this does not apply to `fare_amount` since there's a base fee. (i.e There's no valid taxi trip where you pay nothing.) \n",
    "\n",
    "Maybe a fairer imputation would be to fill by mean/median or to remove rows where `fare_amount` is zero altogether. This is a judgment call but for now let's see how we can impute by mean/median."
   ]
  },
  {
   "cell_type": "code",
   "execution_count": 16,
   "metadata": {
    "id": "mUPu5c8XE174"
   },
   "outputs": [],
   "source": [
    "df[\"fare_amount\"] = df[\"fare_amount\"].fillna(df[\"fare_amount\"].median())"
   ]
  },
  {
   "cell_type": "markdown",
   "metadata": {
    "id": "_G6Ajq_6FhAw"
   },
   "source": [
    "Now we can impute for the rest of the money-related columns."
   ]
  },
  {
   "cell_type": "code",
   "execution_count": 17,
   "metadata": {
    "id": "8MQPTpxQDPrO"
   },
   "outputs": [],
   "source": [
    "df[[\"tolls_amount\", \"extra\", \"tip_amount\"]] = df[\n",
    "    [\"tolls_amount\", \"extra\", \"tip_amount\"]\n",
    "].fillna(0)"
   ]
  },
  {
   "cell_type": "markdown",
   "metadata": {
    "id": "exZBiA7v80l6"
   },
   "source": [
    "If we want to treat **all** the missing values the same way, we can use `fillna` on the whole DF"
   ]
  },
  {
   "cell_type": "code",
   "execution_count": 18,
   "metadata": {
    "id": "3v5l79c6Oned"
   },
   "outputs": [],
   "source": [
    "df.fillna(0, inplace=True)\n",
    "# Or df = df.fillna(0)"
   ]
  },
  {
   "cell_type": "markdown",
   "metadata": {
    "id": "U8V-f3tR9MHS"
   },
   "source": [
    "Okay now let's check!"
   ]
  },
  {
   "cell_type": "code",
   "execution_count": 19,
   "metadata": {
    "colab": {
     "base_uri": "https://localhost:8080/"
    },
    "id": "TmsoH1tUhB82",
    "outputId": "87a9817e-1034-4643-ddaf-14033a7a3a96"
   },
   "outputs": [
    {
     "name": "stdout",
     "output_type": "stream",
     "text": [
      "<class 'pandas.core.frame.DataFrame'>\n",
      "Int64Index: 10434 entries, 0 to 10499\n",
      "Data columns (total 17 columns):\n",
      " #   Column               Non-Null Count  Dtype         \n",
      "---  ------               --------------  -----         \n",
      " 0   vendor_id            10434 non-null  int64         \n",
      " 1   pickup_datetime      10434 non-null  datetime64[ns]\n",
      " 2   dropoff_datetime     10434 non-null  datetime64[ns]\n",
      " 3   passenger_count      10434 non-null  int64         \n",
      " 4   trip_distance        10434 non-null  float64       \n",
      " 5   rate_code            10434 non-null  int64         \n",
      " 6   store_and_fwd_flag   10434 non-null  object        \n",
      " 7   payment_type         10434 non-null  int64         \n",
      " 8   fare_amount          10434 non-null  float64       \n",
      " 9   extra                10434 non-null  float64       \n",
      " 10  mta_tax              10434 non-null  float64       \n",
      " 11  tip_amount           10434 non-null  float64       \n",
      " 12  tolls_amount         10434 non-null  float64       \n",
      " 13  imp_surcharge        10434 non-null  float64       \n",
      " 14  total_amount         10434 non-null  float64       \n",
      " 15  pickup_location_id   10434 non-null  int64         \n",
      " 16  dropoff_location_id  10434 non-null  int64         \n",
      "dtypes: datetime64[ns](2), float64(8), int64(6), object(1)\n",
      "memory usage: 1.4+ MB\n"
     ]
    }
   ],
   "source": [
    "df.info()"
   ]
  },
  {
   "cell_type": "markdown",
   "metadata": {
    "id": "yS7hXULlXCD9"
   },
   "source": [
    "### Drop columns we won't need/use for these purposes"
   ]
  },
  {
   "cell_type": "code",
   "execution_count": 20,
   "metadata": {
    "id": "9LPx7LPoXVPv"
   },
   "outputs": [],
   "source": [
    "df.drop(\n",
    "    columns=[\"imp_surcharge\", \"mta_tax\", \"vendor_id\", \"store_and_fwd_flag\", \"extra\"],\n",
    "    inplace=True,\n",
    ")\n",
    "# or: df = df.drop(['imp_surcharge', 'mta_tax', 'vendor_id', 'store_and_fwd_flag', 'extra'], axis=1)"
   ]
  },
  {
   "cell_type": "markdown",
   "metadata": {
    "id": "0Y-zPB2xWg-K"
   },
   "source": [
    "## Validation: Check for inconsistencies"
   ]
  },
  {
   "cell_type": "markdown",
   "metadata": {
    "id": "FPLaEuBeNtTr"
   },
   "source": [
    "Can do this in two ways:\n",
    "- Top-down / Hypothesis-based: What constitutes a valid trip? What characterize invalid dates?\n",
    "- Bottom-up: Just sense check every column (e.g. `df.describe`)"
   ]
  },
  {
   "cell_type": "markdown",
   "metadata": {
    "id": "X_ZUSYemBRdx"
   },
   "source": [
    "### Sense check the dates! Acc. to the dataset description, this should be 2018 only"
   ]
  },
  {
   "cell_type": "markdown",
   "metadata": {
    "id": "oEbxO11UBaBI"
   },
   "source": [
    "Remember when we used `parse_dates` to read the csv file into Pandas?\n",
    "\n",
    "Thanks to this, we can access particular date attributes like the `year` "
   ]
  },
  {
   "cell_type": "code",
   "execution_count": 21,
   "metadata": {
    "colab": {
     "base_uri": "https://localhost:8080/"
    },
    "id": "gyfUMFhrhDS-",
    "outputId": "d24c3f5e-55e2-4551-e574-b11a9b2d7955"
   },
   "outputs": [
    {
     "data": {
      "text/plain": [
       "2018    10426\n",
       "2084        8\n",
       "Name: pickup_datetime, dtype: int64"
      ]
     },
     "execution_count": 21,
     "metadata": {},
     "output_type": "execute_result"
    }
   ],
   "source": [
    "df[\"pickup_datetime\"].dt.year.value_counts()"
   ]
  },
  {
   "cell_type": "markdown",
   "metadata": {
    "id": "h_Wn1_GDVOFZ"
   },
   "source": [
    "Seems to be the same entries, so we may only have to change either the `pickup` or `dropoff` datetime columns.\n",
    "\n",
    "Judgment call: Should we change the year to 2018 or remove the bad entries?"
   ]
  },
  {
   "cell_type": "code",
   "execution_count": 22,
   "metadata": {
    "id": "XDepMZdb3nmq"
   },
   "outputs": [],
   "source": [
    "df = df[df[\"pickup_datetime\"].dt.year == 2018]"
   ]
  },
  {
   "cell_type": "markdown",
   "metadata": {
    "id": "q0nXu1OFF7G3"
   },
   "source": [
    "### Sense check the trip distance"
   ]
  },
  {
   "cell_type": "markdown",
   "metadata": {
    "id": "oeZUrqByWGRP"
   },
   "source": [
    "Trip distance is a continuous variable (unlike year, which has limited possible values). How do we check the different trip distances?"
   ]
  },
  {
   "cell_type": "markdown",
   "metadata": {
    "id": "powt2blRGQ2z"
   },
   "source": [
    "It doesn't make sense to use `value_counts()` because we will get thousands of results.\n",
    "\n",
    "Instead, we can visualize the distribution through plotting a histogram through Pandas"
   ]
  },
  {
   "cell_type": "code",
   "execution_count": 23,
   "metadata": {
    "colab": {
     "base_uri": "https://localhost:8080/"
    },
    "id": "hpvloijSXK8U",
    "outputId": "3086ed95-2e86-4079-a7c9-64ea80dad8ee"
   },
   "outputs": [
    {
     "data": {
      "text/plain": [
       "<AxesSubplot:ylabel='Frequency'>"
      ]
     },
     "execution_count": 23,
     "metadata": {},
     "output_type": "execute_result"
    },
    {
     "data": {
      "image/png": "[encoded data removed]",
      "text/plain": [
       "<Figure size 432x288 with 1 Axes>"
      ]
     },
     "metadata": {
      "needs_background": "light"
     },
     "output_type": "display_data"
    }
   ],
   "source": [
    "df[\"trip_distance\"].plot.hist()"
   ]
  },
  {
   "cell_type": "markdown",
   "metadata": {
    "id": "v1RWQm3fGXos"
   },
   "source": [
    "Doesn't look right -- why is there a value near 175,000?"
   ]
  },
  {
   "cell_type": "code",
   "execution_count": 24,
   "metadata": {
    "colab": {
     "base_uri": "https://localhost:8080/"
    },
    "id": "6evyrS-dKKlc",
    "outputId": "7fc5ff22-006b-40bf-dd51-1e76d7029d8f"
   },
   "outputs": [
    {
     "data": {
      "text/plain": [
       "189483.84"
      ]
     },
     "execution_count": 24,
     "metadata": {},
     "output_type": "execute_result"
    }
   ],
   "source": [
    "df[\"trip_distance\"].max()"
   ]
  },
  {
   "cell_type": "markdown",
   "metadata": {
    "id": "6D2WJsGiKJ8t"
   },
   "source": [
    "Mmmmm that's no good. The US is only 2-3k miles wide so distances like above don't make sense.\n",
    "\n",
    "NYC is only 13.4 miles long. If our definition of a taxi trip is one that starts and ends in NY,\n",
    "\n",
    "then let's set a valid trip to be one within 15 miles (arbitrary) that is completed within x hours"
   ]
  },
  {
   "cell_type": "code",
   "execution_count": 25,
   "metadata": {
    "id": "Fg0sQU0FKn6z"
   },
   "outputs": [],
   "source": [
    "df = df[df[\"trip_distance\"] <= 15]"
   ]
  },
  {
   "cell_type": "markdown",
   "metadata": {
    "id": "T5UWyVlvKxqS"
   },
   "source": [
    "Sense check! "
   ]
  },
  {
   "cell_type": "code",
   "execution_count": 26,
   "metadata": {
    "colab": {
     "base_uri": "https://localhost:8080/"
    },
    "id": "cq2dpUlMKwgm",
    "outputId": "0e2e80ae-e873-463a-9f98-144753b23a19"
   },
   "outputs": [
    {
     "data": {
      "text/plain": [
       "<AxesSubplot:ylabel='Frequency'>"
      ]
     },
     "execution_count": 26,
     "metadata": {},
     "output_type": "execute_result"
    },
    {
     "data": {
      "image/png": "[encoded data removed]",
      "text/plain": [
       "<Figure size 432x288 with 1 Axes>"
      ]
     },
     "metadata": {
      "needs_background": "light"
     },
     "output_type": "display_data"
    }
   ],
   "source": [
    "df[\"trip_distance\"].plot.hist()"
   ]
  },
  {
   "cell_type": "markdown",
   "metadata": {
    "id": "kd3rdQlWJbcc"
   },
   "source": [
    "### Sense check the trip duration -- there shouldn't be trips that are several hours/days long"
   ]
  },
  {
   "cell_type": "markdown",
   "metadata": {
    "id": "HG9MpmT9XLw2"
   },
   "source": [
    "We don't have a `trip_duration` column, so first we have to make it by subtracting the dropoff time from pickup time\n",
    "\n",
    "---\n",
    "\n"
   ]
  },
  {
   "cell_type": "code",
   "execution_count": 27,
   "metadata": {
    "id": "ADb_oYfCVIig"
   },
   "outputs": [],
   "source": [
    "df[\"trip_duration\"] = (df[\"dropoff_datetime\"] - df[\"pickup_datetime\"]).astype(\n",
    "    \"timedelta64[m]\"\n",
    ")"
   ]
  },
  {
   "cell_type": "markdown",
   "metadata": {
    "id": "VR4fx-KKJsDB"
   },
   "source": [
    "There shouldn't be any trips with 0 or  negative `trip_duration` - but let's check"
   ]
  },
  {
   "cell_type": "code",
   "execution_count": 28,
   "metadata": {
    "colab": {
     "base_uri": "https://localhost:8080/"
    },
    "id": "rq02IvCyWAxt",
    "outputId": "626b6ce7-2ea5-4a50-8b72-186a9984ce2a"
   },
   "outputs": [
    {
     "data": {
      "text/html": [
       "<div>\n",
       "<style scoped>\n",
       "    .dataframe tbody tr th:only-of-type {\n",
       "        vertical-align: middle;\n",
       "    }\n",
       "\n",
       "    .dataframe tbody tr th {\n",
       "        vertical-align: top;\n",
       "    }\n",
       "\n",
       "    .dataframe thead th {\n",
       "        text-align: right;\n",
       "    }\n",
       "</style>\n",
       "<table border=\"1\" class=\"dataframe\">\n",
       "  <thead>\n",
       "    <tr style=\"text-align: right;\">\n",
       "      <th></th>\n",
       "      <th>pickup_datetime</th>\n",
       "      <th>dropoff_datetime</th>\n",
       "      <th>passenger_count</th>\n",
       "      <th>trip_distance</th>\n",
       "      <th>rate_code</th>\n",
       "      <th>payment_type</th>\n",
       "      <th>fare_amount</th>\n",
       "      <th>tip_amount</th>\n",
       "      <th>tolls_amount</th>\n",
       "      <th>total_amount</th>\n",
       "      <th>pickup_location_id</th>\n",
       "      <th>dropoff_location_id</th>\n",
       "      <th>trip_duration</th>\n",
       "    </tr>\n",
       "  </thead>\n",
       "  <tbody>\n",
       "    <tr>\n",
       "      <th>32</th>\n",
       "      <td>2018-07-11 20:10:00</td>\n",
       "      <td>2018-07-11 20:10:00</td>\n",
       "      <td>5</td>\n",
       "      <td>0.00</td>\n",
       "      <td>5</td>\n",
       "      <td>1</td>\n",
       "      <td>64.2</td>\n",
       "      <td>12.00</td>\n",
       "      <td>0.0</td>\n",
       "      <td>77.00</td>\n",
       "      <td>230</td>\n",
       "      <td>230</td>\n",
       "      <td>0.0</td>\n",
       "    </tr>\n",
       "    <tr>\n",
       "      <th>63</th>\n",
       "      <td>2018-04-09 15:34:00</td>\n",
       "      <td>2018-04-09 15:34:00</td>\n",
       "      <td>1</td>\n",
       "      <td>0.00</td>\n",
       "      <td>5</td>\n",
       "      <td>1</td>\n",
       "      <td>59.0</td>\n",
       "      <td>11.96</td>\n",
       "      <td>0.0</td>\n",
       "      <td>71.76</td>\n",
       "      <td>164</td>\n",
       "      <td>164</td>\n",
       "      <td>0.0</td>\n",
       "    </tr>\n",
       "    <tr>\n",
       "      <th>81</th>\n",
       "      <td>2018-10-06 16:18:00</td>\n",
       "      <td>2018-10-06 16:18:00</td>\n",
       "      <td>1</td>\n",
       "      <td>0.00</td>\n",
       "      <td>1</td>\n",
       "      <td>1</td>\n",
       "      <td>2.5</td>\n",
       "      <td>0.80</td>\n",
       "      <td>0.0</td>\n",
       "      <td>4.10</td>\n",
       "      <td>145</td>\n",
       "      <td>145</td>\n",
       "      <td>0.0</td>\n",
       "    </tr>\n",
       "    <tr>\n",
       "      <th>107</th>\n",
       "      <td>2018-10-17 20:20:00</td>\n",
       "      <td>2018-10-17 20:20:00</td>\n",
       "      <td>1</td>\n",
       "      <td>0.00</td>\n",
       "      <td>5</td>\n",
       "      <td>1</td>\n",
       "      <td>63.0</td>\n",
       "      <td>10.00</td>\n",
       "      <td>0.0</td>\n",
       "      <td>73.80</td>\n",
       "      <td>87</td>\n",
       "      <td>87</td>\n",
       "      <td>0.0</td>\n",
       "    </tr>\n",
       "    <tr>\n",
       "      <th>165</th>\n",
       "      <td>2018-05-20 06:26:00</td>\n",
       "      <td>2018-05-20 06:26:00</td>\n",
       "      <td>1</td>\n",
       "      <td>0.00</td>\n",
       "      <td>5</td>\n",
       "      <td>1</td>\n",
       "      <td>64.5</td>\n",
       "      <td>6.00</td>\n",
       "      <td>0.0</td>\n",
       "      <td>70.80</td>\n",
       "      <td>264</td>\n",
       "      <td>107</td>\n",
       "      <td>0.0</td>\n",
       "    </tr>\n",
       "    <tr>\n",
       "      <th>...</th>\n",
       "      <td>...</td>\n",
       "      <td>...</td>\n",
       "      <td>...</td>\n",
       "      <td>...</td>\n",
       "      <td>...</td>\n",
       "      <td>...</td>\n",
       "      <td>...</td>\n",
       "      <td>...</td>\n",
       "      <td>...</td>\n",
       "      <td>...</td>\n",
       "      <td>...</td>\n",
       "      <td>...</td>\n",
       "      <td>...</td>\n",
       "    </tr>\n",
       "    <tr>\n",
       "      <th>9789</th>\n",
       "      <td>2018-03-23 15:33:00</td>\n",
       "      <td>2018-03-23 15:33:00</td>\n",
       "      <td>3</td>\n",
       "      <td>0.00</td>\n",
       "      <td>5</td>\n",
       "      <td>1</td>\n",
       "      <td>43.0</td>\n",
       "      <td>8.66</td>\n",
       "      <td>0.0</td>\n",
       "      <td>51.96</td>\n",
       "      <td>138</td>\n",
       "      <td>138</td>\n",
       "      <td>0.0</td>\n",
       "    </tr>\n",
       "    <tr>\n",
       "      <th>9890</th>\n",
       "      <td>2018-04-09 11:52:00</td>\n",
       "      <td>2018-04-09 11:52:00</td>\n",
       "      <td>1</td>\n",
       "      <td>0.00</td>\n",
       "      <td>5</td>\n",
       "      <td>1</td>\n",
       "      <td>4.8</td>\n",
       "      <td>1.12</td>\n",
       "      <td>0.0</td>\n",
       "      <td>6.72</td>\n",
       "      <td>143</td>\n",
       "      <td>143</td>\n",
       "      <td>0.0</td>\n",
       "    </tr>\n",
       "    <tr>\n",
       "      <th>9908</th>\n",
       "      <td>2018-06-21 09:35:00</td>\n",
       "      <td>2018-06-21 09:35:00</td>\n",
       "      <td>1</td>\n",
       "      <td>0.00</td>\n",
       "      <td>1</td>\n",
       "      <td>1</td>\n",
       "      <td>2.5</td>\n",
       "      <td>11.70</td>\n",
       "      <td>0.0</td>\n",
       "      <td>15.00</td>\n",
       "      <td>161</td>\n",
       "      <td>161</td>\n",
       "      <td>0.0</td>\n",
       "    </tr>\n",
       "    <tr>\n",
       "      <th>9942</th>\n",
       "      <td>2018-11-30 23:32:00</td>\n",
       "      <td>2018-01-12 00:05:00</td>\n",
       "      <td>1</td>\n",
       "      <td>6.85</td>\n",
       "      <td>1</td>\n",
       "      <td>1</td>\n",
       "      <td>26.5</td>\n",
       "      <td>5.56</td>\n",
       "      <td>0.0</td>\n",
       "      <td>33.36</td>\n",
       "      <td>4</td>\n",
       "      <td>151</td>\n",
       "      <td>-465087.0</td>\n",
       "    </tr>\n",
       "    <tr>\n",
       "      <th>9983</th>\n",
       "      <td>2018-07-10 04:53:00</td>\n",
       "      <td>2018-07-10 04:53:00</td>\n",
       "      <td>4</td>\n",
       "      <td>0.00</td>\n",
       "      <td>5</td>\n",
       "      <td>1</td>\n",
       "      <td>15.8</td>\n",
       "      <td>3.22</td>\n",
       "      <td>0.0</td>\n",
       "      <td>19.32</td>\n",
       "      <td>52</td>\n",
       "      <td>52</td>\n",
       "      <td>0.0</td>\n",
       "    </tr>\n",
       "  </tbody>\n",
       "</table>\n",
       "<p>165 rows × 13 columns</p>\n",
       "</div>"
      ],
      "text/plain": [
       "         pickup_datetime    dropoff_datetime  passenger_count  trip_distance  \\\n",
       "32   2018-07-11 20:10:00 2018-07-11 20:10:00                5           0.00   \n",
       "63   2018-04-09 15:34:00 2018-04-09 15:34:00                1           0.00   \n",
       "81   2018-10-06 16:18:00 2018-10-06 16:18:00                1           0.00   \n",
       "107  2018-10-17 20:20:00 2018-10-17 20:20:00                1           0.00   \n",
       "165  2018-05-20 06:26:00 2018-05-20 06:26:00                1           0.00   \n",
       "...                  ...                 ...              ...            ...   \n",
       "9789 2018-03-23 15:33:00 2018-03-23 15:33:00                3           0.00   \n",
       "9890 2018-04-09 11:52:00 2018-04-09 11:52:00                1           0.00   \n",
       "9908 2018-06-21 09:35:00 2018-06-21 09:35:00                1           0.00   \n",
       "9942 2018-11-30 23:32:00 2018-01-12 00:05:00                1           6.85   \n",
       "9983 2018-07-10 04:53:00 2018-07-10 04:53:00                4           0.00   \n",
       "\n",
       "      rate_code  payment_type  fare_amount  tip_amount  tolls_amount  \\\n",
       "32            5             1         64.2       12.00           0.0   \n",
       "63            5             1         59.0       11.96           0.0   \n",
       "81            1             1          2.5        0.80           0.0   \n",
       "107           5             1         63.0       10.00           0.0   \n",
       "165           5             1         64.5        6.00           0.0   \n",
       "...         ...           ...          ...         ...           ...   \n",
       "9789          5             1         43.0        8.66           0.0   \n",
       "9890          5             1          4.8        1.12           0.0   \n",
       "9908          1             1          2.5       11.70           0.0   \n",
       "9942          1             1         26.5        5.56           0.0   \n",
       "9983          5             1         15.8        3.22           0.0   \n",
       "\n",
       "      total_amount  pickup_location_id  dropoff_location_id  trip_duration  \n",
       "32           77.00                 230                  230            0.0  \n",
       "63           71.76                 164                  164            0.0  \n",
       "81            4.10                 145                  145            0.0  \n",
       "107          73.80                  87                   87            0.0  \n",
       "165          70.80                 264                  107            0.0  \n",
       "...            ...                 ...                  ...            ...  \n",
       "9789         51.96                 138                  138            0.0  \n",
       "9890          6.72                 143                  143            0.0  \n",
       "9908         15.00                 161                  161            0.0  \n",
       "9942         33.36                   4                  151      -465087.0  \n",
       "9983         19.32                  52                   52            0.0  \n",
       "\n",
       "[165 rows x 13 columns]"
      ]
     },
     "execution_count": 28,
     "metadata": {},
     "output_type": "execute_result"
    }
   ],
   "source": [
    "df[df[\"trip_duration\"] <= 0]"
   ]
  },
  {
   "cell_type": "code",
   "execution_count": 29,
   "metadata": {
    "colab": {
     "base_uri": "https://localhost:8080/"
    },
    "id": "VaPr8GrjZtnc",
    "outputId": "c9ce78d5-ecf3-49e4-b6fb-309d4833fe1b"
   },
   "outputs": [
    {
     "data": {
      "text/plain": [
       "<AxesSubplot:ylabel='Frequency'>"
      ]
     },
     "execution_count": 29,
     "metadata": {},
     "output_type": "execute_result"
    },
    {
     "data": {
      "image/png": "[encoded data removed]",
      "text/plain": [
       "<Figure size 432x288 with 1 Axes>"
      ]
     },
     "metadata": {
      "needs_background": "light"
     },
     "output_type": "display_data"
    }
   ],
   "source": [
    "df[\"trip_duration\"].plot.hist()"
   ]
  },
  {
   "cell_type": "markdown",
   "metadata": {
    "id": "JzltQn8TK7_c"
   },
   "source": [
    "OK, so we have to get rid of the trips that last negative time, and also the trips that are too long (44,639 minutes does not sound right).\n",
    "\n",
    "For our purposes let's set the cap at 6 hrs. "
   ]
  },
  {
   "cell_type": "code",
   "execution_count": 30,
   "metadata": {
    "id": "Sv2KfWCVUblz"
   },
   "outputs": [],
   "source": [
    "df = df[(df.trip_duration > 0) & (df.trip_duration <= 360)]"
   ]
  },
  {
   "cell_type": "markdown",
   "metadata": {
    "id": "bCg_SkbeLQZ4"
   },
   "source": [
    "Sense check if it looks normal"
   ]
  },
  {
   "cell_type": "code",
   "execution_count": 31,
   "metadata": {
    "colab": {
     "base_uri": "https://localhost:8080/"
    },
    "id": "rkbtAse5UJ12",
    "outputId": "3bac84e4-c69b-4a43-e8af-323f315fe160"
   },
   "outputs": [
    {
     "data": {
      "text/plain": [
       "<AxesSubplot:ylabel='Frequency'>"
      ]
     },
     "execution_count": 31,
     "metadata": {},
     "output_type": "execute_result"
    },
    {
     "data": {
      "image/png": "[encoded data removed]",
      "text/plain": [
       "<Figure size 432x288 with 1 Axes>"
      ]
     },
     "metadata": {
      "needs_background": "light"
     },
     "output_type": "display_data"
    }
   ],
   "source": [
    "df.trip_distance.plot.hist()"
   ]
  },
  {
   "cell_type": "markdown",
   "metadata": {
    "id": "YDHNeBVuLUZ7"
   },
   "source": [
    "### Sense check payment fields"
   ]
  },
  {
   "cell_type": "markdown",
   "metadata": {
    "id": "onlhmitqTUz3"
   },
   "source": [
    "Let's also look at all the payment-related columns and check if they have outlier values (min, max)."
   ]
  },
  {
   "cell_type": "code",
   "execution_count": 32,
   "metadata": {
    "colab": {
     "base_uri": "https://localhost:8080/"
    },
    "id": "nAl9hC6oS675",
    "outputId": "06d172d3-75e1-458b-cd6d-c1a55929c89a"
   },
   "outputs": [
    {
     "data": {
      "text/html": [
       "<div>\n",
       "<style scoped>\n",
       "    .dataframe tbody tr th:only-of-type {\n",
       "        vertical-align: middle;\n",
       "    }\n",
       "\n",
       "    .dataframe tbody tr th {\n",
       "        vertical-align: top;\n",
       "    }\n",
       "\n",
       "    .dataframe thead th {\n",
       "        text-align: right;\n",
       "    }\n",
       "</style>\n",
       "<table border=\"1\" class=\"dataframe\">\n",
       "  <thead>\n",
       "    <tr style=\"text-align: right;\">\n",
       "      <th></th>\n",
       "      <th>fare_amount</th>\n",
       "      <th>tip_amount</th>\n",
       "      <th>tolls_amount</th>\n",
       "      <th>total_amount</th>\n",
       "    </tr>\n",
       "  </thead>\n",
       "  <tbody>\n",
       "    <tr>\n",
       "      <th>count</th>\n",
       "      <td>8970.000000</td>\n",
       "      <td>8970.000000</td>\n",
       "      <td>8970.000000</td>\n",
       "      <td>8970.000000</td>\n",
       "    </tr>\n",
       "    <tr>\n",
       "      <th>mean</th>\n",
       "      <td>29.555322</td>\n",
       "      <td>6.683725</td>\n",
       "      <td>2.149369</td>\n",
       "      <td>39.516242</td>\n",
       "    </tr>\n",
       "    <tr>\n",
       "      <th>std</th>\n",
       "      <td>9.373226</td>\n",
       "      <td>2.890261</td>\n",
       "      <td>2.902520</td>\n",
       "      <td>12.935230</td>\n",
       "    </tr>\n",
       "    <tr>\n",
       "      <th>min</th>\n",
       "      <td>-0.010000</td>\n",
       "      <td>-0.500000</td>\n",
       "      <td>0.000000</td>\n",
       "      <td>-1.310000</td>\n",
       "    </tr>\n",
       "    <tr>\n",
       "      <th>25%</th>\n",
       "      <td>24.000000</td>\n",
       "      <td>4.960000</td>\n",
       "      <td>0.000000</td>\n",
       "      <td>30.800000</td>\n",
       "    </tr>\n",
       "    <tr>\n",
       "      <th>50%</th>\n",
       "      <td>28.500000</td>\n",
       "      <td>6.360000</td>\n",
       "      <td>0.000000</td>\n",
       "      <td>38.160000</td>\n",
       "    </tr>\n",
       "    <tr>\n",
       "      <th>75%</th>\n",
       "      <td>34.000000</td>\n",
       "      <td>8.010000</td>\n",
       "      <td>5.760000</td>\n",
       "      <td>46.910000</td>\n",
       "    </tr>\n",
       "    <tr>\n",
       "      <th>max</th>\n",
       "      <td>230.000000</td>\n",
       "      <td>105.000000</td>\n",
       "      <td>21.300000</td>\n",
       "      <td>276.960000</td>\n",
       "    </tr>\n",
       "  </tbody>\n",
       "</table>\n",
       "</div>"
      ],
      "text/plain": [
       "       fare_amount   tip_amount  tolls_amount  total_amount\n",
       "count  8970.000000  8970.000000   8970.000000   8970.000000\n",
       "mean     29.555322     6.683725      2.149369     39.516242\n",
       "std       9.373226     2.890261      2.902520     12.935230\n",
       "min      -0.010000    -0.500000      0.000000     -1.310000\n",
       "25%      24.000000     4.960000      0.000000     30.800000\n",
       "50%      28.500000     6.360000      0.000000     38.160000\n",
       "75%      34.000000     8.010000      5.760000     46.910000\n",
       "max     230.000000   105.000000     21.300000    276.960000"
      ]
     },
     "execution_count": 32,
     "metadata": {},
     "output_type": "execute_result"
    }
   ],
   "source": [
    "df[[\"fare_amount\", \"tip_amount\", \"tolls_amount\", \"total_amount\"]].describe()"
   ]
  },
  {
   "cell_type": "code",
   "execution_count": 33,
   "metadata": {
    "colab": {
     "base_uri": "https://localhost:8080/"
    },
    "id": "S7SWJKoaYETI",
    "outputId": "aee81969-3d39-4aa8-8f51-c0a95fbe1421"
   },
   "outputs": [
    {
     "data": {
      "text/plain": [
       "<AxesSubplot:ylabel='Frequency'>"
      ]
     },
     "execution_count": 33,
     "metadata": {},
     "output_type": "execute_result"
    },
    {
     "data": {
      "image/png": "[encoded data removed]",
      "text/plain": [
       "<Figure size 432x288 with 1 Axes>"
      ]
     },
     "metadata": {
      "needs_background": "light"
     },
     "output_type": "display_data"
    }
   ],
   "source": [
    "df.fare_amount.plot.hist()"
   ]
  },
  {
   "cell_type": "markdown",
   "metadata": {
    "id": "GFO9HswQLYCv"
   },
   "source": [
    "Looks like there are outlier fares that were above $150. Depending on our use case we can choose to leave this in, remove them completely, or clip them."
   ]
  },
  {
   "cell_type": "markdown",
   "metadata": {
    "id": "cZYrvkmpYPoU"
   },
   "source": [
    "If we decide to clip them..."
   ]
  },
  {
   "cell_type": "code",
   "execution_count": 34,
   "metadata": {
    "id": "gzI8ht8QclHN"
   },
   "outputs": [],
   "source": [
    "df[\"fare_amount\"] = df[\"fare_amount\"].clip(upper=150)\n",
    "df[\"total_amount\"] = df[\"total_amount\"].clip(upper=200)"
   ]
  },
  {
   "cell_type": "markdown",
   "metadata": {
    "id": "fu3lK7PhTzzX"
   },
   "source": [
    "Let's get rid of the negative values also"
   ]
  },
  {
   "cell_type": "code",
   "execution_count": 35,
   "metadata": {
    "id": "CC5ZtuzQTXEI"
   },
   "outputs": [],
   "source": [
    "df[\"tip_amount\"] = df[\"tip_amount\"].clip(lower=0)\n",
    "df[\"fare_amount\"] = df[\"fare_amount\"].clip(lower=0)\n",
    "df[\"total_amount\"] = df[\"total_amount\"].clip(lower=0)"
   ]
  },
  {
   "cell_type": "markdown",
   "metadata": {
    "id": "csVdulbAdtCZ"
   },
   "source": [
    "# **Feature Engineering**\n",
    "\n",
    "![Screen Shot 2020-10-01 at 6.56.33 PM.png](data:image/png;base64,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)"
   ]
  },
  {
   "cell_type": "markdown",
   "metadata": {
    "id": "iRwx0yC0Yarh"
   },
   "source": [
    "There are multiple techniques for feature engineering:\n",
    "\n",
    "- **Decompose**: Converting 2014-09-20T20:45:40Z into categorical attributes like hour_of_the_day, part_of_day, etc.\n",
    "- **Discretization**: We can choose to either discretize some of the continuous variables we have, as some algorithms will perform faster.\n",
    "- **Reframe Numerical Quantities:** Changing from grams to kg, and losing detail might be both wanted and efficient for calculation\n",
    "- **Feature Crossing**: Creating new features as a combination of existing features. Could be multiplying numerical features, or combining categorical variables. This is a great way to add domain expertise knowledge to the dataset."
   ]
  },
  {
   "cell_type": "markdown",
   "metadata": {
    "id": "CR3FQKjPaf8_"
   },
   "source": [
    "## Decompose date features"
   ]
  },
  {
   "cell_type": "markdown",
   "metadata": {
    "id": "57MlQwOROGg9"
   },
   "source": [
    "### Make day of week and hour feature by assignment"
   ]
  },
  {
   "cell_type": "code",
   "execution_count": 36,
   "metadata": {
    "id": "W7HlA0audt4L"
   },
   "outputs": [],
   "source": [
    "# The day of the week with Monday=0, Sunday=6.\n",
    "\n",
    "df[\"pickup_day_of_week\"] = df[\"pickup_datetime\"].dt.dayofweek\n",
    "df[\"pickup_hour\"] = df[\"pickup_datetime\"].dt.hour"
   ]
  },
  {
   "cell_type": "markdown",
   "metadata": {
    "id": "xmJoaPIYakyK"
   },
   "source": [
    "## Discretize days of the week by making weekend feature with `df.loc`"
   ]
  },
  {
   "cell_type": "markdown",
   "metadata": {
    "id": "dfvhrrEWOtaB"
   },
   "source": [
    "In Pandas, 0 is Monday, 6 is Sunday"
   ]
  },
  {
   "cell_type": "code",
   "execution_count": 37,
   "metadata": {
    "id": "HsxeXzP-d8f0"
   },
   "outputs": [],
   "source": [
    "df.loc[df[\"pickup_day_of_week\"] >= 5, \"is_weekend\"] = 1\n",
    "df.loc[df[\"pickup_day_of_week\"] < 5, \"is_weekend\"] = 0"
   ]
  },
  {
   "cell_type": "markdown",
   "metadata": {
    "id": "hG7Hx2I3argc"
   },
   "source": [
    "## Make binary features"
   ]
  },
  {
   "cell_type": "markdown",
   "metadata": {
    "id": "-Pne11kkOdLF"
   },
   "source": [
    "### Make tip feature with `map`"
   ]
  },
  {
   "cell_type": "code",
   "execution_count": 38,
   "metadata": {
    "id": "6eZTWcTfkA_C"
   },
   "outputs": [],
   "source": [
    "def has_tip(tip):\n",
    "    if tip > 0:\n",
    "        return 1\n",
    "    return 0\n",
    "\n",
    "\n",
    "# Use map function on a Series i.e. can only use with one column\n",
    "df[\"has_tip\"] = df.tip_amount.map(has_tip)"
   ]
  },
  {
   "cell_type": "code",
   "execution_count": 39,
   "metadata": {
    "colab": {
     "base_uri": "https://localhost:8080/"
    },
    "id": "vJ8tbFgDRHDS",
    "outputId": "c92f926c-f2fe-4139-bd84-1560a8a033aa"
   },
   "outputs": [
    {
     "data": {
      "text/html": [
       "<div>\n",
       "<style scoped>\n",
       "    .dataframe tbody tr th:only-of-type {\n",
       "        vertical-align: middle;\n",
       "    }\n",
       "\n",
       "    .dataframe tbody tr th {\n",
       "        vertical-align: top;\n",
       "    }\n",
       "\n",
       "    .dataframe thead th {\n",
       "        text-align: right;\n",
       "    }\n",
       "</style>\n",
       "<table border=\"1\" class=\"dataframe\">\n",
       "  <thead>\n",
       "    <tr style=\"text-align: right;\">\n",
       "      <th></th>\n",
       "      <th>pickup_datetime</th>\n",
       "      <th>dropoff_datetime</th>\n",
       "      <th>passenger_count</th>\n",
       "      <th>trip_distance</th>\n",
       "      <th>rate_code</th>\n",
       "      <th>payment_type</th>\n",
       "      <th>fare_amount</th>\n",
       "      <th>tip_amount</th>\n",
       "      <th>tolls_amount</th>\n",
       "      <th>total_amount</th>\n",
       "      <th>pickup_location_id</th>\n",
       "      <th>dropoff_location_id</th>\n",
       "      <th>trip_duration</th>\n",
       "      <th>pickup_day_of_week</th>\n",
       "      <th>pickup_hour</th>\n",
       "      <th>is_weekend</th>\n",
       "      <th>has_tip</th>\n",
       "    </tr>\n",
       "  </thead>\n",
       "  <tbody>\n",
       "    <tr>\n",
       "      <th>16</th>\n",
       "      <td>2018-08-22 16:15:00</td>\n",
       "      <td>2018-08-22 16:52:00</td>\n",
       "      <td>1</td>\n",
       "      <td>6.50</td>\n",
       "      <td>1</td>\n",
       "      <td>1</td>\n",
       "      <td>25.5</td>\n",
       "      <td>5.45</td>\n",
       "      <td>0.00</td>\n",
       "      <td>32.75</td>\n",
       "      <td>163</td>\n",
       "      <td>244</td>\n",
       "      <td>37.0</td>\n",
       "      <td>2</td>\n",
       "      <td>16</td>\n",
       "      <td>0.0</td>\n",
       "      <td>1</td>\n",
       "    </tr>\n",
       "    <tr>\n",
       "      <th>17</th>\n",
       "      <td>2018-08-22 16:12:00</td>\n",
       "      <td>2018-08-22 16:49:00</td>\n",
       "      <td>1</td>\n",
       "      <td>4.90</td>\n",
       "      <td>1</td>\n",
       "      <td>1</td>\n",
       "      <td>24.0</td>\n",
       "      <td>6.45</td>\n",
       "      <td>0.00</td>\n",
       "      <td>32.25</td>\n",
       "      <td>161</td>\n",
       "      <td>13</td>\n",
       "      <td>37.0</td>\n",
       "      <td>2</td>\n",
       "      <td>16</td>\n",
       "      <td>0.0</td>\n",
       "      <td>1</td>\n",
       "    </tr>\n",
       "    <tr>\n",
       "      <th>18</th>\n",
       "      <td>2018-07-10 08:21:00</td>\n",
       "      <td>2018-07-10 08:43:00</td>\n",
       "      <td>2</td>\n",
       "      <td>8.50</td>\n",
       "      <td>1</td>\n",
       "      <td>1</td>\n",
       "      <td>26.0</td>\n",
       "      <td>4.88</td>\n",
       "      <td>5.76</td>\n",
       "      <td>37.44</td>\n",
       "      <td>17</td>\n",
       "      <td>233</td>\n",
       "      <td>22.0</td>\n",
       "      <td>1</td>\n",
       "      <td>8</td>\n",
       "      <td>0.0</td>\n",
       "      <td>1</td>\n",
       "    </tr>\n",
       "    <tr>\n",
       "      <th>19</th>\n",
       "      <td>2018-08-22 15:22:00</td>\n",
       "      <td>2018-08-22 15:57:00</td>\n",
       "      <td>1</td>\n",
       "      <td>10.40</td>\n",
       "      <td>1</td>\n",
       "      <td>1</td>\n",
       "      <td>33.0</td>\n",
       "      <td>10.40</td>\n",
       "      <td>0.00</td>\n",
       "      <td>45.20</td>\n",
       "      <td>233</td>\n",
       "      <td>128</td>\n",
       "      <td>35.0</td>\n",
       "      <td>2</td>\n",
       "      <td>15</td>\n",
       "      <td>0.0</td>\n",
       "      <td>1</td>\n",
       "    </tr>\n",
       "    <tr>\n",
       "      <th>20</th>\n",
       "      <td>2018-07-11 22:17:00</td>\n",
       "      <td>2018-07-11 22:37:00</td>\n",
       "      <td>2</td>\n",
       "      <td>7.88</td>\n",
       "      <td>1</td>\n",
       "      <td>1</td>\n",
       "      <td>24.5</td>\n",
       "      <td>5.16</td>\n",
       "      <td>0.00</td>\n",
       "      <td>30.96</td>\n",
       "      <td>140</td>\n",
       "      <td>25</td>\n",
       "      <td>20.0</td>\n",
       "      <td>2</td>\n",
       "      <td>22</td>\n",
       "      <td>0.0</td>\n",
       "      <td>1</td>\n",
       "    </tr>\n",
       "  </tbody>\n",
       "</table>\n",
       "</div>"
      ],
      "text/plain": [
       "       pickup_datetime    dropoff_datetime  passenger_count  trip_distance  \\\n",
       "16 2018-08-22 16:15:00 2018-08-22 16:52:00                1           6.50   \n",
       "17 2018-08-22 16:12:00 2018-08-22 16:49:00                1           4.90   \n",
       "18 2018-07-10 08:21:00 2018-07-10 08:43:00                2           8.50   \n",
       "19 2018-08-22 15:22:00 2018-08-22 15:57:00                1          10.40   \n",
       "20 2018-07-11 22:17:00 2018-07-11 22:37:00                2           7.88   \n",
       "\n",
       "    rate_code  payment_type  fare_amount  tip_amount  tolls_amount  \\\n",
       "16          1             1         25.5        5.45          0.00   \n",
       "17          1             1         24.0        6.45          0.00   \n",
       "18          1             1         26.0        4.88          5.76   \n",
       "19          1             1         33.0       10.40          0.00   \n",
       "20          1             1         24.5        5.16          0.00   \n",
       "\n",
       "    total_amount  pickup_location_id  dropoff_location_id  trip_duration  \\\n",
       "16         32.75                 163                  244           37.0   \n",
       "17         32.25                 161                   13           37.0   \n",
       "18         37.44                  17                  233           22.0   \n",
       "19         45.20                 233                  128           35.0   \n",
       "20         30.96                 140                   25           20.0   \n",
       "\n",
       "    pickup_day_of_week  pickup_hour  is_weekend  has_tip  \n",
       "16                   2           16         0.0        1  \n",
       "17                   2           16         0.0        1  \n",
       "18                   1            8         0.0        1  \n",
       "19                   2           15         0.0        1  \n",
       "20                   2           22         0.0        1  "
      ]
     },
     "execution_count": 39,
     "metadata": {},
     "output_type": "execute_result"
    }
   ],
   "source": [
    "df.head()"
   ]
  },
  {
   "cell_type": "markdown",
   "metadata": {
    "id": "jx8Y7HvPSpyW"
   },
   "source": [
    "### Alternative: Make tip feature with `np.where`"
   ]
  },
  {
   "cell_type": "markdown",
   "metadata": {
    "id": "yyTCu_0NStdj"
   },
   "source": [
    "This is using a function from NumPy - another module that is separate from but often used together with Pandas. \n",
    "\n",
    "`np.where( [Boolean condition], [value if true], [value if false] )`"
   ]
  },
  {
   "cell_type": "code",
   "execution_count": 40,
   "metadata": {
    "id": "SdfDhF0-Q6DT"
   },
   "outputs": [],
   "source": [
    "df[\"has_tip\"] = np.where(df[\"tip_amount\"] > 0, 1, 0)"
   ]
  },
  {
   "cell_type": "markdown",
   "metadata": {
    "id": "cA8msqW8axYj"
   },
   "source": [
    "### Make rush hour feature with `apply`"
   ]
  },
  {
   "cell_type": "code",
   "execution_count": 41,
   "metadata": {
    "id": "QBThMQ0teLbx"
   },
   "outputs": [],
   "source": [
    "def rush_hour(day_of_week, pickup_hour):\n",
    "    if (day_of_week < 5) and (16 <= pickup_hour <= 20):\n",
    "        return 1\n",
    "    return 0"
   ]
  },
  {
   "cell_type": "code",
   "execution_count": 42,
   "metadata": {
    "id": "lbc6ZQPRiR_0"
   },
   "outputs": [],
   "source": [
    "# Use apply / lambda functions for more than one column\n",
    "df[\"is_rush_hour\"] = df.apply(\n",
    "    lambda x: rush_hour(x[\"pickup_day_of_week\"], x[\"pickup_hour\"]), axis=1\n",
    ")"
   ]
  },
  {
   "cell_type": "markdown",
   "metadata": {
    "id": "LQFIJ_JPkpei"
   },
   "source": [
    "# **Save DF**\n",
    "\n",
    "Are we done? Sweet. 🤩\n",
    "![Screen Shot 2020-10-01 at 6.57.15 PM.png](data:image/png;base64,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)"
   ]
  },
  {
   "cell_type": "code",
   "execution_count": 43,
   "metadata": {
    "colab": {
     "base_uri": "https://localhost:8080/",
     "height": 609
    },
    "id": "lA-rD60mmfZ3",
    "outputId": "0578c0b8-c216-4a9f-8772-bc7a6d6e3739"
   },
   "outputs": [
    {
     "data": {
      "text/html": [
       "<div>\n",
       "<style scoped>\n",
       "    .dataframe tbody tr th:only-of-type {\n",
       "        vertical-align: middle;\n",
       "    }\n",
       "\n",
       "    .dataframe tbody tr th {\n",
       "        vertical-align: top;\n",
       "    }\n",
       "\n",
       "    .dataframe thead th {\n",
       "        text-align: right;\n",
       "    }\n",
       "</style>\n",
       "<table border=\"1\" class=\"dataframe\">\n",
       "  <thead>\n",
       "    <tr style=\"text-align: right;\">\n",
       "      <th></th>\n",
       "      <th>pickup_datetime</th>\n",
       "      <th>dropoff_datetime</th>\n",
       "      <th>passenger_count</th>\n",
       "      <th>trip_distance</th>\n",
       "      <th>rate_code</th>\n",
       "      <th>payment_type</th>\n",
       "      <th>fare_amount</th>\n",
       "      <th>tip_amount</th>\n",
       "      <th>tolls_amount</th>\n",
       "      <th>total_amount</th>\n",
       "      <th>pickup_location_id</th>\n",
       "      <th>dropoff_location_id</th>\n",
       "      <th>trip_duration</th>\n",
       "      <th>pickup_day_of_week</th>\n",
       "      <th>pickup_hour</th>\n",
       "      <th>is_weekend</th>\n",
       "      <th>has_tip</th>\n",
       "      <th>is_rush_hour</th>\n",
       "    </tr>\n",
       "  </thead>\n",
       "  <tbody>\n",
       "    <tr>\n",
       "      <th>16</th>\n",
       "      <td>2018-08-22 16:15:00</td>\n",
       "      <td>2018-08-22 16:52:00</td>\n",
       "      <td>1</td>\n",
       "      <td>6.50</td>\n",
       "      <td>1</td>\n",
       "      <td>1</td>\n",
       "      <td>25.5</td>\n",
       "      <td>5.45</td>\n",
       "      <td>0.00</td>\n",
       "      <td>32.75</td>\n",
       "      <td>163</td>\n",
       "      <td>244</td>\n",
       "      <td>37.0</td>\n",
       "      <td>2</td>\n",
       "      <td>16</td>\n",
       "      <td>0.0</td>\n",
       "      <td>1</td>\n",
       "      <td>1</td>\n",
       "    </tr>\n",
       "    <tr>\n",
       "      <th>17</th>\n",
       "      <td>2018-08-22 16:12:00</td>\n",
       "      <td>2018-08-22 16:49:00</td>\n",
       "      <td>1</td>\n",
       "      <td>4.90</td>\n",
       "      <td>1</td>\n",
       "      <td>1</td>\n",
       "      <td>24.0</td>\n",
       "      <td>6.45</td>\n",
       "      <td>0.00</td>\n",
       "      <td>32.25</td>\n",
       "      <td>161</td>\n",
       "      <td>13</td>\n",
       "      <td>37.0</td>\n",
       "      <td>2</td>\n",
       "      <td>16</td>\n",
       "      <td>0.0</td>\n",
       "      <td>1</td>\n",
       "      <td>1</td>\n",
       "    </tr>\n",
       "    <tr>\n",
       "      <th>18</th>\n",
       "      <td>2018-07-10 08:21:00</td>\n",
       "      <td>2018-07-10 08:43:00</td>\n",
       "      <td>2</td>\n",
       "      <td>8.50</td>\n",
       "      <td>1</td>\n",
       "      <td>1</td>\n",
       "      <td>26.0</td>\n",
       "      <td>4.88</td>\n",
       "      <td>5.76</td>\n",
       "      <td>37.44</td>\n",
       "      <td>17</td>\n",
       "      <td>233</td>\n",
       "      <td>22.0</td>\n",
       "      <td>1</td>\n",
       "      <td>8</td>\n",
       "      <td>0.0</td>\n",
       "      <td>1</td>\n",
       "      <td>0</td>\n",
       "    </tr>\n",
       "    <tr>\n",
       "      <th>19</th>\n",
       "      <td>2018-08-22 15:22:00</td>\n",
       "      <td>2018-08-22 15:57:00</td>\n",
       "      <td>1</td>\n",
       "      <td>10.40</td>\n",
       "      <td>1</td>\n",
       "      <td>1</td>\n",
       "      <td>33.0</td>\n",
       "      <td>10.40</td>\n",
       "      <td>0.00</td>\n",
       "      <td>45.20</td>\n",
       "      <td>233</td>\n",
       "      <td>128</td>\n",
       "      <td>35.0</td>\n",
       "      <td>2</td>\n",
       "      <td>15</td>\n",
       "      <td>0.0</td>\n",
       "      <td>1</td>\n",
       "      <td>0</td>\n",
       "    </tr>\n",
       "    <tr>\n",
       "      <th>20</th>\n",
       "      <td>2018-07-11 22:17:00</td>\n",
       "      <td>2018-07-11 22:37:00</td>\n",
       "      <td>2</td>\n",
       "      <td>7.88</td>\n",
       "      <td>1</td>\n",
       "      <td>1</td>\n",
       "      <td>24.5</td>\n",
       "      <td>5.16</td>\n",
       "      <td>0.00</td>\n",
       "      <td>30.96</td>\n",
       "      <td>140</td>\n",
       "      <td>25</td>\n",
       "      <td>20.0</td>\n",
       "      <td>2</td>\n",
       "      <td>22</td>\n",
       "      <td>0.0</td>\n",
       "      <td>1</td>\n",
       "      <td>0</td>\n",
       "    </tr>\n",
       "  </tbody>\n",
       "</table>\n",
       "</div>"
      ],
      "text/plain": [
       "       pickup_datetime    dropoff_datetime  passenger_count  trip_distance  \\\n",
       "16 2018-08-22 16:15:00 2018-08-22 16:52:00                1           6.50   \n",
       "17 2018-08-22 16:12:00 2018-08-22 16:49:00                1           4.90   \n",
       "18 2018-07-10 08:21:00 2018-07-10 08:43:00                2           8.50   \n",
       "19 2018-08-22 15:22:00 2018-08-22 15:57:00                1          10.40   \n",
       "20 2018-07-11 22:17:00 2018-07-11 22:37:00                2           7.88   \n",
       "\n",
       "    rate_code  payment_type  fare_amount  tip_amount  tolls_amount  \\\n",
       "16          1             1         25.5        5.45          0.00   \n",
       "17          1             1         24.0        6.45          0.00   \n",
       "18          1             1         26.0        4.88          5.76   \n",
       "19          1             1         33.0       10.40          0.00   \n",
       "20          1             1         24.5        5.16          0.00   \n",
       "\n",
       "    total_amount  pickup_location_id  dropoff_location_id  trip_duration  \\\n",
       "16         32.75                 163                  244           37.0   \n",
       "17         32.25                 161                   13           37.0   \n",
       "18         37.44                  17                  233           22.0   \n",
       "19         45.20                 233                  128           35.0   \n",
       "20         30.96                 140                   25           20.0   \n",
       "\n",
       "    pickup_day_of_week  pickup_hour  is_weekend  has_tip  is_rush_hour  \n",
       "16                   2           16         0.0        1             1  \n",
       "17                   2           16         0.0        1             1  \n",
       "18                   1            8         0.0        1             0  \n",
       "19                   2           15         0.0        1             0  \n",
       "20                   2           22         0.0        1             0  "
      ]
     },
     "execution_count": 43,
     "metadata": {},
     "output_type": "execute_result"
    }
   ],
   "source": [
    "df.head(5)"
   ]
  },
  {
   "cell_type": "code",
   "execution_count": 45,
   "metadata": {
    "id": "UA0YHxhykqJY"
   },
   "outputs": [],
   "source": [
    "df.to_csv(\"../../../data/data_cleaned.csv\", index=False)"
   ]
  },
  {
   "cell_type": "markdown",
   "metadata": {
    "id": "2UuoJ7rlctgZ"
   },
   "source": [
    "# **Final notes**"
   ]
  },
  {
   "cell_type": "markdown",
   "metadata": {
    "id": "kM3MlYRP3FDg"
   },
   "source": [
    "## **Other things you can do with Pandas**\n",
    "- Read BQ data (`pd.read_gbq()`)\n",
    "- Styling/Conditional foramtting\n",
    "- Data visualization (also with `matplotlib` or `seaborn`)\n",
    "- so much tbh"
   ]
  },
  {
   "cell_type": "markdown",
   "metadata": {
    "id": "HR6pyMDI3SkK"
   },
   "source": [
    "## **Learn Pandas!**\n",
    "\n",
    "\n",
    "1. [Pandas documentation](https://pandas.pydata.org/docs/index.html) is useful when you're searching for specific functions. Google/StackOverflow are your friends too!\n",
    "2. [10 minute intro](https://pandas.pydata.org/pandas-docs/stable/user_guide/10min.html) from Pandas developers (warning: brief explanations, not easy for coding beginners)\n",
    "3. DataQuest articles: [Part 1](https://www.dataquest.io/blog/pandas-python-tutorial/) | [Part 2](https://www.dataquest.io/blog/pandas-tutorial-python-2/)\n",
    "4. [DataCamp](https://www.datacamp.com/community/tutorials/pandas-tutorial-dataframe-python)"
   ]
  },
  {
   "cell_type": "markdown",
   "metadata": {
    "id": "HVRiPPLz4MlJ"
   },
   "source": [
    "## **Some EDA reads to start with**\n",
    "Read other people's code / notebooks / blog posts!\n",
    "1. [This notebook](https://github.com/dformoso/sklearn-classification/blob/master/Data%20Science%20Workbook%20-%20Census%20Income%20Dataset.ipynb) for EDA on US Census Income data\n",
    "2. [Gentle Introduction to EDA](https://towardsdatascience.com/a-gentle-introduction-to-exploratory-data-analysis-f11d843b8184) on Medium/Towards Data Science"
   ]
  },
  {
   "cell_type": "markdown",
   "metadata": {
    "id": "eJKMOyYu4poo"
   },
   "source": [
    "## Install Pandas on your local (your laptop)\n",
    "\n",
    "Two options:\n",
    "1. Install [Python 3](https://www.python.org/downloads/) and [pip](https://pip.pypa.io/en/stable/installing/). Then on your terminal/command line, execute `pip install pandas`. You can now `import pandas` in a Python script or notebook\n",
    "2. Easier for beginners: Install [Anaconda](https://www.anaconda.com/) which gives you access to notebooks - pandas is already built in.\n",
    "\n",
    "### Some resources for best coding practices\n",
    "1. [PEP 8](https://www.python.org/dev/peps/pep-0008/) is the style guide for writing Python code \n",
    "2. Use virtual environments. See [this blog for a gentle introduction](https://medium.com/@dakota.lillie/an-introduction-to-virtual-environments-in-python-ce16cda92853)\n",
    "3. If you want a more formal approach, you can try reading on popular Python resources like *Learning Python3 The Hard Way* or *Automate the Boring Stuff*. "
   ]
  }
 ],
 "metadata": {
  "colab": {
   "collapsed_sections": [
    "GQMqj7z2QCWR",
    "sIaQqx0fQHik",
    "A1hu6Y5leMUA",
    "9cLimoU_Pg3c",
    "Z8usvB4Xje1l",
    "p9nOvvl-536N",
    "g35loW4zPi9y",
    "ZDgBbEL06AeC",
    "_e1KfM4laMx3",
    "SW2MPsP2f-CR",
    "xfwdDWNm7O84",
    "N6nW0upv31hm",
    "sQYk1XMwWrZx",
    "0Y-zPB2xWg-K",
    "csVdulbAdtCZ",
    "LQFIJ_JPkpei",
    "4yPcTKMUMLE_",
    "u6FCfTO2fob1",
    "1th1_hMVfvW6"
   ],
   "name": "Data Wrangling.ipynb",
   "provenance": []
  },
  "interpreter": {
   "hash": "5661ac96d0998d8c72658533ed2c52e5be0a3dac4589c1a4999d503dca8d4e11"
  },
  "kernelspec": {
   "display_name": "Python 3.8.5 64-bit ('.venv': poetry)",
   "name": "python3"
  },
  "language_info": {
   "codemirror_mode": {
    "name": "ipython",
    "version": 3
   },
   "file_extension": ".py",
   "mimetype": "text/x-python",
   "name": "python",
   "nbconvert_exporter": "python",
   "pygments_lexer": "ipython3",
   "version": "3.8.5"
  }
 },
 "nbformat": 4,
 "nbformat_minor": 2
}
